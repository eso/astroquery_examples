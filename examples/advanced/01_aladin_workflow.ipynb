{
 "cells": [
  {
   "cell_type": "markdown",
   "metadata": {},
   "source": [
    "<hr style=\"border:2px solid #0281c9\"> </hr>\n",
    "\n",
    "<img align=\"left\" alt=\"ESO Logo\" src=\"http://archive.eso.org/i/esologo.png\">  \n",
    "\n",
    "<div align=\"center\">\n",
    "  <h1 style=\"color: #0281c9; font-weight: bold;\">ESO Science Archive</h1> \n",
    "  <h2 style=\"color: #0281c9; font-weight: bold;\">Jupyter Notebooks</h2>\n",
    "</div>\n",
    "\n",
    "<hr style=\"border:2px solid #0281c9\"> </hr>\n",
    "\n",
    "# **Aladin Lite HiPS Viewer — Interactive Exploration of ESO Surveys**\n",
    "\n",
    "This notebook demonstrates an interactive astronomical image viewer powered by the [Aladin Lite](https://aladin.u-strasbg.fr/AladinLite/) widget. It is tailored for exploring **HiPS (Hierarchical Progressive Survey)** data directly within a Jupyter Notebook, including multi-wavelength overlays and real-time manipulation of the field of view.\n",
    "\n",
    "---\n",
    "\n",
    "### 🌍 Features\n",
    "\n",
    "* **Target Search**: Quickly jump to any object by name (e.g., `NGC 4535`) or by coordinates.\n",
    "* **Multi-Survey Image Viewer**: Choose between popular survey backgrounds (e.g., DSS2, SDSS, PanSTARRS, and ESO HiPS previews).\n",
    "* **Overlay Options**: Visualize additional datasets such as:\n",
    "\n",
    "  * Infrared (2MASS, WISE)\n",
    "  * X-ray (XMM-Newton)\n",
    "  * UV (GALEX)\n",
    "  * Radio (VLASS)\n",
    "  * JWST and Herschel imaging\n",
    "* **Opacity & Zoom Controls**: Fine-tune the appearance of overlays and field-of-view (FOV).\n",
    "* **ESO Integration**: Display previews from ESO’s HiPS service (when a `dp_id` is known).\n",
    "\n",
    "---\n",
    "\n",
    "### 🎯 Use Case\n",
    "\n",
    "This viewer is particularly suited for:\n",
    "\n",
    "* **Quick visual inspection** of data coverage and context\n",
    "* **Multi-wavelength comparison** for a given field or object\n",
    "* **Educational outreach** or interactive tutorials\n",
    "* Supporting data exploration from large ESO programs or public surveys\n",
    "\n",
    "---\n",
    "\n",
    "### 🧰 Requirements\n",
    "\n",
    "Make sure to install the following packages:\n",
    "\n",
    "```bash\n",
    "pip install ipywidgets ipyaladin\n",
    "```\n",
    "\n",
    "Enable widgets in your notebook interface:\n",
    "\n",
    "```bash\n",
    "jupyter nbextension enable --py widgetsnbextension\n",
    "```\n",
    "\n",
    "---\n",
    "\n",
    "### 📌 Tip\n",
    "\n",
    "You can easily extend this notebook by:\n",
    "\n",
    "* Adding marker overlays or catalog layers (e.g., SIMBAD, VizieR)\n",
    "* Integrating direct queries from the ESO archive using `astroquery.eso`\n",
    "* Exporting snapshots or sharing interactive notebooks\n",
    "\n",
    "<hr style=\"border:2px solid #0281c9\"> </hr>"
   ]
  },
  {
   "cell_type": "code",
   "execution_count": 1,
   "metadata": {},
   "outputs": [
    {
     "name": "stdout",
     "output_type": "stream",
     "text": [
      "astroquery version: 0.4.11.dev10245\n"
     ]
    }
   ],
   "source": [
    "import astroquery # import astroquery\n",
    "print(f\"astroquery version: {astroquery.__version__}\") # check the version of astroquery"
   ]
  },
  {
   "cell_type": "code",
   "execution_count": 2,
   "metadata": {},
   "outputs": [],
   "source": [
    "from astroquery.eso import Eso # import the ESO module from astroquery"
   ]
  },
  {
   "cell_type": "code",
   "execution_count": 3,
   "metadata": {},
   "outputs": [],
   "source": [
    "eso = Eso() # create an instance of the ESO class "
   ]
  },
  {
   "cell_type": "code",
   "execution_count": 4,
   "metadata": {},
   "outputs": [],
   "source": [
    "eso.maxrec = 100    # For this example we limit the number of records to 3"
   ]
  },
  {
   "cell_type": "markdown",
   "metadata": {},
   "source": [
    "# **Performing a Small Cone Search**"
   ]
  },
  {
   "cell_type": "code",
   "execution_count": 5,
   "metadata": {},
   "outputs": [
    {
     "data": {
      "text/html": [
       "<div><i>Table length=3</i>\n",
       "<table id=\"table4476038208\" class=\"table-striped table-bordered table-condensed\">\n",
       "<thead><tr><th>target_name</th><th>s_ra</th><th>s_dec</th><th>dp_id</th><th>proposal_id</th><th>abmaglim</th><th>access_estsize</th><th>access_format</th><th>access_url</th><th>bib_reference</th><th>calib_level</th><th>dataproduct_subtype</th><th>dataproduct_type</th><th>em_max</th><th>em_min</th><th>em_res_power</th><th>em_xel</th><th>facility_name</th><th>filter</th><th>gal_lat</th><th>gal_lon</th><th>instrument_name</th><th>last_mod_date</th><th>multi_ob</th><th>n_obs</th><th>o_calib_status</th><th>o_ucd</th><th>obs_collection</th><th>obs_creator_did</th><th>obs_creator_name</th><th>obs_id</th><th>obs_publisher_did</th><th>obs_release_date</th><th>obs_title</th><th>obstech</th><th>p3orig</th><th>pol_states</th><th>pol_xel</th><th>preview_html</th><th>publication_date</th><th>release_description</th><th>s_fov</th><th>s_pixel_scale</th><th>s_region</th><th>s_resolution</th><th>s_xel1</th><th>s_xel2</th><th>snr</th><th>strehl</th><th>t_exptime</th><th>t_max</th><th>t_min</th><th>t_resolution</th><th>t_xel</th></tr></thead>\n",
       "<thead><tr><th></th><th>deg</th><th>deg</th><th></th><th></th><th>mag</th><th>kbyte</th><th></th><th></th><th></th><th></th><th></th><th></th><th>m</th><th>m</th><th></th><th></th><th></th><th></th><th>deg</th><th>deg</th><th></th><th></th><th></th><th></th><th></th><th></th><th></th><th></th><th></th><th></th><th></th><th></th><th></th><th></th><th></th><th></th><th></th><th></th><th></th><th></th><th>deg</th><th>arcsec</th><th></th><th>arcsec</th><th></th><th></th><th></th><th></th><th>s</th><th>d</th><th>d</th><th>s</th><th></th></tr></thead>\n",
       "<thead><tr><th>object</th><th>float64</th><th>float64</th><th>object</th><th>object</th><th>float64</th><th>int64</th><th>object</th><th>object</th><th>object</th><th>int32</th><th>object</th><th>object</th><th>float64</th><th>float64</th><th>float64</th><th>int64</th><th>object</th><th>object</th><th>float64</th><th>float64</th><th>object</th><th>object</th><th>object</th><th>int32</th><th>object</th><th>object</th><th>object</th><th>object</th><th>object</th><th>object</th><th>object</th><th>object</th><th>object</th><th>object</th><th>object</th><th>object</th><th>int64</th><th>object</th><th>object</th><th>object</th><th>float64</th><th>float64</th><th>object</th><th>float64</th><th>int64</th><th>int64</th><th>float64</th><th>float64</th><th>float64</th><th>float64</th><th>float64</th><th>float64</th><th>int64</th></tr></thead>\n",
       "<tr><td>NGC4535_Pri01</td><td>188.576744</td><td>8.19195</td><td>ADP.2021-07-16T10:20:56.513</td><td>1100.B-0651(B)</td><td>0.0</td><td>18541840</td><td>application/x-votable+xml;content=datalink</td><td>http://archive.eso.org/datalink/links?ID=ivo://eso.org/ID?ADP.2021-07-16T10:20:56.513</td><td></td><td>3</td><td>ifs</td><td>cube</td><td>9.3475e-07</td><td>4.7025e-07</td><td>2830.0</td><td>3761</td><td>ESO-VLT-U4</td><td></td><td>70.634098</td><td>290.052019</td><td>MUSE</td><td>2022-11-21T12:47:36.693Z</td><td>M</td><td>24</td><td>absolute</td><td></td><td>PHANGS</td><td>ivo://eso.org/origfile?NGC4535_PHANGS_DATACUBE_copt_0.56asec.fits</td><td>SCHINNERER, E.</td><td>1989493, 1989498, 1989502, 1989506, 1989510, 1989514</td><td>ivo://eso.org/ID?ADP.2021-07-16T10:20:56.513</td><td>2021-07-16T11:12:31Z</td><td></td><td>IFU</td><td>EDP</td><td></td><td>--</td><td>https://archive.eso.org/dataset/ADP.2021-07-16T10:20:56.513</td><td>2021-07-16T15:16:57Z</td><td>http://www.eso.org/rm/api/v1/public/releaseDescriptions/184</td><td>0.06031044666</td><td>0.2</td><td>UNION J2000 (POLYGON J2000 188.602045 8.167384 188.567809 8.167385 188.567808 8.217274 188.602048 8.217273 POLYGON J2000 188.602045 8.167384 188.567809 8.167385 188.567808 8.217274 188.602048 8.217273)</td><td>0.56</td><td>1220</td><td>1220</td><td>--</td><td>--</td><td>2580.0</td><td>58255.0399384</td><td>58217.13771896</td><td>3274751.759616</td><td>--</td></tr>\n",
       "<tr><td>NGC4535_Pri01</td><td>188.576744</td><td>8.19195</td><td>ADP.2021-07-16T10:20:56.519</td><td>1100.B-0651(B)</td><td>0.0</td><td>18541837</td><td>application/x-votable+xml;content=datalink</td><td>http://archive.eso.org/datalink/links?ID=ivo://eso.org/ID?ADP.2021-07-16T10:20:56.519</td><td></td><td>3</td><td>ifs</td><td>cube</td><td>9.35e-07</td><td>4.7e-07</td><td>2830.0</td><td>3761</td><td>ESO-VLT-U4</td><td></td><td>70.634098</td><td>290.052019</td><td>MUSE</td><td>2022-11-21T12:47:36.770Z</td><td>M</td><td>24</td><td>absolute</td><td></td><td>PHANGS</td><td>ivo://eso.org/origfile?NGC4535_PHANGS_DATACUBE_native.fits</td><td>SCHINNERER, E.</td><td>1989493, 1989498, 1989502, 1989506, 1989510, 1989514</td><td>ivo://eso.org/ID?ADP.2021-07-16T10:20:56.519</td><td>2021-07-16T12:12:31Z</td><td></td><td>IFU</td><td>EDP</td><td></td><td>--</td><td>https://archive.eso.org/dataset/ADP.2021-07-16T10:20:56.519</td><td>2021-07-16T15:16:57Z</td><td>http://www.eso.org/rm/api/v1/public/releaseDescriptions/184</td><td>0.06031044666</td><td>0.2</td><td>UNION J2000 (POLYGON J2000 188.602045 8.167384 188.567809 8.167385 188.567808 8.217274 188.602048 8.217273 POLYGON J2000 188.602045 8.167384 188.567809 8.167385 188.567808 8.217274 188.602048 8.217273)</td><td>0.433</td><td>1220</td><td>1220</td><td>--</td><td>--</td><td>2580.0</td><td>58255.0399384</td><td>58217.13771896</td><td>3274751.759616</td><td>--</td></tr>\n",
       "<tr><td>NGC4535_Pri01</td><td>188.576744</td><td>8.19195</td><td>ADP.2025-05-14T09:12:30.243</td><td>1100.B-0651(B)</td><td>0.0</td><td>1203</td><td>application/x-votable+xml;content=datalink</td><td>http://archive.eso.org/datalink/links?ID=ivo://eso.org/ID?ADP.2025-05-14T09:12:30.243</td><td>2023MNRAS.520.4902G</td><td>4</td><td>catalogtile</td><td>measurements</td><td>9.3475e-07</td><td>4.7025e-07</td><td>1.5123789310455322</td><td>--</td><td>ESO-VLT-U4</td><td></td><td>70.634098</td><td>290.052018</td><td>MUSE</td><td>2025-05-14T11:02:40.963Z</td><td>M</td><td>1</td><td></td><td></td><td>PHANGS</td><td>ivo://eso.org/origfile?NGC4535_catalog.fits</td><td>SCHINNERER, E.</td><td>1989493, 1989498, 1989502, 1989506, 1989510, 1989514</td><td>ivo://eso.org/ID?ADP.2025-05-14T09:12:30.243</td><td>2025-05-14T10:58:26Z</td><td></td><td>IFU</td><td>EDP</td><td></td><td>--</td><td>https://archive.eso.org/dataset/ADP.2025-05-14T09:12:30.243</td><td>2025-05-14T10:58:27Z</td><td>http://www.eso.org/rm/api/v1/public/releaseDescriptions/235</td><td>0.06023380944</td><td>--</td><td>POLYGON J2000 188.602017 8.167412 188.567837 8.167412 188.567835 8.217246 188.60202 8.217245</td><td>--</td><td>--</td><td>--</td><td>--</td><td>--</td><td>--</td><td>58255.03993839</td><td>58217.13771896</td><td>3274751.758752</td><td>--</td></tr>\n",
       "</table></div>"
      ],
      "text/plain": [
       "<Table length=3>\n",
       " target_name     s_ra     s_dec  ...     t_min       t_resolution  t_xel\n",
       "                 deg       deg   ...       d              s             \n",
       "    object     float64   float64 ...    float64        float64     int64\n",
       "------------- ---------- ------- ... -------------- -------------- -----\n",
       "NGC4535_Pri01 188.576744 8.19195 ... 58217.13771896 3274751.759616    --\n",
       "NGC4535_Pri01 188.576744 8.19195 ... 58217.13771896 3274751.759616    --\n",
       "NGC4535_Pri01 188.576744 8.19195 ... 58217.13771896 3274751.758752    --"
      ]
     },
     "execution_count": 5,
     "metadata": {},
     "output_type": "execute_result"
    }
   ],
   "source": [
    "from astropy.coordinates import SkyCoord # import the SkyCoord class from the astropy.coordinates module\n",
    "import astropy.units as u # import the astropy.units module\n",
    "\n",
    "target = \"NGC4535\" # set the target \n",
    "coords = SkyCoord.from_name(target) # create a SkyCoord object from the name of the source \n",
    "radius = 2 *u.arcsec # set the radius of the search \n",
    "\n",
    "table_reduced = eso.query_surveys(\"PHANGS\",\n",
    "                                cone_ra=coords.ra.value, \n",
    "                                cone_dec=coords.dec.value, \n",
    "                                cone_radius=radius.to(\"deg\").value) # query the ESO archive for HAWKI data\n",
    "\n",
    "table_reduced[\"target_name\", \"s_ra\", \"s_dec\", \"proposal_id\", \"instrument_name\", \"dp_id\", \"release_description\"][:3] # print the first 3 rows of the table\n",
    "table_reduced"
   ]
  },
  {
   "cell_type": "markdown",
   "metadata": {},
   "source": [
    "## **Aladin Preview**"
   ]
  },
  {
   "cell_type": "code",
   "execution_count": 6,
   "metadata": {},
   "outputs": [],
   "source": [
    "from ipyaladin import Aladin # Aladin Lite widget for Jupyter notebooks"
   ]
  },
  {
   "cell_type": "markdown",
   "metadata": {},
   "source": [
    "### **Simple Aladin Lite Viewer**\n",
    "\n",
    "Here we show a simple Aladin Lite viewer covering the source with the default survey image (DSS2 color)."
   ]
  },
  {
   "cell_type": "code",
   "execution_count": 7,
   "metadata": {},
   "outputs": [
    {
     "data": {
      "application/vnd.jupyter.widget-view+json": {
       "model_id": "44caf0a0e5bc46f090c4444f3d051b2f",
       "version_major": 2,
       "version_minor": 1
      },
      "text/plain": [
       "Aladin()"
      ]
     },
     "execution_count": 7,
     "metadata": {},
     "output_type": "execute_result"
    }
   ],
   "source": [
    "aladin = Aladin(fov=0.5, # Field of view in degrees\n",
    "                target=target, # Target to display\n",
    "                ) \n",
    "aladin"
   ]
  },
  {
   "cell_type": "markdown",
   "metadata": {},
   "source": [
    "### **Simple Aladin Lite HiPS Viewer**\n",
    "\n",
    "Here we show a simple Aladin Lite viewer covering the source but now showing the ESO HiPS preview image (white-light image). "
   ]
  },
  {
   "cell_type": "code",
   "execution_count": 8,
   "metadata": {},
   "outputs": [
    {
     "data": {
      "application/vnd.jupyter.widget-view+json": {
       "model_id": "d4390d62dcf04029b1e5c0ca1a7cb52b",
       "version_major": 2,
       "version_minor": 1
      },
      "text/plain": [
       "Aladin(survey='https://archive.eso.org/previews/v1/files/ADP.2021-07-16T10:20:56.513/hips')"
      ]
     },
     "execution_count": 8,
     "metadata": {},
     "output_type": "execute_result"
    }
   ],
   "source": [
    "dp_id = table_reduced[\"dp_id\"][0] # get the first data product ID from the table\n",
    "hips_url = f\"https://archive.eso.org/previews/v1/files/{dp_id}/hips\" \n",
    "\n",
    "aladin = Aladin(fov=0.5, # Field of view in degrees\n",
    "                target=target, # Target to display\n",
    "                survey=hips_url, # HIPS URL to display\n",
    "                )\n",
    "aladin"
   ]
  },
  {
   "cell_type": "markdown",
   "metadata": {},
   "source": [
    "### **Simple Aladin Lite Viewer with Linked widgets**\n",
    "\n",
    "Here we show a simple Aladin Lite viewer covering the source but now showing the ESO HiPS preview image (white-light image). The viewer is linked to compare between different surveys. Try moving one of the views and the others will follow!"
   ]
  },
  {
   "cell_type": "code",
   "execution_count": 9,
   "metadata": {},
   "outputs": [
    {
     "data": {
      "application/vnd.jupyter.widget-view+json": {
       "model_id": "09df5a8d86bd44d290804fd9beb1cfa4",
       "version_major": 2,
       "version_minor": 0
      },
      "text/plain": [
       "Box(children=(Aladin(layout=Layout(width='20%'), survey='P/DSS2/color'), Aladin(layout=Layout(width='20%'), su…"
      ]
     },
     "execution_count": 9,
     "metadata": {},
     "output_type": "execute_result"
    }
   ],
   "source": [
    "def show_aladin_linked(target, fov=0.025, dp_id=None):\n",
    "    \"\"\"\n",
    "    Display Aladin Lite views from multiple surveys side-by-side, synchronized in target and field-of-view (FoV).\n",
    "\n",
    "    By default, four standard public surveys are shown. If a DP-ID is provided, a fifth panel is added\n",
    "    showing the ESO HiPS preview for that Phase 3 product.\n",
    "\n",
    "    Parameters\n",
    "    ----------\n",
    "    target : str\n",
    "        The sky position (object name or coordinates) to center all viewers on.\n",
    "    fov : float, optional\n",
    "        Field of view in degrees (default: 0.025).\n",
    "    dp_id : str or None, optional\n",
    "        If provided, adds a fifth panel with the ESO HiPS preview (e.g. white-light image) for the given Phase 3 DP-ID.\n",
    "\n",
    "    Returns\n",
    "    -------\n",
    "    ipywidgets.Box\n",
    "        A horizontal widget containing the synchronized Aladin viewers.\n",
    "\n",
    "    Notes\n",
    "    -----\n",
    "    - All viewers are synchronized in both target and zoom level.\n",
    "    - The layout automatically adjusts panel widths based on the number of surveys.\n",
    "    - DP-ID is the unique ESO file identifier (e.g. 'ADP.2017-09-19T14:57:26.141').\n",
    "    \"\"\"\n",
    "    from ipyaladin import Aladin\n",
    "    from ipywidgets import Layout, Box, widgets\n",
    "\n",
    "    # Default surveys\n",
    "    surveys = [\n",
    "        \"P/DSS2/color\",\n",
    "        \"P/SDSS9/color-alt\",\n",
    "        \"P/PanSTARRS/DR1/color-i-r-g\",\n",
    "        \"P/PanSTARRS/DR1/color-z-zg-g\"\n",
    "    ]\n",
    "\n",
    "    if dp_id:\n",
    "        hips_url = f\"https://archive.eso.org/previews/v1/files/{dp_id}/hips\" \n",
    "        surveys.append(hips_url)\n",
    "\n",
    "    width_percent = f\"{100 // len(surveys)}%\"\n",
    "\n",
    "    cosmetic_options = {\n",
    "        \"show_projection_control\": False,\n",
    "        \"show_fullscreen_control\": False,\n",
    "        \"show_zoom_control\": False,\n",
    "        \"show_share_control\": False,\n",
    "        \"show_simbad_pointer_control\": False,\n",
    "        \"show_coo_grid_control\": False,\n",
    "        \"show_settings_control\": False,\n",
    "        \"show_context_menu\": False,\n",
    "        \"reticle\": False\n",
    "    }\n",
    "    \n",
    "    viewers = [\n",
    "        Aladin(layout=Layout(width=width_percent), target=target, survey=survey, fov=fov, **cosmetic_options)\n",
    "        for survey in surveys\n",
    "    ]\n",
    "\n",
    "    # Link targets and FoVs between all viewers\n",
    "    for i in range(len(viewers) - 1):\n",
    "        widgets.jslink((viewers[i], \"_target\"), (viewers[i + 1], \"_target\"))\n",
    "        widgets.jslink((viewers[i], \"_fov\"), (viewers[i + 1], \"_fov\"))\n",
    "\n",
    "    box_layout = Layout(display=\"flex\", flex_flow=\"row\", align_items=\"stretch\", border=\"solid\", width=\"100%\")\n",
    "    return Box(children=viewers, layout=box_layout)\n",
    "\n",
    "show_aladin_linked(target, dp_id=table_reduced[\"dp_id\"][0], fov=0.1)"
   ]
  },
  {
   "cell_type": "code",
   "execution_count": 10,
   "metadata": {},
   "outputs": [
    {
     "data": {
      "application/vnd.jupyter.widget-view+json": {
       "model_id": "38a37a4f97fa4f1dacc0ee07e9cf4cdf",
       "version_major": 2,
       "version_minor": 0
      },
      "text/plain": [
       "VBox(children=(Aladin(survey='https://archive.eso.org/previews/v1/files/ADP.2021-07-16T10:20:56.513/hips'), To…"
      ]
     },
     "execution_count": 10,
     "metadata": {},
     "output_type": "execute_result"
    }
   ],
   "source": [
    "def show_aladin_widgets(target, fov=0.025, dp_id=None):\n",
    "\n",
    "    import ipywidgets as widgets\n",
    "    import time\n",
    "\n",
    "    hips_url = f\"https://archive.eso.org/previews/v1/files/{dp_id}/hips\" \n",
    "\n",
    "    aladin = Aladin(fov=fov, # Field of view in degrees\n",
    "                    target=target, # Target to display\n",
    "                    survey=hips_url, # HIPS URL to display\n",
    "                    )\n",
    "\n",
    "    survey_selector = widgets.ToggleButtons(\n",
    "        options=[\n",
    "            (\"ESO HiPS preview\", hips_url),\n",
    "            (\"DSS2 color\", \"P/DSS2/color\"),\n",
    "            (\"SDSS9 color-alt\", \"P/SDSS9/color-alt\"),\n",
    "            (\"PanSTARRS i-r-g\", \"P/PanSTARRS/DR1/color-i-r-g\"),\n",
    "            (\"PanSTARRS z-zg-g\", \"P/PanSTARRS/DR1/color-z-zg-g\"),\n",
    "            (\"2MASS color\", \"P/2MASS/color\"),\n",
    "            (\"Chandra color\", \"P/cda/hips/allsky/rgb\"),\n",
    "            (\"GALEX color\", \"P/GALEXGR6_7/color\"),\n",
    "            (\"DESI Legacy DR10\", \"CDS/P/DESI-Legacy-Surveys/DR10/color\"),\n",
    "            (\"DECaLS DR5\", \"CDS/P/DECaLS/DR5/color\"),\n",
    "            (\"Rubin First Look\", \"CDS/P/Rubin/FirstLook\"),\n",
    "            (\"Herschel PACS\", \"ESAVO/P/HERSCHEL/PACS_RGB_norm\"),\n",
    "            (\"WISE color\", \"CDS/P/allWISE/color\"),\n",
    "            (\"VLASS Quicklook\", \"NRAO/P/VLASS-Quicklook-MedianStack\"),\n",
    "            (\"JWST MIRI Imaging\", \"ESAVO/P/JWST/P/MIRI_Imaging\"),\n",
    "            (\"JWST NIRCam Imaging\", \"ESAVO/P/JWST/NIRCam_Imaging\"),\n",
    "        ],\n",
    "        description=\"Image:\",\n",
    "        disabled=False,\n",
    "        tooltips=[\n",
    "            \"ESO HiPS preview\",\n",
    "            \"DSS2 color\",\n",
    "            \"SDSS9 color-alt\",\n",
    "            \"PanSTARRS i-r-g composite\",\n",
    "            \"PanSTARRS z-zg-g composite\",\n",
    "            \"2MASS near-infrared imaging\",\n",
    "            \"Chandra color X-ray imaging\",\n",
    "            \"GALEX ultraviolet imaging\",\n",
    "            \"DESI Legacy Imaging Survey (DR10)\",\n",
    "            \"Dark Energy Camera Legacy Survey (DECaLS DR5)\",\n",
    "            \"Rubin Observatory First Look\",\n",
    "            \"Herschel PACS RGB normalized map\",\n",
    "            \"WISE mid-infrared survey\",\n",
    "            \"VLA Sky Survey (VLASS) median stack\",\n",
    "            \"JWST MIRI imaging preview\",\n",
    "            \"JWST NIRCam imaging preview\",\n",
    "        ]\n",
    "    )\n",
    "\n",
    "\n",
    "    def on_survey_value_change(change: dict) -> None:\n",
    "        \"\"\"Survey change callback.\n",
    "\n",
    "        Parameters\n",
    "        ----------\n",
    "        change : dict\n",
    "            The change dictionary.\n",
    "        \"\"\"\n",
    "        aladin.survey = change[\"new\"]\n",
    "\n",
    "\n",
    "    survey_selector.observe(on_survey_value_change, names=\"value\")\n",
    "\n",
    "\n",
    "    survey_overlay_selector = widgets.ToggleButtons(\n",
    "        options=[\n",
    "            (\"ESO HiPS preview\", hips_url),\n",
    "            (\"DSS2 color\", \"P/DSS2/color\"),\n",
    "            (\"SDSS9 color-alt\", \"P/SDSS9/color-alt\"),\n",
    "            (\"PanSTARRS i-r-g\", \"P/PanSTARRS/DR1/color-i-r-g\"),\n",
    "            (\"PanSTARRS z-zg-g\", \"P/PanSTARRS/DR1/color-z-zg-g\"),\n",
    "            (\"2MASS color\", \"P/2MASS/color\"),\n",
    "            (\"Chandra color\", \"P/cda/hips/allsky/rgb\"),\n",
    "            (\"GALEX color\", \"P/GALEXGR6_7/color\"),\n",
    "            (\"DESI Legacy DR10\", \"CDS/P/DESI-Legacy-Surveys/DR10/color\"),\n",
    "            (\"DECaLS DR5\", \"CDS/P/DECaLS/DR5/color\"),\n",
    "            (\"Rubin First Look\", \"CDS/P/Rubin/FirstLook\"),\n",
    "            (\"Herschel PACS\", \"ESAVO/P/HERSCHEL/PACS_RGB_norm\"),\n",
    "            (\"WISE color\", \"CDS/P/allWISE/color\"),\n",
    "            (\"VLASS Quicklook\", \"NRAO/P/VLASS-Quicklook-MedianStack\"),\n",
    "            (\"JWST MIRI Imaging\", \"ESAVO/P/JWST/P/MIRI_Imaging\"),\n",
    "            (\"JWST NIRCam Imaging\", \"ESAVO/P/JWST/NIRCam_Imaging\"),\n",
    "        ],\n",
    "        description=\"Overlay:\",\n",
    "        disabled=False,\n",
    "        tooltips=[\n",
    "            \"ESO HiPS preview\",\n",
    "            \"DSS2 color\",\n",
    "            \"SDSS9 color-alt\",\n",
    "            \"PanSTARRS i-r-g composite\",\n",
    "            \"PanSTARRS z-zg-g composite\",\n",
    "            \"2MASS near-infrared imaging\",\n",
    "            \"Chandra color X-ray imaging\",\n",
    "            \"GALEX ultraviolet imaging\",\n",
    "            \"DESI Legacy Imaging Survey (DR10)\",\n",
    "            \"Dark Energy Camera Legacy Survey (DECaLS DR5)\",\n",
    "            \"Rubin Observatory First Look\",\n",
    "            \"Herschel PACS RGB normalized map\",\n",
    "            \"WISE mid-infrared survey\",\n",
    "            \"VLA Sky Survey (VLASS) median stack\",\n",
    "            \"JWST MIRI imaging preview\",\n",
    "            \"JWST NIRCam imaging preview\",\n",
    "        ]\n",
    "    )\n",
    "\n",
    "    def on_survey_overlay_value_change(change: dict) -> None:\n",
    "        \"\"\"Survey overlay change callback.\n",
    "\n",
    "        Parameters\n",
    "        ----------\n",
    "        change : dict\n",
    "            The change dictionary.\n",
    "        \"\"\"\n",
    "        aladin.overlay_survey = change[\"new\"]\n",
    "        aladin.overlay_survey_opacity = aladin.overlay_survey_opacity + 0.00000001\n",
    "\n",
    "\n",
    "    survey_overlay_selector.observe(on_survey_overlay_value_change, names=\"value\")\n",
    "\n",
    "    opacity_slider = widgets.FloatSlider(\n",
    "        value=0.5,\n",
    "        min=0.0,\n",
    "        max=1.0,\n",
    "        step=0.01,\n",
    "        description=\"Opacity:\",\n",
    "        disabled=False,\n",
    "        continuous_update=True,\n",
    "        orientation=\"horizontal\",\n",
    "        readout=False,\n",
    "        readout_format=\".1f\",\n",
    "    )\n",
    "\n",
    "\n",
    "    def on_surveyoverlay_opacity_value_change(change: dict) -> None:\n",
    "        \"\"\"Survey overlay opacity change callback.\n",
    "\n",
    "        Parameters\n",
    "        ----------\n",
    "        change : dict\n",
    "            The change dictionary.\n",
    "        \"\"\"\n",
    "        aladin.overlay_survey_opacity = change[\"new\"]\n",
    "\n",
    "\n",
    "    opacity_slider.observe(on_surveyoverlay_opacity_value_change, names=\"value\")\n",
    "\n",
    "\n",
    "    zoom_slider = widgets.FloatSlider(\n",
    "        value=180 / aladin.fov.deg,\n",
    "        min=1,\n",
    "        max=400,\n",
    "        step=1,\n",
    "        description=\"Zoom:\",\n",
    "        disabled=False,\n",
    "        continuous_update=True,\n",
    "        orientation=\"horizontal\",\n",
    "        readout=False,\n",
    "        readout_format=\".1f\",\n",
    "    )\n",
    "\n",
    "\n",
    "    def on_zoom_slider_value_change(change: dict) -> None:\n",
    "        \"\"\"Zoom slider change callback.\n",
    "\n",
    "        Parameters\n",
    "        ----------\n",
    "        change : dict\n",
    "            The change dictionary.\n",
    "        \"\"\"\n",
    "        aladin.fov = 180 / change[\"new\"]\n",
    "\n",
    "\n",
    "    zoom_slider.observe(on_zoom_slider_value_change, names=\"value\")\n",
    "\n",
    "    # --- Screenshot Button ---\n",
    "    screenshot_button = widgets.Button(\n",
    "        description=\"Screenshot\",\n",
    "        icon=\"camera\",\n",
    "        tooltip=\"Download view as PNG\",\n",
    "        layout=widgets.Layout(width=\"120px\")\n",
    "    )\n",
    "\n",
    "    def take_screenshot(_):\n",
    "        img = aladin.save_view_as_image(path=f'./aladin_screenshot_{int(time.time())}.png') #screenshot with timestamp\n",
    "        display(img)\n",
    "\n",
    "    screenshot_button.on_click(take_screenshot)\n",
    "\n",
    "    # --- Catalog Query (SIMBAD) ---\n",
    "    catalog_input = widgets.Text(\n",
    "        description=\"SIMBAD:\",\n",
    "        placeholder=\"e.g. M31\",\n",
    "        style={'description_width': 'initial'}\n",
    "    )\n",
    "    catalog_button = widgets.Button(\n",
    "        description=\"Query\",\n",
    "        icon=\"database\",\n",
    "        layout=widgets.Layout(width=\"80px\")\n",
    "    )\n",
    "    catalog_output = widgets.Output()\n",
    "\n",
    "    def search_simbad(_):\n",
    "        from astroquery.simbad import Simbad\n",
    "        with catalog_output:\n",
    "            catalog_output.clear_output()\n",
    "            result = Simbad.query_object(catalog_input.value)\n",
    "            display(result if result is not None else \"No results.\")\n",
    "\n",
    "    catalog_button.on_click(search_simbad)\n",
    "\n",
    "    vbox = widgets.VBox(\n",
    "        [aladin, survey_selector, survey_overlay_selector, widgets.HBox([screenshot_button, opacity_slider, zoom_slider]),  widgets.HBox([catalog_input, catalog_button]), catalog_output]\n",
    "    )\n",
    "\n",
    "    return vbox\n",
    "\n",
    "show_aladin_widgets(target, dp_id=table_reduced[\"dp_id\"][0], fov=0.2)"
   ]
  }
 ],
 "metadata": {
  "kernelspec": {
   "display_name": "astroquery_eso",
   "language": "python",
   "name": "python3"
  },
  "language_info": {
   "codemirror_mode": {
    "name": "ipython",
    "version": 3
   },
   "file_extension": ".py",
   "mimetype": "text/x-python",
   "name": "python",
   "nbconvert_exporter": "python",
   "pygments_lexer": "ipython3",
   "version": "3.13.5"
  }
 },
 "nbformat": 4,
 "nbformat_minor": 2
}
