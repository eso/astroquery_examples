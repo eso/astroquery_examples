{
 "cells": [
  {
   "cell_type": "markdown",
   "id": "8fbb364c",
   "metadata": {},
   "source": [
    "# ESO SSA Query Example Notebook\n",
    "This notebook demonstrates how to programmatically query the ESO Simple Spectral Access (SSA) service for spectra within a specified sky region, filter results by signal-to-noise ratio (SNR), and download the matching data products.\n",
    "\n",
    "**Author:** Your Name  \n",
    "**Date:** 2025-08-07\n"
   ]
  },
  {
   "cell_type": "markdown",
   "id": "7c28d69e",
   "metadata": {},
   "source": [
    "## Introduction\n",
    "ESO provides a Simple Spectral Access (SSA) endpoint that allows users to search for spectroscopic data by sky position. In this example, we will:\n",
    "1. Resolve a target name to coordinates using Astropy's `SkyCoord` and the CDS SESAME service.\n",
    "2. Query the ESO SSA service within a cone around the target.\n",
    "3. Filter the returned spectra by a minimum SNR threshold.\n",
    "4. Download the high-SNR spectra to the local machine.\n"
   ]
  },
  {
   "cell_type": "code",
   "execution_count": 9,
   "id": "8a388c29",
   "metadata": {},
   "outputs": [
    {
     "name": "stdout",
     "output_type": "stream",
     "text": [
      "astroquery version: 0.4.11.dev10245\n"
     ]
    }
   ],
   "source": [
    "import astroquery # import astroquery\n",
    "from astroquery.eso import Eso # import the ESO module from astroquery\n",
    "print(f\"astroquery version: {astroquery.__version__}\") # check the version of astroquery\n",
    "\n",
    "eso = Eso() # create an instance of the ESO class "
   ]
  },
  {
   "cell_type": "code",
   "execution_count": null,
   "id": "c607e5d9",
   "metadata": {},
   "outputs": [
    {
     "name": "stdout",
     "output_type": "stream",
     "text": [
      "Resolving target NGC 4993...\n",
      "Resolved coordinates (ICRS): 197.449 -23.384 (deg)\n"
     ]
    }
   ],
   "source": [
    "from astropy.coordinates import SkyCoord # import the SkyCoord class from the astropy.coordinates module\n",
    "import astropy.units as u # import the astropy.units module\n",
    "\n",
    "target = \"NGC4993\" # set the target \n",
    "coords = SkyCoord.from_name(target) # create a SkyCoord object from the name of the source \n",
    "radius = 0.5 *u.deg # set the radius of the search \n",
    "\n",
    "table_reduced = eso.query_surveys(cone_ra=coords.ra.value, \n",
    "                                cone_dec=coords.dec.value, \n",
    "                                cone_radius=radius.to(\"deg\").value) # query the ESO archive for HAWKI data\n",
    "\n",
    "table_reduced[\"target_name\", \"s_ra\", \"s_dec\", \"proposal_id\", \"instrument_name\", \"dp_id\", \"release_description\"][:3] # print the first 3 rows of the table\n",
    "table_reduced"
   ]
  },
  {
   "cell_type": "markdown",
   "id": "b64c0a61",
   "metadata": {},
   "source": [
    "## Setup and Imports\n",
    "First, we import the necessary Python packages:\n",
    "- `pyvo` to access VO services\n",
    "- `astropy.coordinates` and `astropy.units` for coordinate and unit handling\n",
    "- `sys` and `urllib` for input/output and downloading files\n"
   ]
  },
  {
   "cell_type": "code",
   "execution_count": 2,
   "id": "2c56d356",
   "metadata": {},
   "outputs": [],
   "source": [
    "import sys\n",
    "import urllib.request\n",
    "import pyvo as vo\n",
    "from astropy.coordinates import SkyCoord\n",
    "from astropy.units import Quantity"
   ]
  },
  {
   "cell_type": "markdown",
   "id": "52df210d",
   "metadata": {},
   "source": [
    "## Define the SSA Service\n",
    "Specify the SSA endpoint URL and create the service object:"
   ]
  },
  {
   "cell_type": "code",
   "execution_count": 3,
   "id": "6c1b1f37",
   "metadata": {},
   "outputs": [
    {
     "name": "stdout",
     "output_type": "stream",
     "text": [
      "SSA endpoint: http://archive.eso.org/ssap\n"
     ]
    }
   ],
   "source": [
    "ssap_endpoint = \"http://archive.eso.org/ssap\"\n",
    "ssap_service = vo.dal.SSAService(ssap_endpoint)\n",
    "print(f\"SSA endpoint: {ssap_endpoint}\")"
   ]
  },
  {
   "cell_type": "markdown",
   "id": "04a4d5b8",
   "metadata": {},
   "source": [
    "## Resolve Target Name\n",
    "Use the CDS SESAME service to convert a target name to sky coordinates:"
   ]
  },
  {
   "cell_type": "code",
   "execution_count": 4,
   "id": "ca1ccdf9",
   "metadata": {},
   "outputs": [
    {
     "name": "stdout",
     "output_type": "stream",
     "text": [
      "Resolving target NGC 4993...\n",
      "Resolved coordinates (ICRS): 197.449 -23.384 (deg)\n"
     ]
    }
   ],
   "source": [
    "target = \"NGC 4993\"\n",
    "diameter = 0.5  # degrees\n",
    "print(f\"Resolving target {target}...\")\n",
    "pos = SkyCoord.from_name(target)\n",
    "print(f\"Resolved coordinates (ICRS): {pos.to_string()} (deg)\")"
   ]
  },
  {
   "cell_type": "markdown",
   "id": "5ce1247a",
   "metadata": {},
   "source": [
    "## Perform SSA Query\n",
    "Search for spectra within the specified cone:"
   ]
  },
  {
   "cell_type": "code",
   "execution_count": 7,
   "id": "12e93563",
   "metadata": {},
   "outputs": [
    {
     "name": "stdout",
     "output_type": "stream",
     "text": [
      "Querying SSA for a 0.5° diameter around NGC 4993...\n"
     ]
    },
    {
     "data": {
      "text/html": [
       "<div><i>Table length=94</i>\n",
       "<table id=\"table5080138768\" class=\"table-striped table-bordered table-condensed\">\n",
       "<thead><tr><th>access_estsize</th><th>access_url</th><th>APERTURE</th><th>COLLECTION</th><th>creation_type</th><th>CREATORDID</th><th>curation_reference</th><th>datalink_url</th><th>dataset_length</th><th>dataset_title</th><th>dp_id</th><th>em_bw</th><th>em_max</th><th>em_min</th><th>em_val</th><th>equinox</th><th>flux_ucd</th><th>FLUXCALIB</th><th>FORMAT</th><th>gal_lat</th><th>gal_lon</th><th>instrument_name</th><th>MTIME</th><th>obs_creator_name</th><th>positionJ2000</th><th>PUBDID</th><th>publication_date</th><th>publisher</th><th>rights</th><th>s_dec</th><th>s_ra</th><th>s_region</th><th>SNR</th><th>space_frame</th><th>spatial_resolution</th><th>SPECRP</th><th>t_elapsed</th><th>t_exptime</th><th>t_max</th><th>t_mid</th><th>t_min</th><th>TARGETNAME</th><th>WAVECALIB</th></tr></thead>\n",
       "<thead><tr><th>kbyte</th><th></th><th>arcsec</th><th></th><th></th><th></th><th></th><th></th><th></th><th></th><th></th><th>m</th><th>m</th><th>m</th><th>m</th><th></th><th></th><th></th><th></th><th>deg</th><th>deg</th><th></th><th></th><th></th><th>deg</th><th></th><th></th><th></th><th></th><th>deg</th><th>deg</th><th></th><th></th><th></th><th>deg</th><th></th><th>s</th><th>s</th><th>d</th><th>d</th><th>d</th><th></th><th></th></tr></thead>\n",
       "<thead><tr><th>int64</th><th>object</th><th>float64</th><th>object</th><th>object</th><th>object</th><th>object</th><th>object</th><th>int64</th><th>object</th><th>object</th><th>float64</th><th>float64</th><th>float64</th><th>float64</th><th>float64</th><th>object</th><th>object</th><th>object</th><th>float64</th><th>float64</th><th>object</th><th>object</th><th>object</th><th>float64[2]</th><th>object</th><th>object</th><th>object</th><th>object</th><th>float64</th><th>float64</th><th>object</th><th>float64</th><th>object</th><th>float64</th><th>float64</th><th>float64</th><th>float64</th><th>float64</th><th>float64</th><th>float64</th><th>object</th><th>object</th></tr></thead>\n",
       "<tr><td>3075</td><td>https://dataportal.eso.org/dataPortal/file/ADP.2016-09-20T08:08:12.820</td><td>1.99998</td><td>FEROS</td><td>archival</td><td>ivo://eso.org/origfile?FEROS.2004-03-07T04:07:01.411_DRS_FERN_1.0_ESOSDP.fits</td><td></td><td>http://archive.eso.org/datalink/links?ID=ivo://eso.org/ID?ADP.2016-09-20T08:08:12.820</td><td>189654</td><td>HD114149_r.FEROS.2004-03-07T04:07:01.411.1081.fits</td><td>ADP.2016-09-20T08:08:12.820</td><td>5.68959e-07</td><td>9.21735e-07</td><td>3.52776e-07</td><td>6.372555e-07</td><td>2000.0</td><td></td><td>uncalibrated</td><td>application/x-fits-bintable</td><td>39.573305</td><td>308.153068</td><td>FEROS</td><td>2020-10-13T13:59:35.647Z</td><td>CHARBONNEL, C.</td><td>197.234 .. -23.1209</td><td>ivo://eso.org/ID?ADP.2016-09-20T08:08:12.820</td><td>2016-11-07T08:26:00Z</td><td>ESO</td><td>public</td><td>-23.12092</td><td>197.233637</td><td>POSITION J2000 197.233637 -23.12092</td><td>86.0</td><td>FK5</td><td>--</td><td>48000.0</td><td>0.0009490699958405457</td><td>81.999</td><td>53071.17249318</td><td>53071.172018645</td><td>53071.17154411</td><td>HD114149</td><td>absolute</td></tr>\n",
       "<tr><td>3075</td><td>https://dataportal.eso.org/dataPortal/file/ADP.2016-09-20T08:08:13.622</td><td>1.99998</td><td>FEROS</td><td>archival</td><td>ivo://eso.org/origfile?FEROS.2004-03-06T07:10:25.662_DRS_FERN_1.0_ESOSDP.fits</td><td></td><td>http://archive.eso.org/datalink/links?ID=ivo://eso.org/ID?ADP.2016-09-20T08:08:13.622</td><td>189656</td><td>HD114098_r.FEROS.2004-03-06T07:10:25.662.1081.fits</td><td>ADP.2016-09-20T08:08:13.622</td><td>5.68965e-07</td><td>9.21741e-07</td><td>3.52776e-07</td><td>6.372585e-07</td><td>2000.0</td><td></td><td>uncalibrated</td><td>application/x-fits-bintable</td><td>39.593553</td><td>308.045421</td><td>FEROS</td><td>2020-10-13T13:59:35.647Z</td><td>CHARBONNEL, C.</td><td>197.142 .. -23.108</td><td>ivo://eso.org/ID?ADP.2016-09-20T08:08:13.622</td><td>2016-11-07T08:26:00Z</td><td>ESO</td><td>public</td><td>-23.10798</td><td>197.141857</td><td>POSITION J2000 197.14185700000002 -23.10798</td><td>79.4</td><td>FK5</td><td>--</td><td>48000.0</td><td>0.004652780000469647</td><td>401.999</td><td>53070.30356091</td><td>53070.30123452</td><td>53070.29890813</td><td>HD114098</td><td>absolute</td></tr>\n",
       "<tr><td>1330</td><td>https://dataportal.eso.org/dataPortal/file/ADP.2017-08-11T02:12:48.569</td><td>0.9</td><td>XSHOOTER</td><td>archival</td><td>ivo://eso.org/origfile?XS_SFLX_200270940_2013-06-03T23:39:09.754_S0.9x11_1x2_VIS_NOD.fits</td><td></td><td>http://archive.eso.org/datalink/links?ID=ivo://eso.org/ID?ADP.2017-08-11T02:12:48.569</td><td>24318</td><td>Q1311-tellurHIP64271A0V_200270940_2013-06-03T23:39:09.754_S0.9x11_1x</td><td>ADP.2017-08-11T02:12:48.569</td><td>4.8634e-07</td><td>1.02e-06</td><td>5.336599999999999e-07</td><td>7.768299999999999e-07</td><td>2000.0</td><td></td><td>absolute</td><td>application/x-fits-bintable</td><td>39.041556</td><td>308.512203</td><td>XSHOOTER</td><td>2020-10-13T14:00:43.807Z</td><td>VESTERGAARD, MARIANNE</td><td>197.588 .. -23.6251</td><td>ivo://eso.org/ID?ADP.2017-08-11T02:12:48.569</td><td>2017-08-11T02:17:23Z</td><td>ESO</td><td>public</td><td>-23.62509</td><td>197.587964</td><td>POSITION J2000 197.587964 -23.62509</td><td>303.0</td><td>FK5</td><td>--</td><td>8935.0</td><td>0.001320470000791829</td><td>16.0</td><td>56446.98685003</td><td>56446.986189795</td><td>56446.98552956</td><td>Q1311-tellur HIP64271 A0V</td><td>absolute</td></tr>\n",
       "<tr><td>1359</td><td>https://dataportal.eso.org/dataPortal/file/ADP.2017-08-11T02:12:48.733</td><td>0.9</td><td>XSHOOTER</td><td>archival</td><td>ivo://eso.org/origfile?XS_SFLX_200270940_2013-06-03T23:39:13.415_S0.9x11_NIR_NOD.fits</td><td></td><td>http://archive.eso.org/datalink/links?ID=ivo://eso.org/ID?ADP.2017-08-11T02:12:48.733</td><td>24750</td><td>Q1311-tellurHIP64271A0V_200270940_2013-06-03T23:39:13.415_S0.9x11_NI</td><td>ADP.2017-08-11T02:12:48.733</td><td>1.48494e-06</td><td>2.47896e-06</td><td>9.9402e-07</td><td>1.73649e-06</td><td>2000.0</td><td></td><td>absolute</td><td>application/x-fits-bintable</td><td>39.041556</td><td>308.512203</td><td>XSHOOTER</td><td>2020-10-13T14:00:43.807Z</td><td>VESTERGAARD, MARIANNE</td><td>197.588 .. -23.6251</td><td>ivo://eso.org/ID?ADP.2017-08-11T02:12:48.733</td><td>2017-08-11T02:17:23Z</td><td>ESO</td><td>public</td><td>-23.62509</td><td>197.587964</td><td>POSITION J2000 197.587964 -23.62509</td><td>434.4</td><td>FK5</td><td>--</td><td>5573.0</td><td>0.0015700799995101988</td><td>60.0</td><td>56446.98714201</td><td>56446.98635697</td><td>56446.98557193</td><td>Q1311-tellur HIP64271 A0V</td><td>absolute</td></tr>\n",
       "<tr><td>1359</td><td>https://dataportal.eso.org/dataPortal/file/ADP.2017-09-22T07:50:07.512</td><td>0.9</td><td>XSHOOTER</td><td>archival</td><td>ivo://eso.org/origfile?XS_SFLX_1684192_2017-08-18T23:22:25.262_S0.9x11_NIR_NOD.fits</td><td></td><td>http://archive.eso.org/datalink/links?ID=ivo://eso.org/ID?ADP.2017-09-22T07:50:07.512</td><td>24750</td><td>GW_1684192_2017-08-18T23:22:25.262_S0.9x11_NIR_NOD</td><td>ADP.2017-09-22T07:50:07.512</td><td>1.48494e-06</td><td>2.47896e-06</td><td>9.9402e-07</td><td>1.73649e-06</td><td>2000.0</td><td></td><td>absolute</td><td>application/x-fits-bintable</td><td>39.296316</td><td>308.380265</td><td>XSHOOTER</td><td>2020-10-13T13:59:42.090Z</td><td>PIAN, ELENA</td><td>197.451 .. -23.381</td><td>ivo://eso.org/ID?ADP.2017-09-22T07:50:07.512</td><td>2017-09-22T07:57:34Z</td><td>ESO</td><td>public</td><td>-23.38098</td><td>197.450998</td><td>POSITION J2000 197.450998 -23.38098</td><td>9.4</td><td>FK5</td><td>--</td><td>5573.0</td><td>0.031137710000621155</td><td>2400.0</td><td>57984.0050412</td><td>57983.989472345</td><td>57983.97390349</td><td>GW</td><td>absolute</td></tr>\n",
       "<tr><td>734</td><td>https://dataportal.eso.org/dataPortal/file/ADP.2017-09-22T07:50:07.531</td><td>0.999972</td><td>XSHOOTER</td><td>archival</td><td>ivo://eso.org/origfile?XS_SFLX_1684192_2017-08-18T23:22:16.384_S1.0x11_1x2_UVB_NOD.fits</td><td></td><td>http://archive.eso.org/datalink/links?ID=ivo://eso.org/ID?ADP.2017-09-22T07:50:07.531</td><td>12854</td><td>GW_1684192_2017-08-18T23:22:16.384_S1.0x11_1x2_UVB_NOD</td><td>ADP.2017-09-22T07:50:07.531</td><td>2.5706e-07</td><td>5.5598e-07</td><td>2.9892000000000003e-07</td><td>4.2745000000000003e-07</td><td>2000.0</td><td></td><td>absolute</td><td>application/x-fits-bintable</td><td>39.296316</td><td>308.380265</td><td>XSHOOTER</td><td>2020-10-13T13:59:42.090Z</td><td>PIAN, ELENA</td><td>197.451 .. -23.381</td><td>ivo://eso.org/ID?ADP.2017-09-22T07:50:07.531</td><td>2017-09-22T07:57:34Z</td><td>ESO</td><td>public</td><td>-23.38098</td><td>197.450998</td><td>POSITION J2000 197.450998 -23.38098</td><td>15.6</td><td>FK5</td><td>--</td><td>5453.0</td><td>0.031143600004725158</td><td>2400.0</td><td>57984.00494433</td><td>57983.98937253</td><td>57983.97380073</td><td>GW</td><td>absolute</td></tr>\n",
       "<tr><td>1330</td><td>https://dataportal.eso.org/dataPortal/file/ADP.2017-09-22T07:50:07.577</td><td>0.9</td><td>XSHOOTER</td><td>archival</td><td>ivo://eso.org/origfile?XS_SFLX_1684192_2017-08-18T23:22:22.174_S0.9x11_1x2_VIS_NOD.fits</td><td></td><td>http://archive.eso.org/datalink/links?ID=ivo://eso.org/ID?ADP.2017-09-22T07:50:07.577</td><td>24318</td><td>GW_1684192_2017-08-18T23:22:22.174_S0.9x11_1x2_VIS_NOD</td><td>ADP.2017-09-22T07:50:07.577</td><td>4.8634e-07</td><td>1.02e-06</td><td>5.336599999999999e-07</td><td>7.768299999999999e-07</td><td>2000.0</td><td></td><td>absolute</td><td>application/x-fits-bintable</td><td>39.296316</td><td>308.380265</td><td>XSHOOTER</td><td>2020-10-13T13:59:42.090Z</td><td>PIAN, ELENA</td><td>197.451 .. -23.381</td><td>ivo://eso.org/ID?ADP.2017-09-22T07:50:07.577</td><td>2017-09-22T07:57:34Z</td><td>ESO</td><td>public</td><td>-23.38098</td><td>197.450998</td><td>POSITION J2000 197.450998 -23.38098</td><td>22.1</td><td>FK5</td><td>--</td><td>8935.0</td><td>0.031136759993387386</td><td>2400.0</td><td>57984.00500452</td><td>57983.98943614</td><td>57983.97386776</td><td>GW</td><td>absolute</td></tr>\n",
       "<tr><td>734</td><td>https://dataportal.eso.org/dataPortal/file/ADP.2017-09-22T07:51:05.851</td><td>1.298988</td><td>XSHOOTER</td><td>archival</td><td>ivo://eso.org/origfile?XS_SFLX_1674072_2017-08-19T23:28:40.740_S1.3x11_1x2_UVB_NOD.fits</td><td></td><td>http://archive.eso.org/datalink/links?ID=ivo://eso.org/ID?ADP.2017-09-22T07:51:05.851</td><td>12854</td><td>PS16xxx_1674072_2017-08-19T23:28:40.740_S1.3x11_1x2_UVB_NOD</td><td>ADP.2017-09-22T07:51:05.851</td><td>2.5706e-07</td><td>5.5598e-07</td><td>2.9892000000000003e-07</td><td>4.2745000000000003e-07</td><td>2000.0</td><td></td><td>absolute</td><td>application/x-fits-bintable</td><td>39.296002</td><td>308.380289</td><td>XSHOOTER</td><td>2020-10-13T13:59:59.837Z</td><td>SMARTT, STEPHEN</td><td>197.451 .. -23.3813</td><td>ivo://eso.org/ID?ADP.2017-09-22T07:51:05.851</td><td>2017-09-22T07:57:34Z</td><td>ESO</td><td>public</td><td>-23.38129</td><td>197.45105</td><td>POSITION J2000 197.45105 -23.38129</td><td>4.2</td><td>FK5</td><td>--</td><td>4112.0</td><td>0.03352203000395093</td><td>2800.0</td><td>57985.01177132</td><td>57984.995010305</td><td>57984.97824929</td><td>PS16xxx</td><td>absolute</td></tr>\n",
       "<tr><td>1330</td><td>https://dataportal.eso.org/dataPortal/file/ADP.2017-09-22T07:51:05.855</td><td>1.19898</td><td>XSHOOTER</td><td>archival</td><td>ivo://eso.org/origfile?XS_SFLX_1674072_2017-08-19T23:28:45.920_S1.2x11_1x2_VIS_NOD.fits</td><td></td><td>http://archive.eso.org/datalink/links?ID=ivo://eso.org/ID?ADP.2017-09-22T07:51:05.855</td><td>24318</td><td>PS16xxx_1674072_2017-08-19T23:28:45.920_S1.2x11_1x2_VIS_NOD</td><td>ADP.2017-09-22T07:51:05.855</td><td>4.8634e-07</td><td>1.02e-06</td><td>5.336599999999999e-07</td><td>7.768299999999999e-07</td><td>2000.0</td><td></td><td>absolute</td><td>application/x-fits-bintable</td><td>39.296003</td><td>308.380289</td><td>XSHOOTER</td><td>2020-10-13T13:59:59.837Z</td><td>SMARTT, STEPHEN</td><td>197.451 .. -23.3813</td><td>ivo://eso.org/ID?ADP.2017-09-22T07:51:05.855</td><td>2017-09-22T07:57:34Z</td><td>ESO</td><td>public</td><td>-23.38129</td><td>197.45105</td><td>POSITION J2000 197.45105 -23.38129</td><td>10.9</td><td>FK5</td><td>--</td><td>6505.0</td><td>0.03386925000086194</td><td>2860.0</td><td>57985.0121785</td><td>57984.995243875004</td><td>57984.97830925</td><td>PS16xxx</td><td>absolute</td></tr>\n",
       "<tr><td>...</td><td>...</td><td>...</td><td>...</td><td>...</td><td>...</td><td>...</td><td>...</td><td>...</td><td>...</td><td>...</td><td>...</td><td>...</td><td>...</td><td>...</td><td>...</td><td>...</td><td>...</td><td>...</td><td>...</td><td>...</td><td>...</td><td>...</td><td>...</td><td>...</td><td>...</td><td>...</td><td>...</td><td>...</td><td>...</td><td>...</td><td>...</td><td>...</td><td>...</td><td>...</td><td>...</td><td>...</td><td>...</td><td>...</td><td>...</td><td>...</td><td>...</td><td>...</td></tr>\n",
       "<tr><td>144</td><td>https://dataportal.eso.org/dataPortal/file/ADP.2023-12-06T10:28:01.784</td><td>1.00998</td><td>FORS2-SPEC</td><td>archival</td><td>ivo://eso.org/origfile?F2_SISL_1687123_2017-08-21T23:34:57.920_C1_600RIGG435_2.fits</td><td></td><td>http://archive.eso.org/datalink/links?ID=ivo://eso.org/ID?ADP.2023-12-06T10:28:01.784</td><td>2036</td><td>GRB_1687123_2017-08-21T23:34:57.920_C1_600RIGG435_2</td><td>ADP.2023-12-06T10:28:01.784</td><td>3.15068e-07</td><td>8.44747e-07</td><td>5.296789999999999e-07</td><td>6.872129999999999e-07</td><td>2000.0</td><td></td><td>absolute</td><td>application/x-fits-bintable</td><td>39.29877</td><td>308.367211</td><td>FORS2</td><td>2023-12-06T10:37:34.890Z</td><td>D&apos;AVANZO, P.</td><td>197.44 .. -23.3795</td><td>ivo://eso.org/ID?ADP.2023-12-06T10:28:01.784</td><td>2023-12-06T10:33:41Z</td><td>ESO</td><td>public</td><td>-23.379544</td><td>197.439838</td><td>POSITION J2000 197.439838 -23.379544</td><td>4.1</td><td>FK5</td><td>--</td><td>1103.54736328125</td><td>0.02083244000095874</td><td>1799.923</td><td>57987.00344725</td><td>57986.99303103</td><td>57986.98261481</td><td>GRB</td><td>absolute</td></tr>\n",
       "<tr><td>144</td><td>https://dataportal.eso.org/dataPortal/file/ADP.2023-12-06T10:28:01.787</td><td>1.00998</td><td>FORS2-SPEC</td><td>archival</td><td>ivo://eso.org/origfile?F2_SISL_1687123_2017-08-21T23:34:57.920_C1_600RIGG435_3.fits</td><td></td><td>http://archive.eso.org/datalink/links?ID=ivo://eso.org/ID?ADP.2023-12-06T10:28:01.787</td><td>2036</td><td>GRB_1687123_2017-08-21T23:34:57.920_C1_600RIGG435_3</td><td>ADP.2023-12-06T10:28:01.787</td><td>3.15068e-07</td><td>8.44747e-07</td><td>5.296789999999999e-07</td><td>6.872129999999999e-07</td><td>2000.0</td><td></td><td>absolute</td><td>application/x-fits-bintable</td><td>39.29851</td><td>308.368268</td><td>FORS2</td><td>2023-12-06T10:37:35.023Z</td><td>D&apos;AVANZO, P.</td><td>197.441 .. -23.3797</td><td>ivo://eso.org/ID?ADP.2023-12-06T10:28:01.787</td><td>2023-12-06T10:33:41Z</td><td>ESO</td><td>public</td><td>-23.379728</td><td>197.440751</td><td>POSITION J2000 197.440751 -23.379728</td><td>5.0</td><td>FK5</td><td>--</td><td>1103.54736328125</td><td>0.02083244000095874</td><td>1799.923</td><td>57987.00344725</td><td>57986.99303103</td><td>57986.98261481</td><td>GRB</td><td>absolute</td></tr>\n",
       "<tr><td>144</td><td>https://dataportal.eso.org/dataPortal/file/ADP.2023-12-06T10:28:01.790</td><td>1.00998</td><td>FORS2-SPEC</td><td>archival</td><td>ivo://eso.org/origfile?F2_SISL_1687123_2017-08-21T23:34:57.920_C1_600RIGG435_4.fits</td><td></td><td>http://archive.eso.org/datalink/links?ID=ivo://eso.org/ID?ADP.2023-12-06T10:28:01.790</td><td>2036</td><td>GRB_1687123_2017-08-21T23:34:57.920_C1_600RIGG435_4</td><td>ADP.2023-12-06T10:28:01.790</td><td>3.15068e-07</td><td>8.44747e-07</td><td>5.296789999999999e-07</td><td>6.872129999999999e-07</td><td>2000.0</td><td></td><td>absolute</td><td>application/x-fits-bintable</td><td>39.297727</td><td>308.371432</td><td>FORS2</td><td>2023-12-06T10:37:35.157Z</td><td>D&apos;AVANZO, P.</td><td>197.443 .. -23.3803</td><td>ivo://eso.org/ID?ADP.2023-12-06T10:28:01.790</td><td>2023-12-06T10:33:41Z</td><td>ESO</td><td>public</td><td>-23.380282</td><td>197.443486</td><td>POSITION J2000 197.443486 -23.380282</td><td>14.1</td><td>FK5</td><td>--</td><td>1103.54736328125</td><td>0.02083244000095874</td><td>1799.923</td><td>57987.00344725</td><td>57986.99303103</td><td>57986.98261481</td><td>GRB</td><td>absolute</td></tr>\n",
       "<tr><td>144</td><td>https://dataportal.eso.org/dataPortal/file/ADP.2023-12-06T10:28:01.793</td><td>1.00998</td><td>FORS2-SPEC</td><td>archival</td><td>ivo://eso.org/origfile?F2_SISL_1687123_2017-08-21T23:34:57.920_C1_600RIGG435_5.fits</td><td></td><td>http://archive.eso.org/datalink/links?ID=ivo://eso.org/ID?ADP.2023-12-06T10:28:01.793</td><td>2036</td><td>GRB_1687123_2017-08-21T23:34:57.920_C1_600RIGG435_5</td><td>ADP.2023-12-06T10:28:01.793</td><td>3.15068e-07</td><td>8.44747e-07</td><td>5.296789999999999e-07</td><td>6.872129999999999e-07</td><td>2000.0</td><td></td><td>absolute</td><td>application/x-fits-bintable</td><td>39.296087</td><td>308.378044</td><td>FORS2</td><td>2023-12-06T10:37:35.293Z</td><td>D&apos;AVANZO, P.</td><td>197.449 .. -23.3814</td><td>ivo://eso.org/ID?ADP.2023-12-06T10:28:01.793</td><td>2023-12-06T10:33:41Z</td><td>ESO</td><td>public</td><td>-23.381445</td><td>197.449201</td><td>POSITION J2000 197.449201 -23.381445</td><td>48.0</td><td>FK5</td><td>--</td><td>1103.54736328125</td><td>0.02083244000095874</td><td>1799.923</td><td>57987.00344725</td><td>57986.99303103</td><td>57986.98261481</td><td>GRB</td><td>absolute</td></tr>\n",
       "<tr><td>144</td><td>https://dataportal.eso.org/dataPortal/file/ADP.2023-12-06T10:28:01.796</td><td>1.00998</td><td>FORS2-SPEC</td><td>archival</td><td>ivo://eso.org/origfile?F2_SISL_1687123_2017-08-21T23:34:57.920_C1_600RIGG435_6.fits</td><td></td><td>http://archive.eso.org/datalink/links?ID=ivo://eso.org/ID?ADP.2023-12-06T10:28:01.796</td><td>2036</td><td>GRB_1687123_2017-08-21T23:34:57.920_C1_600RIGG435_6</td><td>ADP.2023-12-06T10:28:01.796</td><td>3.15068e-07</td><td>8.44747e-07</td><td>5.296789999999999e-07</td><td>6.872129999999999e-07</td><td>2000.0</td><td></td><td>absolute</td><td>application/x-fits-bintable</td><td>39.295991</td><td>308.378427</td><td>FORS2</td><td>2023-12-06T10:37:35.430Z</td><td>D&apos;AVANZO, P.</td><td>197.45 .. -23.3815</td><td>ivo://eso.org/ID?ADP.2023-12-06T10:28:01.796</td><td>2023-12-06T10:33:41Z</td><td>ESO</td><td>public</td><td>-23.381513</td><td>197.449532</td><td>POSITION J2000 197.449532 -23.381513</td><td>39.0</td><td>FK5</td><td>--</td><td>1103.54736328125</td><td>0.02083244000095874</td><td>1799.923</td><td>57987.00344725</td><td>57986.99303103</td><td>57986.98261481</td><td>GRB</td><td>absolute</td></tr>\n",
       "<tr><td>144</td><td>https://dataportal.eso.org/dataPortal/file/ADP.2023-12-06T10:28:01.799</td><td>1.00998</td><td>FORS2-SPEC</td><td>archival</td><td>ivo://eso.org/origfile?F2_SISL_1687123_2017-08-21T23:34:57.920_C1_600RIGG435_7.fits</td><td></td><td>http://archive.eso.org/datalink/links?ID=ivo://eso.org/ID?ADP.2023-12-06T10:28:01.799</td><td>2036</td><td>GRB_1687123_2017-08-21T23:34:57.920_C1_600RIGG435_7</td><td>ADP.2023-12-06T10:28:01.799</td><td>3.15068e-07</td><td>8.44747e-07</td><td>5.296789999999999e-07</td><td>6.872129999999999e-07</td><td>2000.0</td><td></td><td>absolute</td><td>application/x-fits-bintable</td><td>39.295725</td><td>308.379491</td><td>FORS2</td><td>2023-12-06T10:37:35.573Z</td><td>D&apos;AVANZO, P.</td><td>197.45 .. -23.3817</td><td>ivo://eso.org/ID?ADP.2023-12-06T10:28:01.799</td><td>2023-12-06T10:33:41Z</td><td>ESO</td><td>public</td><td>-23.381702</td><td>197.450452</td><td>POSITION J2000 197.45045199999998 -23.381702</td><td>63.7</td><td>FK5</td><td>--</td><td>1103.54736328125</td><td>0.02083244000095874</td><td>1799.923</td><td>57987.00344725</td><td>57986.99303103</td><td>57986.98261481</td><td>GRB</td><td>absolute</td></tr>\n",
       "<tr><td>144</td><td>https://dataportal.eso.org/dataPortal/file/ADP.2023-12-06T10:28:01.802</td><td>1.00998</td><td>FORS2-SPEC</td><td>archival</td><td>ivo://eso.org/origfile?F2_SISL_1687123_2017-08-21T23:34:57.920_C1_600RIGG435_8.fits</td><td></td><td>http://archive.eso.org/datalink/links?ID=ivo://eso.org/ID?ADP.2023-12-06T10:28:01.802</td><td>2036</td><td>GRB_1687123_2017-08-21T23:34:57.920_C1_600RIGG435_8</td><td>ADP.2023-12-06T10:28:01.802</td><td>3.149019999999999e-07</td><td>8.44747e-07</td><td>5.298450000000001e-07</td><td>6.872960000000001e-07</td><td>2000.0</td><td></td><td>absolute</td><td>application/x-fits-bintable</td><td>39.294529</td><td>308.384274</td><td>FORS2</td><td>2023-12-06T10:37:35.710Z</td><td>D&apos;AVANZO, P.</td><td>197.455 .. -23.3826</td><td>ivo://eso.org/ID?ADP.2023-12-06T10:28:01.802</td><td>2023-12-06T10:33:41Z</td><td>ESO</td><td>public</td><td>-23.382552</td><td>197.454588</td><td>POSITION J2000 197.454588 -23.382552</td><td>13.7</td><td>FK5</td><td>--</td><td>1103.54736328125</td><td>0.02083244000095874</td><td>1799.923</td><td>57987.00344725</td><td>57986.99303103</td><td>57986.98261481</td><td>GRB</td><td>absolute</td></tr>\n",
       "<tr><td>144</td><td>https://dataportal.eso.org/dataPortal/file/ADP.2023-12-06T10:28:01.805</td><td>1.00998</td><td>FORS2-SPEC</td><td>archival</td><td>ivo://eso.org/origfile?F2_SISL_1687123_2017-08-21T23:34:57.920_C1_600RIGG435_9.fits</td><td></td><td>http://archive.eso.org/datalink/links?ID=ivo://eso.org/ID?ADP.2023-12-06T10:28:01.805</td><td>2036</td><td>GRB_1687123_2017-08-21T23:34:57.920_C1_600RIGG435_9</td><td>ADP.2023-12-06T10:28:01.805</td><td>3.149019999999999e-07</td><td>8.44747e-07</td><td>5.298450000000001e-07</td><td>6.872960000000001e-07</td><td>2000.0</td><td></td><td>absolute</td><td>application/x-fits-bintable</td><td>39.294009</td><td>308.386347</td><td>FORS2</td><td>2023-12-06T10:37:35.847Z</td><td>D&apos;AVANZO, P.</td><td>197.456 .. -23.3829</td><td>ivo://eso.org/ID?ADP.2023-12-06T10:28:01.805</td><td>2023-12-06T10:33:41Z</td><td>ESO</td><td>public</td><td>-23.382922</td><td>197.45638</td><td>POSITION J2000 197.45638 -23.382922</td><td>9.7</td><td>FK5</td><td>--</td><td>1103.54736328125</td><td>0.02083244000095874</td><td>1799.923</td><td>57987.00344725</td><td>57986.99303103</td><td>57986.98261481</td><td>GRB</td><td>absolute</td></tr>\n",
       "<tr><td>144</td><td>https://dataportal.eso.org/dataPortal/file/ADP.2023-12-06T10:28:01.808</td><td>1.00998</td><td>FORS2-SPEC</td><td>archival</td><td>ivo://eso.org/origfile?F2_SISL_1687123_2017-08-21T23:34:57.921_C2_600RIGG435_5.fits</td><td></td><td>http://archive.eso.org/datalink/links?ID=ivo://eso.org/ID?ADP.2023-12-06T10:28:01.808</td><td>2036</td><td>GRB_1687123_2017-08-21T23:34:57.921_C2_600RIGG435_5</td><td>ADP.2023-12-06T10:28:01.808</td><td>3.1523399999999995e-07</td><td>8.44747e-07</td><td>5.29513e-07</td><td>6.871299999999999e-07</td><td>2000.0</td><td></td><td>absolute</td><td>application/x-fits-bintable</td><td>39.30271</td><td>308.351433</td><td>FORS2</td><td>2023-12-06T10:37:35.973Z</td><td>D&apos;AVANZO, P.</td><td>197.426 .. -23.3767</td><td>ivo://eso.org/ID?ADP.2023-12-06T10:28:01.808</td><td>2023-12-06T10:33:41Z</td><td>ESO</td><td>public</td><td>-23.37674</td><td>197.426199</td><td>POSITION J2000 197.426199 -23.37674</td><td>3.0</td><td>FK5</td><td>--</td><td>1078.202880859375</td><td>0.02083244000095874</td><td>1799.923</td><td>57987.00344725</td><td>57986.99303103</td><td>57986.98261481</td><td>GRB</td><td>absolute</td></tr>\n",
       "</table></div>"
      ],
      "text/plain": [
       "<Table length=94>\n",
       "access_estsize ... WAVECALIB\n",
       "    kbyte      ...          \n",
       "    int64      ...   object \n",
       "-------------- ... ---------\n",
       "          3075 ...  absolute\n",
       "          3075 ...  absolute\n",
       "          1330 ...  absolute\n",
       "          1359 ...  absolute\n",
       "          1359 ...  absolute\n",
       "           734 ...  absolute\n",
       "          1330 ...  absolute\n",
       "           734 ...  absolute\n",
       "          1330 ...  absolute\n",
       "           ... ...       ...\n",
       "           144 ...  absolute\n",
       "           144 ...  absolute\n",
       "           144 ...  absolute\n",
       "           144 ...  absolute\n",
       "           144 ...  absolute\n",
       "           144 ...  absolute\n",
       "           144 ...  absolute\n",
       "           144 ...  absolute\n",
       "           144 ...  absolute"
      ]
     },
     "execution_count": 7,
     "metadata": {},
     "output_type": "execute_result"
    }
   ],
   "source": [
    "size = Quantity(diameter, unit=\"deg\")\n",
    "print(f\"Querying SSA for a {diameter}° diameter around {target}...\")\n",
    "ssap_resultset = ssap_service.search(pos=pos.fk5, diameter=size)\n",
    "ssap_resultset.to_table()"
   ]
  },
  {
   "cell_type": "markdown",
   "id": "69cfe211",
   "metadata": {},
   "source": [
    "## Inspect and Filter Results\n",
    "Define the fields to display and filter by minimum SNR:"
   ]
  },
  {
   "cell_type": "code",
   "execution_count": null,
   "id": "1069fe79",
   "metadata": {},
   "outputs": [],
   "source": [
    "fields = [\"COLLECTION\", \"TARGETNAME\", \"s_ra\", \"s_dec\", \"APERTURE\",\n",
    "          \"em_min\", \"em_max\", \"SPECRP\", \"SNR\", \"t_min\", \"t_max\",\n",
    "          \"CREATORDID\", \"access_url\"]\n",
    "min_SNR = 70\n",
    "\n",
    "print(f\"Filtering spectra with SNR > {min_SNR}...\")\n",
    "count_high_SNR = sum(1 for r in ssap_resultset if r['SNR'] > min_SNR)\n",
    "print(f\"Spectra above threshold: {count_high_SNR}\")"
   ]
  },
  {
   "cell_type": "markdown",
   "id": "e2970527",
   "metadata": {},
   "source": [
    "## Download High-SNR Spectra\n",
    "Prompt the user and download the selected files:"
   ]
  },
  {
   "cell_type": "code",
   "execution_count": null,
   "id": "5b6fb524",
   "metadata": {},
   "outputs": [],
   "source": [
    "if count_high_SNR == 0:\n",
    "    print(\"No spectra exceed the SNR threshold. Exiting.\")\n",
    "else:\n",
    "    save = input(f\"Download {count_high_SNR} spectra with SNR > {min_SNR}? (y/n): \")\n",
    "    if save.lower() == 'y':\n",
    "        for row in ssap_resultset:\n",
    "            if row['SNR'] > min_SNR:\n",
    "                url = row['access_url'].decode()\n",
    "                filename = row['CREATORDID'].decode().split('/')[-1]\n",
    "                print(f\"Downloading {filename}...\")\n",
    "                urllib.request.urlretrieve(url, filename)\n",
    "        print(\"Download complete.\")\n",
    "    else:\n",
    "        print(\"Download canceled by user.\")"
   ]
  },
  {
   "cell_type": "markdown",
   "id": "05fec1c0",
   "metadata": {},
   "source": [
    "## Conclusion\n",
    "In this notebook, we demonstrated how to query the ESO SSA service, apply simple filters, and download data programmatically. This approach can be generalized for other VO services and data filters as needed."
   ]
  }
 ],
 "metadata": {
  "kernelspec": {
   "display_name": "astroquery_eso",
   "language": "python",
   "name": "python3"
  },
  "language_info": {
   "codemirror_mode": {
    "name": "ipython",
    "version": 3
   },
   "file_extension": ".py",
   "mimetype": "text/x-python",
   "name": "python",
   "nbconvert_exporter": "python",
   "pygments_lexer": "ipython3",
   "version": "3.13.5"
  }
 },
 "nbformat": 4,
 "nbformat_minor": 5
}
