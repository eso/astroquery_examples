{
 "cells": [
  {
   "cell_type": "markdown",
   "id": "8a8f644b",
   "metadata": {},
   "source": [
    "<hr style=\"border:2px solid #0281c9\"> </hr>\n",
    "\n",
    "<img align=\"left\" alt=\"ESO Logo\" src=\"http://archive.eso.org/i/esologo.png\">  \n",
    "\n",
    "<div align=\"center\">\n",
    "  <h1 style=\"color: #0281c9; font-weight: bold;\">ESO Science Archive</h1> \n",
    "  <h2 style=\"color: #0281c9; font-weight: bold;\">Jupyter Notebooks</h2>\n",
    "</div>\n",
    "\n",
    "<hr style=\"border:2px solid #0281c9\"> </hr>"
   ]
  },
  {
   "cell_type": "markdown",
   "id": "717f8a30",
   "metadata": {},
   "source": [
    "## **Download all raw data for a given reduced data product**\n",
    "\n",
    "The below example is to download all the raw data used to produce one of the reduced products in the `195.B-0283` survey. \n",
    "\n",
    "---\n",
    "**Note:** See `ESO_Introduction` and `ESO_Query` notebooks for more basic usage.\n",
    "\n",
    "<hr style=\"border:2px solid #0281c9\"> </hr>"
   ]
  },
  {
   "cell_type": "code",
   "execution_count": 2,
   "id": "8416724f",
   "metadata": {},
   "outputs": [
    {
     "name": "stdout",
     "output_type": "stream",
     "text": [
      "astroquery version: 0.4.11.dev10290\n",
      "INFO: Downloading datasets ... [astroquery.eso.core]\n",
      "INFO: Downloading 1 files ... [astroquery.eso.core]\n",
      "INFO: Downloading file 1/1 https://dataportal.eso.org/dataPortal/file/HAWKI.2015-06-08T04:14:46.037 to /Users/abarnes/.astropy/cache/astroquery/Eso [astroquery.eso.core]\n"
     ]
    },
    {
     "name": "stderr",
     "output_type": "stream",
     "text": [
      "/opt/anaconda3/envs/tst/lib/python3.9/site-packages/pyvo/dal/query.py:341: DALOverflowWarning: Partial result set. Potential causes MAXREC, async storage space, etc.\n",
      "  warn(\"Partial result set. Potential causes MAXREC, async storage space, etc.\",\n",
      "WARNING: MaxResultsWarning: Results truncated to 3. To retrieve all the records set to None the maxrec attribute [astroquery.eso.core]\n"
     ]
    },
    {
     "name": "stdout",
     "output_type": "stream",
     "text": [
      "INFO: Successfully downloaded dataset HAWKI.2015-06-08T04:14:46.037 to /Users/abarnes/.astropy/cache/astroquery/Eso/HAWKI.2015-06-08T04:14:46.037.fits.Z [astroquery.eso.core]\n",
      "INFO: Uncompressing file /Users/abarnes/.astropy/cache/astroquery/Eso/HAWKI.2015-06-08T04:14:46.037.fits.Z [astroquery.eso.core]\n",
      "INFO: Done! [astroquery.eso.core]\n"
     ]
    }
   ],
   "source": [
    "import astroquery # import astroquery\n",
    "print(f\"astroquery version: {astroquery.__version__}\") # check the version of astroquery\n",
    "\n",
    "from astroquery.eso import Eso # import the ESO module from astroquery\n",
    "eso = Eso() # create an instance of the ESO class \n",
    "\n",
    "instrument = \"HAWKI\"       # the instrument to HAWKI\n",
    "prog_id    = \"195.B-0283\"  # the program ID\n",
    "dp_cat     = \"SCIENCE\"     # the data product category to SCIENCE\n",
    "\n",
    "eso.maxrec = 3    # For this example we limit the number of records to 3\n",
    "\n",
    "table_reduced = eso.query_surveys(prog_id) # query the survey with the program ID\n",
    "dp_ip = table_reduced[0][\"dp_id\"] # get the dp_id of the first data product\n",
    "\n",
    "header = eso.get_headers([dp_ip]) # get the headers of the data products in the table\n",
    "dp_ips_raw = [header[keyword].value[0] for keyword in header.colnames if keyword.startswith(\"PROV\")] # get the dp_id of the raw data products\n",
    "\n",
    "data_files = eso.retrieve_data(dp_ips_raw[0]) # download the first raw data product (to test)\n",
    "# data_files = eso.retrieve_data(dp_ips_raw) # download raw data "
   ]
  },
  {
   "cell_type": "markdown",
   "id": "85d3e33d",
   "metadata": {},
   "source": [
    "<hr style=\"border:2px solid #0281c9\"> </hr>"
   ]
  }
 ],
 "metadata": {
  "kernelspec": {
   "display_name": "tst",
   "language": "python",
   "name": "python3"
  },
  "language_info": {
   "codemirror_mode": {
    "name": "ipython",
    "version": 3
   },
   "file_extension": ".py",
   "mimetype": "text/x-python",
   "name": "python",
   "nbconvert_exporter": "python",
   "pygments_lexer": "ipython3",
   "version": "3.9.21"
  }
 },
 "nbformat": 4,
 "nbformat_minor": 5
}
