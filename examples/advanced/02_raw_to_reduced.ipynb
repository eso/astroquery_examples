{
 "cells": [
  {
   "cell_type": "markdown",
   "id": "8a8f644b",
   "metadata": {},
   "source": [
    "<hr style=\"border:2px solid #0281c9\"> </hr>\n",
    "\n",
    "<img align=\"left\" alt=\"ESO Logo\" src=\"http://archive.eso.org/i/esologo.png\">  \n",
    "\n",
    "<div align=\"center\">\n",
    "  <h1 style=\"color: #0281c9; font-weight: bold;\">ESO Science Archive</h1> \n",
    "  <h2 style=\"color: #0281c9; font-weight: bold;\">Jupyter Notebooks</h2>\n",
    "</div>\n",
    "\n",
    "<hr style=\"border:2px solid #0281c9\"> </hr>"
   ]
  },
  {
   "cell_type": "markdown",
   "id": "717f8a30",
   "metadata": {},
   "source": [
    "## **Download all raw data for a given reduced data product**\n",
    "\n",
    "The below example is to download all the raw data used to produce one of the reduced products in the `195.B-0283` survey. \n",
    "\n",
    "---\n",
    "**Note:** See `ESO_Introduction` and `ESO_Query` notebooks for more basic usage.\n",
    "\n",
    "<hr style=\"border:2px solid #0281c9\"> </hr>"
   ]
  },
  {
   "cell_type": "code",
   "execution_count": 1,
   "id": "670026d8",
   "metadata": {},
   "outputs": [],
   "source": [
    "# downloadURL(file_url[, dirname, filename, session]): Method to download a file given its URL,\n",
    "# either anonymously or with a token.\n",
    "# Returns: http status, filepath on disk (if successul)\n",
    "import cgi\n",
    "import os\n",
    "import sys\n",
    "import requests\n",
    "def downloadURL(file_url, dirname='./data/', filename=None, session=None):\n",
    "    \"\"\"Method to download a file, either anonymously (no session or session not \"tokenized\"), or authenticated (if session with token is provided).\n",
    "       It returns: http status, and filepath on disk (if successful)\"\"\"\n",
    "\n",
    "    if dirname != None:\n",
    "        if not os.access(dirname, os.W_OK):\n",
    "            print(\"ERROR: Provided directory (%s) is not writable\" % (dirname))\n",
    "            sys.exit(1)\n",
    "      \n",
    "    if session!=None:\n",
    "        response = session.get(file_url, stream=True)\n",
    "    else:\n",
    "        # no session -> no authentication\n",
    "        response = requests.get(file_url, stream=True)\n",
    "\n",
    "    # If not provided, define the filename from the response header\n",
    "    if filename == None:\n",
    "        contentdisposition = response.headers.get('Content-Disposition')\n",
    "        if contentdisposition != None:\n",
    "            value, params = cgi.parse_header(contentdisposition)\n",
    "            filename = params[\"filename\"]\n",
    "\n",
    "        # if the response header does not provide a name, derive a name from the URL\n",
    "        if filename == None:\n",
    "            # last chance: get anything after the last '/'\n",
    "            filename = file_url[file_url.rindex('/')+1:]\n",
    "\n",
    "    # define the file path where the file is going to be stored\n",
    "    if dirname == None:\n",
    "        filepath = filename\n",
    "    else:\n",
    "        filepath = dirname + '/' + filename\n",
    "\n",
    "    if response.status_code == 200:\n",
    "        with open(filepath, 'wb') as f:\n",
    "            for chunk in response.iter_content(chunk_size=50000):\n",
    "                f.write(chunk)\n",
    "\n",
    "    return (response.status_code, filepath)"
   ]
  },
  {
   "cell_type": "code",
   "execution_count": 2,
   "id": "8416724f",
   "metadata": {},
   "outputs": [
    {
     "name": "stdout",
     "output_type": "stream",
     "text": [
      "astroquery version: 0.4.11.dev10290\n"
     ]
    },
    {
     "name": "stderr",
     "output_type": "stream",
     "text": [
      "/opt/anaconda3/envs/tst/lib/python3.9/site-packages/pyvo/dal/query.py:341: DALOverflowWarning: Partial result set. Potential causes MAXREC, async storage space, etc.\n",
      "  warn(\"Partial result set. Potential causes MAXREC, async storage space, etc.\",\n",
      "WARNING: MaxResultsWarning: Results truncated to 3. To retrieve all the records set to None the maxrec attribute [astroquery.eso.core]\n"
     ]
    }
   ],
   "source": [
    "import astroquery # import astroquery\n",
    "print(f\"astroquery version: {astroquery.__version__}\") # check the version of astroquery\n",
    "\n",
    "from astroquery.eso import Eso # import the ESO module from astroquery\n",
    "eso = Eso() # create an instance of the ESO class \n",
    "\n",
    "instrument = \"HAWKI\"       # the instrument to HAWKI\n",
    "prog_id    = \"195.B-0283\"  # the program ID\n",
    "dp_cat     = \"SCIENCE\"     # the data product category to SCIENCE\n",
    "\n",
    "eso.maxrec = 3    # For this example we limit the number of records to 3\n",
    "\n",
    "table_reduced = eso.query_surveys(prog_id) # query the survey with the program ID\n",
    "dp_ip = table_reduced[0][\"dp_id\"] # get the dp_id of the first data product\n",
    "\n",
    "header = eso.get_headers([dp_ip]) # get the headers of the data products in the table\n",
    "dp_ips_raw = [header[keyword].value[0] for keyword in header.colnames if keyword.startswith(\"PROV\")] # get the dp_id of the raw data products\n",
    "\n",
    "# data_files = eso.retrieve_data(dp_ips_raw[0]) # download the first raw data product (to test)\n",
    "# data_files = eso.retrieve_data(dp_ips_raw) # download raw data "
   ]
  },
  {
   "cell_type": "code",
   "execution_count": 3,
   "id": "61d0434e",
   "metadata": {},
   "outputs": [
    {
     "data": {
      "text/html": [
       "<i>Row index=0</i>\n",
       "<table id=\"table4615164016\">\n",
       "<thead><tr><th>object</th><th>ra</th><th>dec</th><th>dp_id</th><th>date_obs</th><th>prog_id</th><th>access_estsize</th><th>access_url</th><th>datalink_url</th><th>dec_pnt</th><th>det_chip1id</th><th>det_chop_ncycles</th><th>det_dit</th><th>det_expid</th><th>det_ndit</th><th>dp_cat</th><th>dp_tech</th><th>dp_type</th><th>ecl_lat</th><th>ecl_lon</th><th>exp_start</th><th>exposure</th><th>filter_path</th><th>gal_lat</th><th>gal_lon</th><th>grat_path</th><th>gris_path</th><th>ins_mode</th><th>instrument</th><th>lambda_max</th><th>lambda_min</th><th>last_mod_date</th><th>mjd_obs</th><th>ob_id</th><th>ob_name</th><th>obs_mode</th><th>origfile</th><th>period</th><th>pi_coi</th><th>prog_title</th><th>prog_type</th><th>ra_pnt</th><th>release_date</th><th>s_region</th><th>slit_path</th><th>target</th><th>tel_airm_end</th><th>tel_airm_start</th><th>tel_alt</th><th>tel_ambi_fwhm_end</th><th>tel_ambi_fwhm_start</th><th>tel_ambi_pres_end</th><th>tel_ambi_pres_start</th><th>tel_ambi_rhum</th><th>tel_az</th><th>telescope</th><th>tpl_expno</th><th>tpl_id</th><th>tpl_name</th><th>tpl_nexp</th><th>tpl_seqno</th><th>tpl_start</th></tr></thead>\n",
       "<thead><tr><th></th><th>deg</th><th>deg</th><th></th><th></th><th></th><th>kbyte</th><th></th><th></th><th>deg</th><th></th><th></th><th>s</th><th></th><th></th><th></th><th></th><th></th><th>deg</th><th>deg</th><th></th><th>s</th><th></th><th>deg</th><th>deg</th><th></th><th></th><th></th><th></th><th>nm</th><th>nm</th><th></th><th>d</th><th></th><th></th><th></th><th></th><th></th><th></th><th></th><th></th><th>deg</th><th></th><th></th><th></th><th></th><th></th><th></th><th>deg</th><th>arcsec</th><th>arcsec</th><th>hPa</th><th>hPa</th><th>%</th><th>deg</th><th></th><th></th><th></th><th></th><th></th><th></th><th></th></tr></thead>\n",
       "<thead><tr><th>object</th><th>float64</th><th>float64</th><th>object</th><th>object</th><th>object</th><th>int64</th><th>object</th><th>object</th><th>float64</th><th>object</th><th>int16</th><th>float32</th><th>int16</th><th>int16</th><th>object</th><th>object</th><th>object</th><th>float64</th><th>float64</th><th>object</th><th>float32</th><th>object</th><th>float64</th><th>float64</th><th>object</th><th>object</th><th>object</th><th>object</th><th>float64</th><th>float64</th><th>object</th><th>float64</th><th>int32</th><th>object</th><th>object</th><th>object</th><th>int16</th><th>object</th><th>object</th><th>int32</th><th>float64</th><th>object</th><th>object</th><th>object</th><th>object</th><th>float32</th><th>float32</th><th>float32</th><th>float32</th><th>float32</th><th>float32</th><th>float32</th><th>float32</th><th>float32</th><th>object</th><th>int32</th><th>object</th><th>object</th><th>int32</th><th>int32</th><th>object</th></tr></thead>\n",
       "<tr><td>FAST-SGRA-10</td><td>266.55260305</td><td>-28.81358</td><td>HAWKI.2015-06-08T04:27:11.526</td><td>2015-06-08T04:27:11.5263</td><td>195.B-0283(A)</td><td>188713</td><td>https://dataportal.eso.org/dataPortal/file/HAWKI.2015-06-08T04:27:11.526</td><td>https://archive.eso.org/datalink/links?ID=ivo://eso.org/ID?HAWKI.2015-06-08T04:27:11.526</td><td>-28.81358</td><td></td><td>--</td><td>1.2621</td><td>28368</td><td>20</td><td>SCIENCE</td><td>IMAGE,HIT</td><td>OBJECT</td><td>-5.410595</td><td>273.033689</td><td>2015-06-08T04:27:11.527Z</td><td>25.242</td><td>J,OPEN</td><td>-0.046583</td><td>0.172024</td><td></td><td></td><td>IMG</td><td>HAWKI</td><td>1335.0</td><td>1181.0</td><td>2015-06-08T13:32:04.260Z</td><td>57181.18555007</td><td>200357897</td><td>FAST_GC-10-J</td><td>v</td><td>HAWKI_IMG_OBS_FAST159_0287.fits</td><td>95</td><td>SCHOEDEL/ NEUMAYER/ NOGUERAS/ GALLEGO/ GALLEGO/ DONG/ NAJARRO/ FELDMEIER/ NISHIYAMA/ GIRARD</td><td>THE FINGERPRINT OF A GALACTIC NUCLEUS: A $0.2$-RESOLUTION $JHK$ IMAGING SURVEY OF THE CENTRE OF THE MILKY WAY</td><td>4</td><td>266.552603</td><td>2016-06-08T13:32:03.080Z</td><td>POSITION J2000 266.552603 -28.81358</td><td></td><td>FAST-SGRA-10</td><td>1.027</td><td>1.028</td><td>76.673</td><td>1.8</td><td>1.8</td><td>745.53</td><td>745.52</td><td>6.0</td><td>291.408</td><td>ESO-VLT-U4</td><td>1</td><td>HAWKI_img_obs_FastPhot</td><td>Imaging fast photometry with jitter (no offsets</td><td>39</td><td>2</td><td>2015-06-08T04:26:55</td></tr>\n",
       "</table>"
      ],
      "text/plain": [
       "<Row index=0>\n",
       "   object         ra         dec                dp_id                     date_obs            prog_id    access_estsize                                access_url                                                                      datalink_url                                        dec_pnt  det_chip1id det_chop_ncycles det_dit det_expid det_ndit  dp_cat  dp_tech  dp_type  ecl_lat   ecl_lon          exp_start         exposure filter_path  gal_lat  gal_lon  grat_path gris_path ins_mode instrument lambda_max lambda_min      last_mod_date          mjd_obs       ob_id     ob_name    obs_mode             origfile            period                                            pi_coi                                                                                             prog_title                                                  prog_type   ra_pnt         release_date                     s_region              slit_path    target    tel_airm_end tel_airm_start tel_alt tel_ambi_fwhm_end tel_ambi_fwhm_start tel_ambi_pres_end tel_ambi_pres_start tel_ambi_rhum  tel_az telescope  tpl_expno         tpl_id                             tpl_name                    tpl_nexp tpl_seqno      tpl_start     \n",
       "                 deg         deg                                                                             kbyte                                                                                                                                                                           deg                                    s                                                    deg       deg                                 s                    deg      deg                                                nm         nm                                    d                                                                                                                                                                                                                                                                                                      deg                                                                                                                       deg         arcsec             arcsec              hPa                hPa               %         deg                                                                                                                                     \n",
       "   object      float64     float64              object                     object              object        int64                                       object                                                                           object                                           float64     object        int16       float32   int16    int16    object   object   object  float64   float64            object          float32     object    float64  float64    object    object   object    object    float64    float64            object             float64       int32      object     object               object             int16                                             object                                                                                               object                                                      int32    float64            object                         object                 object     object      float32       float32     float32      float32            float32            float32            float32          float32    float32   object     int32           object                              object                      int32     int32          object      \n",
       "------------ ------------ --------- ----------------------------- ------------------------ ------------- -------------- ------------------------------------------------------------------------ ---------------------------------------------------------------------------------------- --------- ----------- ---------------- ------- --------- -------- ------- --------- ------- --------- ---------- ------------------------ -------- ----------- --------- -------- --------- --------- -------- ---------- ---------- ---------- ------------------------ -------------- --------- ------------ -------- ------------------------------- ------ ------------------------------------------------------------------------------------------- ------------------------------------------------------------------------------------------------------------- --------- ---------- ------------------------ ----------------------------------- --------- ------------ ------------ -------------- ------- ----------------- ------------------- ----------------- ------------------- ------------- ------- ---------- --------- ---------------------- ----------------------------------------------- -------- --------- -------------------\n",
       "FAST-SGRA-10 266.55260305 -28.81358 HAWKI.2015-06-08T04:27:11.526 2015-06-08T04:27:11.5263 195.B-0283(A)         188713 https://dataportal.eso.org/dataPortal/file/HAWKI.2015-06-08T04:27:11.526 https://archive.eso.org/datalink/links?ID=ivo://eso.org/ID?HAWKI.2015-06-08T04:27:11.526 -28.81358                           --  1.2621     28368       20 SCIENCE IMAGE,HIT  OBJECT -5.410595 273.033689 2015-06-08T04:27:11.527Z   25.242      J,OPEN -0.046583 0.172024                          IMG      HAWKI     1335.0     1181.0 2015-06-08T13:32:04.260Z 57181.18555007 200357897 FAST_GC-10-J        v HAWKI_IMG_OBS_FAST159_0287.fits     95 SCHOEDEL/ NEUMAYER/ NOGUERAS/ GALLEGO/ GALLEGO/ DONG/ NAJARRO/ FELDMEIER/ NISHIYAMA/ GIRARD THE FINGERPRINT OF A GALACTIC NUCLEUS: A $0.2$-RESOLUTION $JHK$ IMAGING SURVEY OF THE CENTRE OF THE MILKY WAY         4 266.552603 2016-06-08T13:32:03.080Z POSITION J2000 266.552603 -28.81358           FAST-SGRA-10        1.027          1.028  76.673               1.8                 1.8            745.53              745.52           6.0 291.408 ESO-VLT-U4         1 HAWKI_img_obs_FastPhot Imaging fast photometry with jitter (no offsets       39         2 2015-06-08T04:26:55"
      ]
     },
     "execution_count": 3,
     "metadata": {},
     "output_type": "execute_result"
    }
   ],
   "source": [
    "table_raw = eso.query_main(instrument, column_filters={\"dp_id\": dp_ips_raw[10]})[0]\n",
    "# table_raw = eso.query_main(\"SPHERE\", column_filters={\"prog_id\": \"'098.C-0739(C)'\", \"dp_cat\": \"SCIENCE\"})[0]\n",
    "table_raw"
   ]
  },
  {
   "cell_type": "code",
   "execution_count": 4,
   "id": "de5e2772",
   "metadata": {},
   "outputs": [
    {
     "data": {
      "text/plain": [
       "'https://archive.eso.org/datalink/links?ID=ivo://eso.org/ID?HAWKI.2015-06-08T04:27:11.526'"
      ]
     },
     "execution_count": 4,
     "metadata": {},
     "output_type": "execute_result"
    }
   ],
   "source": [
    "# For the sake of this example, let's just consider the first science raw frame:\n",
    "datalink_url = table_raw['datalink_url']\n",
    "datalink_url"
   ]
  },
  {
   "cell_type": "code",
   "execution_count": 5,
   "id": "98268810",
   "metadata": {},
   "outputs": [
    {
     "data": {
      "text/html": [
       "<div><i>Table length=8</i>\n",
       "<table id=\"table4618641264\" class=\"table-striped table-bordered table-condensed\">\n",
       "<thead><tr><th>ID</th><th>access_url</th><th>service_def</th><th>error_message</th><th>semantics</th><th>description</th><th>content_type</th><th>content_length</th><th>eso_origfile</th><th>eso_category</th><th>eso_datalink</th></tr></thead>\n",
       "<thead><tr><th></th><th></th><th></th><th></th><th></th><th></th><th></th><th>byte</th><th></th><th></th><th></th></tr></thead>\n",
       "<thead><tr><th>object</th><th>object</th><th>object</th><th>object</th><th>object</th><th>object</th><th>object</th><th>int64</th><th>object</th><th>object</th><th>object</th></tr></thead>\n",
       "<tr><td>ivo://eso.org/ID?HAWKI.2015-06-08T04:27:11.526</td><td>https://dataportal.eso.org/dataPortal/file/HAWKI.2015-06-08T04:27:11.526</td><td></td><td></td><td>#this</td><td>Requested file</td><td>application/fits</td><td>188713993</td><td>HAWKI.2015-06-08T04:27:11.526.fits.Z</td><td></td><td>https://archive.eso.org/datalink/links?ID=ivo://eso.org/ID?HAWKI.2015-06-08T04:27:11.526</td></tr>\n",
       "<tr><td>ivo://eso.org/ID?HAWKI.2015-06-08T04:27:11.526</td><td>https://dataportal.eso.org/dataPortal/file/ADP.2021-04-30T12:05:58.577</td><td></td><td></td><td>#derivation</td><td>Science product derived from the requested file</td><td>image/fits</td><td>46088640</td><td>F10_chip1_J.fits</td><td>SCIENCE.IMAGE</td><td>https://archive.eso.org/datalink/links?ID=ivo://eso.org/ID?ADP.2021-04-30T12:05:58.577</td></tr>\n",
       "<tr><td>ivo://eso.org/ID?HAWKI.2015-06-08T04:27:11.526</td><td>https://dataportal.eso.org/dataPortal/file/ADP.2021-04-30T12:05:58.579</td><td></td><td></td><td>#derivation</td><td>Science product derived from the requested file</td><td>image/fits</td><td>46088640</td><td>F10_chip2_J.fits</td><td>SCIENCE.IMAGE</td><td>https://archive.eso.org/datalink/links?ID=ivo://eso.org/ID?ADP.2021-04-30T12:05:58.579</td></tr>\n",
       "<tr><td>ivo://eso.org/ID?HAWKI.2015-06-08T04:27:11.526</td><td>https://dataportal.eso.org/dataPortal/file/ADP.2021-04-30T12:05:58.581</td><td></td><td></td><td>#derivation</td><td>Science product derived from the requested file</td><td>image/fits</td><td>46088640</td><td>F10_chip3_J.fits</td><td>SCIENCE.IMAGE</td><td>https://archive.eso.org/datalink/links?ID=ivo://eso.org/ID?ADP.2021-04-30T12:05:58.581</td></tr>\n",
       "<tr><td>ivo://eso.org/ID?HAWKI.2015-06-08T04:27:11.526</td><td>https://dataportal.eso.org/dataPortal/file/ADP.2021-04-30T12:05:58.583</td><td></td><td></td><td>#derivation</td><td>Science product derived from the requested file</td><td>image/fits</td><td>46088640</td><td>F10_chip4_J.fits</td><td>SCIENCE.IMAGE</td><td>https://archive.eso.org/datalink/links?ID=ivo://eso.org/ID?ADP.2021-04-30T12:05:58.583</td></tr>\n",
       "<tr><td>ivo://eso.org/ID?HAWKI.2015-06-08T04:27:11.526</td><td>https://archive.eso.org/calselector/v1/associations?dp_id=HAWKI.2015-06-08T04:27:11.526&amp;mode=Raw2Raw&amp;responseformat=votable</td><td></td><td></td><td>http://archive.eso.org/rdf/datalink/eso#calSelector_raw2raw</td><td>List of access points of all the raw calibrations associated to the provided input raw file, and siblings (if any)</td><td>application/x-votable+xml</td><td>500000</td><td></td><td></td><td></td></tr>\n",
       "<tr><td>ivo://eso.org/ID?HAWKI.2015-06-08T04:27:11.526</td><td>https://archive.eso.org/calselector/v1/associations?dp_id=HAWKI.2015-06-08T04:27:11.526&amp;mode=Raw2Master&amp;responseformat=votable</td><td></td><td></td><td>http://archive.eso.org/rdf/datalink/eso#calSelector_raw2master</td><td>List of access points of all the master calibrations associated to the provided input raw file, and siblings (if any)</td><td>application/x-votable+xml</td><td>500000</td><td></td><td></td><td></td></tr>\n",
       "<tr><td>ivo://eso.org/ID?HAWKI.2015-06-08T04:27:11.526</td><td>https://dataportal.eso.org/dataPortal/file/HAWKI.2015-06-08T04:27:11.526.NL</td><td></td><td></td><td>http://archive.eso.org/rdf/datalink/eso#night_log</td><td>The Night Log report contains comments on any issues that could have happened during the observation (e.g. instrument problems), as well as the information about the ambient conditions (airmass, seeing, transparency, etc.). The content_length provides only an order of magnitude of the file size.</td><td>text/plain</td><td>10000</td><td>HAWKI.2015-06-08T04:27:11.526.NL.txt</td><td>Night Log</td><td></td></tr>\n",
       "</table></div>"
      ],
      "text/plain": [
       "<Table length=8>\n",
       "                      ID                       ...\n",
       "                                               ...\n",
       "                    object                     ...\n",
       "---------------------------------------------- ...\n",
       "ivo://eso.org/ID?HAWKI.2015-06-08T04:27:11.526 ...\n",
       "ivo://eso.org/ID?HAWKI.2015-06-08T04:27:11.526 ...\n",
       "ivo://eso.org/ID?HAWKI.2015-06-08T04:27:11.526 ...\n",
       "ivo://eso.org/ID?HAWKI.2015-06-08T04:27:11.526 ...\n",
       "ivo://eso.org/ID?HAWKI.2015-06-08T04:27:11.526 ...\n",
       "ivo://eso.org/ID?HAWKI.2015-06-08T04:27:11.526 ...\n",
       "ivo://eso.org/ID?HAWKI.2015-06-08T04:27:11.526 ...\n",
       "ivo://eso.org/ID?HAWKI.2015-06-08T04:27:11.526 ..."
      ]
     },
     "execution_count": 5,
     "metadata": {},
     "output_type": "execute_result"
    }
   ],
   "source": [
    "import pyvo\n",
    "datalink = pyvo.dal.adhoc.DatalinkResults.from_result_url(datalink_url)\n",
    "datalink.to_table()"
   ]
  },
  {
   "cell_type": "code",
   "execution_count": 6,
   "id": "ccb3e94f",
   "metadata": {},
   "outputs": [
    {
     "data": {
      "text/plain": [
       "'https://archive.eso.org/calselector/v1/associations?dp_id=HAWKI.2015-06-08T04:27:11.526&mode=Raw2Master&responseformat=votable'"
      ]
     },
     "execution_count": 6,
     "metadata": {},
     "output_type": "execute_result"
    }
   ],
   "source": [
    "# Let's get the link to the processed calibration files (raw2master)\n",
    "\n",
    "semantics = 'http://archive.eso.org/rdf/datalink/eso#calSelector_raw2master'\n",
    "\n",
    "raw2master_url = next(datalink.bysemantics( semantics )).access_url\n",
    "raw2master_url"
   ]
  },
  {
   "cell_type": "code",
   "execution_count": 7,
   "id": "e61bc175",
   "metadata": {},
   "outputs": [
    {
     "data": {
      "text/html": [
       "<div><i>Table length=3</i>\n",
       "<table id=\"table5147508208\" class=\"table-striped table-bordered table-condensed\">\n",
       "<thead><tr><th>ID</th><th>access_url</th><th>service_def</th><th>error_message</th><th>semantics</th><th>description</th><th>content_type</th><th>content_length</th><th>eso_category</th><th>eso_datalink</th></tr></thead>\n",
       "<thead><tr><th></th><th></th><th></th><th></th><th></th><th></th><th></th><th>byte</th><th></th><th></th></tr></thead>\n",
       "<thead><tr><th>object</th><th>object</th><th>object</th><th>object</th><th>object</th><th>object</th><th>object</th><th>int64</th><th>object</th><th>object</th></tr></thead>\n",
       "<tr><td>ivo://eso.org/ID?HAWKI.2015-06-08T04:27:11.526</td><td>https://dataportal.eso.org/dataPortal/file/HAWKI.2015-06-08T04:27:11.526</td><td></td><td></td><td>#this</td><td>category=&quot;HIT_SCIENCE_IMG&quot; certified=&quot;false&quot; complete=&quot;true&quot; mode=&quot;Raw2Raw&quot; type=&quot;main&quot; messages=&quot;&quot;</td><td>application/fits</td><td>188713993</td><td>HIT_JITTER_OBS</td><td>https://archive.eso.org/datalink/links?ID=ivo://eso.org/ID?HAWKI.2015-06-08T04:27:11.526</td></tr>\n",
       "<tr><td>ivo://eso.org/ID?HAWKI.2015-06-08T04:27:11.526</td><td>https://dataportal.eso.org/dataPortal/file/HAWKI.2015-06-08T04:27:50.266</td><td></td><td></td><td>http://archive.eso.org/rdf/datalink/eso#sibling_raw</td><td>Any raw science file that needs to/can be calibrated together with the science raw file provided in input</td><td>application/fits</td><td>189104547</td><td>HIT_JITTER_OBS</td><td>https://archive.eso.org/datalink/links?ID=ivo://eso.org/ID?HAWKI.2015-06-08T04:27:50.266</td></tr>\n",
       "<tr><td>ivo://eso.org/ID?HAWKI.2015-06-08T04:27:11.526</td><td>https://dataportal.eso.org/dataPortal/file/HAWKI.2015-06-08T04:28:29.008</td><td></td><td></td><td>http://archive.eso.org/rdf/datalink/eso#sibling_raw</td><td>Any raw science file that needs to/can be calibrated together with the science raw file provided in input</td><td>application/fits</td><td>188650159</td><td>HIT_JITTER_OBS</td><td>https://archive.eso.org/datalink/links?ID=ivo://eso.org/ID?HAWKI.2015-06-08T04:28:29.008</td></tr>\n",
       "</table></div>"
      ],
      "text/plain": [
       "<Table length=3>\n",
       "                      ID                       ...\n",
       "                                               ...\n",
       "                    object                     ...\n",
       "---------------------------------------------- ...\n",
       "ivo://eso.org/ID?HAWKI.2015-06-08T04:27:11.526 ...\n",
       "ivo://eso.org/ID?HAWKI.2015-06-08T04:27:11.526 ...\n",
       "ivo://eso.org/ID?HAWKI.2015-06-08T04:27:11.526 ..."
      ]
     },
     "execution_count": 7,
     "metadata": {},
     "output_type": "execute_result"
    }
   ],
   "source": [
    "associated_calib_files = pyvo.dal.adhoc.DatalinkResults.from_result_url(raw2master_url)\n",
    "associated_calib_files.to_table()[:3]"
   ]
  },
  {
   "cell_type": "code",
   "execution_count": 8,
   "id": "22a5ee35",
   "metadata": {},
   "outputs": [
    {
     "data": {
      "text/html": [
       "<div><i>Table length=3</i>\n",
       "<table id=\"table5147034864\" class=\"table-striped table-bordered table-condensed\">\n",
       "<thead><tr><th>access_url</th><th>eso_category</th></tr></thead>\n",
       "<thead><tr><th>object</th><th>object</th></tr></thead>\n",
       "<tr><td>https://dataportal.eso.org/dataPortal/file/M.HAWKI.2017-05-05T10:55:25.030</td><td>MASTER_2MASS_CATALOGUE_ASTROM</td></tr>\n",
       "<tr><td>https://dataportal.eso.org/dataPortal/file/M.HAWKI.2017-05-05T10:55:03.200</td><td>MASTER_2MASS_CATALOGUE_PHOTOM</td></tr>\n",
       "<tr><td>https://dataportal.eso.org/dataPortal/file/M.HAWKI.2017-01-10T15:19:36.363</td><td>SCHLEGEL_MAP_NORTH</td></tr>\n",
       "</table></div>"
      ],
      "text/plain": [
       "<Table length=3>\n",
       "                                access_url                                 ...\n",
       "                                  object                                   ...\n",
       "-------------------------------------------------------------------------- ...\n",
       "https://dataportal.eso.org/dataPortal/file/M.HAWKI.2017-05-05T10:55:25.030 ...\n",
       "https://dataportal.eso.org/dataPortal/file/M.HAWKI.2017-05-05T10:55:03.200 ...\n",
       "https://dataportal.eso.org/dataPortal/file/M.HAWKI.2017-01-10T15:19:36.363 ..."
      ]
     },
     "execution_count": 8,
     "metadata": {},
     "output_type": "execute_result"
    }
   ],
   "source": [
    "# create and use a mask to get only the #calibration entries,\n",
    "# given that other entries, like #this or ...#sibiling_raw, could be present:\n",
    "calibrator_mask = associated_calib_files['semantics'] == '#calibration'\n",
    "calib_urls = associated_calib_files.to_table()[calibrator_mask]['access_url','eso_category']\n",
    "calib_urls[:3]  # show the first 3 calibration files"
   ]
  },
  {
   "cell_type": "code",
   "execution_count": 11,
   "id": "6af671ba",
   "metadata": {},
   "outputs": [],
   "source": [
    "##   - printCalselectorInfo(description, mode_requested): method that returns\n",
    "##     possible alerts and warnings on the obtained calibration cascade,\n",
    "##     while printing most relevant info.\n",
    "\n",
    "# calselectorInfo(description): [internal] parsing a calselector description \n",
    "import re\n",
    "def calselectorInfo(description):\n",
    "    \"\"\"Parse the main calSelector description, and fetch: category, complete, certified, mode, and messages.\"\"\"\n",
    "\n",
    "    category=\"\"\n",
    "    complete=\"\"\n",
    "    certified=\"\"\n",
    "    mode=\"\"\n",
    "    messages=\"\"\n",
    "\n",
    "    m = re.search('category=\"([^\"]+)\"', description)\n",
    "    if m:\n",
    "        category=m.group(1)\n",
    "    m = re.search('complete=\"([^\"]+)\"', description)\n",
    "    if m:\n",
    "        complete=m.group(1).lower()\n",
    "    m = re.search('certified=\"([^\"]+)\"', description)\n",
    "    if m:\n",
    "        certified=m.group(1).lower()\n",
    "    m = re.search('mode=\"([^\"]+)\"', description)\n",
    "    if m:\n",
    "        mode=m.group(1).lower()\n",
    "    m = re.search('messages=\"([^\"]+)\"', description)\n",
    "    if m:\n",
    "        messages=m.group(1)\n",
    "\n",
    "    return category, complete, certified, mode, messages\n",
    "\n",
    "\n",
    "def printCalselectorInfo(description, mode_requested):\n",
    "    \"\"\"Print the most relevant params contained in the main calselector description.\"\"\"\n",
    "\n",
    "    category, complete, certified, mode_executed, messages = calselectorInfo(description)\n",
    "\n",
    "    alert=\"\"\n",
    "    if complete!= \"true\":\n",
    "        alert = \"ALERT: incomplete calibration cascade\"\n",
    "\n",
    "    mode_warning=\"\"\n",
    "    if mode_executed != mode_requested:\n",
    "        mode_warning = \"WARNING: requested mode (%s) could not be executed\" % (mode_requested)\n",
    "\n",
    "    certified_warning=\"\"\n",
    "    if certified != \"true\":\n",
    "        certified_warning = \"WARNING: certified=\\\"%s\\\"\" %(certified)\n",
    "\n",
    "    print(\"    calibration info:\")\n",
    "    print(\"    ------------------------------------\")\n",
    "    print(\"    science category=%s\" % (category))\n",
    "    print(\"    cascade complete=%s\" % (complete))\n",
    "    print(\"    cascade messages=%s\" % (messages))\n",
    "    print(\"    cascade certified=%s\" % (certified))\n",
    "    print(\"    cascade executed mode=%s\" % (mode_executed))\n",
    "    print(\"    full description: %s\" % (description))\n",
    "\n",
    "    return alert, mode_warning, certified_warning"
   ]
  },
  {
   "cell_type": "code",
   "execution_count": 12,
   "id": "3c9c6e80",
   "metadata": {},
   "outputs": [
    {
     "name": "stdout",
     "output_type": "stream",
     "text": [
      "    calibration info:\n",
      "    ------------------------------------\n",
      "    science category=HIT_SCIENCE_IMG\n",
      "    cascade complete=true\n",
      "    cascade messages=\n",
      "    cascade certified=false\n",
      "    cascade executed mode=raw2raw\n",
      "    full description: category=\"HIT_SCIENCE_IMG\" certified=\"false\" complete=\"true\" mode=\"Raw2Raw\" type=\"main\" messages=\"\"\n",
      "WARNING: requested mode (raw2master) could not be executed\n",
      "WARNING: certified=\"false\"\n",
      "\n"
     ]
    }
   ],
   "source": [
    "# Given the above list of \"associated_calib_files\"\n",
    "# and knowing that we requested...\n",
    "mode_requested = \"raw2master\"\n",
    "\n",
    "# ... let's print out some important info and warnings on the received calibration cascade: \n",
    "# - is the cascade complete? \n",
    "# - is the cascade certified?\n",
    "# - has the cascade being generated for the mode you requested (processed calibrations) or not?\n",
    "\n",
    "# That info is embedded in the description field of the #this record.\n",
    "# We use the printCalselectorInfo of the eso_programmatic.py to parse/make sense of it.\n",
    "\n",
    "this_description = next(associated_calib_files.bysemantics('#this')).description\n",
    "\n",
    "alert, mode_warning, certified_warning = printCalselectorInfo(this_description, mode_requested)\n",
    "\n",
    "if alert!=\"\":\n",
    "    print(\"%s\" % (alert))\n",
    "if mode_warning!=\"\":\n",
    "    print(\"%s\" % (mode_warning))\n",
    "if certified_warning!=\"\":\n",
    "    print(\"%s\" % (certified_warning))\n",
    "    \n",
    "question = None\n",
    "answer = None\n",
    "if len(calib_urls):\n",
    "    print()\n",
    "    if alert or mode_warning or certified_warning:    \n",
    "        question = \"Given the above warning(s), do you still want to download these %d calib files [y/n]? \" %(len(calib_urls))\n",
    "    else:\n",
    "        question = \"No warnings reported, do you want to download these %d calib files [y/n]? \" %(len(calib_urls))"
   ]
  },
  {
   "cell_type": "code",
   "execution_count": 13,
   "id": "8a7d6f03",
   "metadata": {},
   "outputs": [
    {
     "name": "stdout",
     "output_type": "stream",
     "text": [
      "Downloading the 51 calibration reference files...\n",
      "    CALIB:    1/51 dp_id: ./data//M.HAWKI.2017-05-05T10:55:25.030.fits (MASTER_2MASS_CATALOGUE_ASTROM) downloaded\n",
      "    CALIB:    2/51 dp_id: ./data//M.HAWKI.2017-05-05T10:55:03.200.fits (MASTER_2MASS_CATALOGUE_PHOTOM) downloaded\n"
     ]
    },
    {
     "ename": "KeyboardInterrupt",
     "evalue": "",
     "output_type": "error",
     "traceback": [
      "\u001b[0;31m---------------------------------------------------------------------------\u001b[0m",
      "\u001b[0;31mKeyboardInterrupt\u001b[0m                         Traceback (most recent call last)",
      "Cell \u001b[0;32mIn[13], line 6\u001b[0m\n\u001b[1;32m      4\u001b[0m \u001b[38;5;28;01mfor\u001b[39;00m url,category \u001b[38;5;129;01min\u001b[39;00m calib_urls:\n\u001b[1;32m      5\u001b[0m     i_calib\u001b[38;5;241m+\u001b[39m\u001b[38;5;241m=\u001b[39m\u001b[38;5;241m1\u001b[39m\n\u001b[0;32m----> 6\u001b[0m     status, filename \u001b[38;5;241m=\u001b[39m \u001b[43mdownloadURL\u001b[49m\u001b[43m(\u001b[49m\u001b[43murl\u001b[49m\u001b[43m,\u001b[49m\u001b[43m \u001b[49m\u001b[43m)\u001b[49m\n\u001b[1;32m      7\u001b[0m     \u001b[38;5;28;01mif\u001b[39;00m status\u001b[38;5;241m==\u001b[39m\u001b[38;5;241m200\u001b[39m:\n\u001b[1;32m      8\u001b[0m         \u001b[38;5;28mprint\u001b[39m(\u001b[38;5;124m\"\u001b[39m\u001b[38;5;124m    CALIB: \u001b[39m\u001b[38;5;132;01m%4d\u001b[39;00m\u001b[38;5;124m/\u001b[39m\u001b[38;5;132;01m%d\u001b[39;00m\u001b[38;5;124m dp_id: \u001b[39m\u001b[38;5;132;01m%s\u001b[39;00m\u001b[38;5;124m (\u001b[39m\u001b[38;5;132;01m%s\u001b[39;00m\u001b[38;5;124m) downloaded\u001b[39m\u001b[38;5;124m\"\u001b[39m  \u001b[38;5;241m%\u001b[39m (i_calib, \u001b[38;5;28mlen\u001b[39m(calib_urls), filename, category))\n",
      "Cell \u001b[0;32mIn[1], line 43\u001b[0m, in \u001b[0;36mdownloadURL\u001b[0;34m(file_url, dirname, filename, session)\u001b[0m\n\u001b[1;32m     41\u001b[0m \u001b[38;5;28;01mif\u001b[39;00m response\u001b[38;5;241m.\u001b[39mstatus_code \u001b[38;5;241m==\u001b[39m \u001b[38;5;241m200\u001b[39m:\n\u001b[1;32m     42\u001b[0m     \u001b[38;5;28;01mwith\u001b[39;00m \u001b[38;5;28mopen\u001b[39m(filepath, \u001b[38;5;124m'\u001b[39m\u001b[38;5;124mwb\u001b[39m\u001b[38;5;124m'\u001b[39m) \u001b[38;5;28;01mas\u001b[39;00m f:\n\u001b[0;32m---> 43\u001b[0m         \u001b[38;5;28;01mfor\u001b[39;00m chunk \u001b[38;5;129;01min\u001b[39;00m response\u001b[38;5;241m.\u001b[39miter_content(chunk_size\u001b[38;5;241m=\u001b[39m\u001b[38;5;241m50000\u001b[39m):\n\u001b[1;32m     44\u001b[0m             f\u001b[38;5;241m.\u001b[39mwrite(chunk)\n\u001b[1;32m     46\u001b[0m \u001b[38;5;28;01mreturn\u001b[39;00m (response\u001b[38;5;241m.\u001b[39mstatus_code, filepath)\n",
      "File \u001b[0;32m/opt/anaconda3/envs/tst/lib/python3.9/site-packages/requests/models.py:820\u001b[0m, in \u001b[0;36mResponse.iter_content.<locals>.generate\u001b[0;34m()\u001b[0m\n\u001b[1;32m    818\u001b[0m \u001b[38;5;28;01mif\u001b[39;00m \u001b[38;5;28mhasattr\u001b[39m(\u001b[38;5;28mself\u001b[39m\u001b[38;5;241m.\u001b[39mraw, \u001b[38;5;124m\"\u001b[39m\u001b[38;5;124mstream\u001b[39m\u001b[38;5;124m\"\u001b[39m):\n\u001b[1;32m    819\u001b[0m     \u001b[38;5;28;01mtry\u001b[39;00m:\n\u001b[0;32m--> 820\u001b[0m         \u001b[38;5;28;01myield from\u001b[39;00m \u001b[38;5;28mself\u001b[39m\u001b[38;5;241m.\u001b[39mraw\u001b[38;5;241m.\u001b[39mstream(chunk_size, decode_content\u001b[38;5;241m=\u001b[39m\u001b[38;5;28;01mTrue\u001b[39;00m)\n\u001b[1;32m    821\u001b[0m     \u001b[38;5;28;01mexcept\u001b[39;00m ProtocolError \u001b[38;5;28;01mas\u001b[39;00m e:\n\u001b[1;32m    822\u001b[0m         \u001b[38;5;28;01mraise\u001b[39;00m ChunkedEncodingError(e)\n",
      "File \u001b[0;32m/opt/anaconda3/envs/tst/lib/python3.9/site-packages/urllib3/response.py:1066\u001b[0m, in \u001b[0;36mHTTPResponse.stream\u001b[0;34m(self, amt, decode_content)\u001b[0m\n\u001b[1;32m   1064\u001b[0m \u001b[38;5;28;01melse\u001b[39;00m:\n\u001b[1;32m   1065\u001b[0m     \u001b[38;5;28;01mwhile\u001b[39;00m \u001b[38;5;129;01mnot\u001b[39;00m is_fp_closed(\u001b[38;5;28mself\u001b[39m\u001b[38;5;241m.\u001b[39m_fp) \u001b[38;5;129;01mor\u001b[39;00m \u001b[38;5;28mlen\u001b[39m(\u001b[38;5;28mself\u001b[39m\u001b[38;5;241m.\u001b[39m_decoded_buffer) \u001b[38;5;241m>\u001b[39m \u001b[38;5;241m0\u001b[39m:\n\u001b[0;32m-> 1066\u001b[0m         data \u001b[38;5;241m=\u001b[39m \u001b[38;5;28;43mself\u001b[39;49m\u001b[38;5;241;43m.\u001b[39;49m\u001b[43mread\u001b[49m\u001b[43m(\u001b[49m\u001b[43mamt\u001b[49m\u001b[38;5;241;43m=\u001b[39;49m\u001b[43mamt\u001b[49m\u001b[43m,\u001b[49m\u001b[43m \u001b[49m\u001b[43mdecode_content\u001b[49m\u001b[38;5;241;43m=\u001b[39;49m\u001b[43mdecode_content\u001b[49m\u001b[43m)\u001b[49m\n\u001b[1;32m   1068\u001b[0m         \u001b[38;5;28;01mif\u001b[39;00m data:\n\u001b[1;32m   1069\u001b[0m             \u001b[38;5;28;01myield\u001b[39;00m data\n",
      "File \u001b[0;32m/opt/anaconda3/envs/tst/lib/python3.9/site-packages/urllib3/response.py:955\u001b[0m, in \u001b[0;36mHTTPResponse.read\u001b[0;34m(self, amt, decode_content, cache_content)\u001b[0m\n\u001b[1;32m    952\u001b[0m     \u001b[38;5;28;01mif\u001b[39;00m \u001b[38;5;28mlen\u001b[39m(\u001b[38;5;28mself\u001b[39m\u001b[38;5;241m.\u001b[39m_decoded_buffer) \u001b[38;5;241m>\u001b[39m\u001b[38;5;241m=\u001b[39m amt:\n\u001b[1;32m    953\u001b[0m         \u001b[38;5;28;01mreturn\u001b[39;00m \u001b[38;5;28mself\u001b[39m\u001b[38;5;241m.\u001b[39m_decoded_buffer\u001b[38;5;241m.\u001b[39mget(amt)\n\u001b[0;32m--> 955\u001b[0m data \u001b[38;5;241m=\u001b[39m \u001b[38;5;28;43mself\u001b[39;49m\u001b[38;5;241;43m.\u001b[39;49m\u001b[43m_raw_read\u001b[49m\u001b[43m(\u001b[49m\u001b[43mamt\u001b[49m\u001b[43m)\u001b[49m\n\u001b[1;32m    957\u001b[0m flush_decoder \u001b[38;5;241m=\u001b[39m amt \u001b[38;5;129;01mis\u001b[39;00m \u001b[38;5;28;01mNone\u001b[39;00m \u001b[38;5;129;01mor\u001b[39;00m (amt \u001b[38;5;241m!=\u001b[39m \u001b[38;5;241m0\u001b[39m \u001b[38;5;129;01mand\u001b[39;00m \u001b[38;5;129;01mnot\u001b[39;00m data)\n\u001b[1;32m    959\u001b[0m \u001b[38;5;28;01mif\u001b[39;00m \u001b[38;5;129;01mnot\u001b[39;00m data \u001b[38;5;129;01mand\u001b[39;00m \u001b[38;5;28mlen\u001b[39m(\u001b[38;5;28mself\u001b[39m\u001b[38;5;241m.\u001b[39m_decoded_buffer) \u001b[38;5;241m==\u001b[39m \u001b[38;5;241m0\u001b[39m:\n",
      "File \u001b[0;32m/opt/anaconda3/envs/tst/lib/python3.9/site-packages/urllib3/response.py:879\u001b[0m, in \u001b[0;36mHTTPResponse._raw_read\u001b[0;34m(self, amt, read1)\u001b[0m\n\u001b[1;32m    876\u001b[0m fp_closed \u001b[38;5;241m=\u001b[39m \u001b[38;5;28mgetattr\u001b[39m(\u001b[38;5;28mself\u001b[39m\u001b[38;5;241m.\u001b[39m_fp, \u001b[38;5;124m\"\u001b[39m\u001b[38;5;124mclosed\u001b[39m\u001b[38;5;124m\"\u001b[39m, \u001b[38;5;28;01mFalse\u001b[39;00m)\n\u001b[1;32m    878\u001b[0m \u001b[38;5;28;01mwith\u001b[39;00m \u001b[38;5;28mself\u001b[39m\u001b[38;5;241m.\u001b[39m_error_catcher():\n\u001b[0;32m--> 879\u001b[0m     data \u001b[38;5;241m=\u001b[39m \u001b[38;5;28;43mself\u001b[39;49m\u001b[38;5;241;43m.\u001b[39;49m\u001b[43m_fp_read\u001b[49m\u001b[43m(\u001b[49m\u001b[43mamt\u001b[49m\u001b[43m,\u001b[49m\u001b[43m \u001b[49m\u001b[43mread1\u001b[49m\u001b[38;5;241;43m=\u001b[39;49m\u001b[43mread1\u001b[49m\u001b[43m)\u001b[49m \u001b[38;5;28;01mif\u001b[39;00m \u001b[38;5;129;01mnot\u001b[39;00m fp_closed \u001b[38;5;28;01melse\u001b[39;00m \u001b[38;5;124mb\u001b[39m\u001b[38;5;124m\"\u001b[39m\u001b[38;5;124m\"\u001b[39m\n\u001b[1;32m    880\u001b[0m     \u001b[38;5;28;01mif\u001b[39;00m amt \u001b[38;5;129;01mis\u001b[39;00m \u001b[38;5;129;01mnot\u001b[39;00m \u001b[38;5;28;01mNone\u001b[39;00m \u001b[38;5;129;01mand\u001b[39;00m amt \u001b[38;5;241m!=\u001b[39m \u001b[38;5;241m0\u001b[39m \u001b[38;5;129;01mand\u001b[39;00m \u001b[38;5;129;01mnot\u001b[39;00m data:\n\u001b[1;32m    881\u001b[0m         \u001b[38;5;66;03m# Platform-specific: Buggy versions of Python.\u001b[39;00m\n\u001b[1;32m    882\u001b[0m         \u001b[38;5;66;03m# Close the connection when no data is returned\u001b[39;00m\n\u001b[0;32m   (...)\u001b[0m\n\u001b[1;32m    887\u001b[0m         \u001b[38;5;66;03m# not properly close the connection in all cases. There is\u001b[39;00m\n\u001b[1;32m    888\u001b[0m         \u001b[38;5;66;03m# no harm in redundantly calling close.\u001b[39;00m\n\u001b[1;32m    889\u001b[0m         \u001b[38;5;28mself\u001b[39m\u001b[38;5;241m.\u001b[39m_fp\u001b[38;5;241m.\u001b[39mclose()\n",
      "File \u001b[0;32m/opt/anaconda3/envs/tst/lib/python3.9/site-packages/urllib3/response.py:862\u001b[0m, in \u001b[0;36mHTTPResponse._fp_read\u001b[0;34m(self, amt, read1)\u001b[0m\n\u001b[1;32m    859\u001b[0m     \u001b[38;5;28;01mreturn\u001b[39;00m \u001b[38;5;28mself\u001b[39m\u001b[38;5;241m.\u001b[39m_fp\u001b[38;5;241m.\u001b[39mread1(amt) \u001b[38;5;28;01mif\u001b[39;00m amt \u001b[38;5;129;01mis\u001b[39;00m \u001b[38;5;129;01mnot\u001b[39;00m \u001b[38;5;28;01mNone\u001b[39;00m \u001b[38;5;28;01melse\u001b[39;00m \u001b[38;5;28mself\u001b[39m\u001b[38;5;241m.\u001b[39m_fp\u001b[38;5;241m.\u001b[39mread1()\n\u001b[1;32m    860\u001b[0m \u001b[38;5;28;01melse\u001b[39;00m:\n\u001b[1;32m    861\u001b[0m     \u001b[38;5;66;03m# StringIO doesn't like amt=None\u001b[39;00m\n\u001b[0;32m--> 862\u001b[0m     \u001b[38;5;28;01mreturn\u001b[39;00m \u001b[38;5;28;43mself\u001b[39;49m\u001b[38;5;241;43m.\u001b[39;49m\u001b[43m_fp\u001b[49m\u001b[38;5;241;43m.\u001b[39;49m\u001b[43mread\u001b[49m\u001b[43m(\u001b[49m\u001b[43mamt\u001b[49m\u001b[43m)\u001b[49m \u001b[38;5;28;01mif\u001b[39;00m amt \u001b[38;5;129;01mis\u001b[39;00m \u001b[38;5;129;01mnot\u001b[39;00m \u001b[38;5;28;01mNone\u001b[39;00m \u001b[38;5;28;01melse\u001b[39;00m \u001b[38;5;28mself\u001b[39m\u001b[38;5;241m.\u001b[39m_fp\u001b[38;5;241m.\u001b[39mread()\n",
      "File \u001b[0;32m/opt/anaconda3/envs/tst/lib/python3.9/http/client.py:463\u001b[0m, in \u001b[0;36mHTTPResponse.read\u001b[0;34m(self, amt)\u001b[0m\n\u001b[1;32m    460\u001b[0m \u001b[38;5;28;01mif\u001b[39;00m amt \u001b[38;5;129;01mis\u001b[39;00m \u001b[38;5;129;01mnot\u001b[39;00m \u001b[38;5;28;01mNone\u001b[39;00m:\n\u001b[1;32m    461\u001b[0m     \u001b[38;5;66;03m# Amount is given, implement using readinto\u001b[39;00m\n\u001b[1;32m    462\u001b[0m     b \u001b[38;5;241m=\u001b[39m \u001b[38;5;28mbytearray\u001b[39m(amt)\n\u001b[0;32m--> 463\u001b[0m     n \u001b[38;5;241m=\u001b[39m \u001b[38;5;28;43mself\u001b[39;49m\u001b[38;5;241;43m.\u001b[39;49m\u001b[43mreadinto\u001b[49m\u001b[43m(\u001b[49m\u001b[43mb\u001b[49m\u001b[43m)\u001b[49m\n\u001b[1;32m    464\u001b[0m     \u001b[38;5;28;01mreturn\u001b[39;00m \u001b[38;5;28mmemoryview\u001b[39m(b)[:n]\u001b[38;5;241m.\u001b[39mtobytes()\n\u001b[1;32m    465\u001b[0m \u001b[38;5;28;01melse\u001b[39;00m:\n\u001b[1;32m    466\u001b[0m     \u001b[38;5;66;03m# Amount is not given (unbounded read) so we must check self.length\u001b[39;00m\n\u001b[1;32m    467\u001b[0m     \u001b[38;5;66;03m# and self.chunked\u001b[39;00m\n",
      "File \u001b[0;32m/opt/anaconda3/envs/tst/lib/python3.9/http/client.py:507\u001b[0m, in \u001b[0;36mHTTPResponse.readinto\u001b[0;34m(self, b)\u001b[0m\n\u001b[1;32m    502\u001b[0m         b \u001b[38;5;241m=\u001b[39m \u001b[38;5;28mmemoryview\u001b[39m(b)[\u001b[38;5;241m0\u001b[39m:\u001b[38;5;28mself\u001b[39m\u001b[38;5;241m.\u001b[39mlength]\n\u001b[1;32m    504\u001b[0m \u001b[38;5;66;03m# we do not use _safe_read() here because this may be a .will_close\u001b[39;00m\n\u001b[1;32m    505\u001b[0m \u001b[38;5;66;03m# connection, and the user is reading more bytes than will be provided\u001b[39;00m\n\u001b[1;32m    506\u001b[0m \u001b[38;5;66;03m# (for example, reading in 1k chunks)\u001b[39;00m\n\u001b[0;32m--> 507\u001b[0m n \u001b[38;5;241m=\u001b[39m \u001b[38;5;28;43mself\u001b[39;49m\u001b[38;5;241;43m.\u001b[39;49m\u001b[43mfp\u001b[49m\u001b[38;5;241;43m.\u001b[39;49m\u001b[43mreadinto\u001b[49m\u001b[43m(\u001b[49m\u001b[43mb\u001b[49m\u001b[43m)\u001b[49m\n\u001b[1;32m    508\u001b[0m \u001b[38;5;28;01mif\u001b[39;00m \u001b[38;5;129;01mnot\u001b[39;00m n \u001b[38;5;129;01mand\u001b[39;00m b:\n\u001b[1;32m    509\u001b[0m     \u001b[38;5;66;03m# Ideally, we would raise IncompleteRead if the content-length\u001b[39;00m\n\u001b[1;32m    510\u001b[0m     \u001b[38;5;66;03m# wasn't satisfied, but it might break compatibility.\u001b[39;00m\n\u001b[1;32m    511\u001b[0m     \u001b[38;5;28mself\u001b[39m\u001b[38;5;241m.\u001b[39m_close_conn()\n",
      "File \u001b[0;32m/opt/anaconda3/envs/tst/lib/python3.9/socket.py:704\u001b[0m, in \u001b[0;36mSocketIO.readinto\u001b[0;34m(self, b)\u001b[0m\n\u001b[1;32m    702\u001b[0m \u001b[38;5;28;01mwhile\u001b[39;00m \u001b[38;5;28;01mTrue\u001b[39;00m:\n\u001b[1;32m    703\u001b[0m     \u001b[38;5;28;01mtry\u001b[39;00m:\n\u001b[0;32m--> 704\u001b[0m         \u001b[38;5;28;01mreturn\u001b[39;00m \u001b[38;5;28;43mself\u001b[39;49m\u001b[38;5;241;43m.\u001b[39;49m\u001b[43m_sock\u001b[49m\u001b[38;5;241;43m.\u001b[39;49m\u001b[43mrecv_into\u001b[49m\u001b[43m(\u001b[49m\u001b[43mb\u001b[49m\u001b[43m)\u001b[49m\n\u001b[1;32m    705\u001b[0m     \u001b[38;5;28;01mexcept\u001b[39;00m timeout:\n\u001b[1;32m    706\u001b[0m         \u001b[38;5;28mself\u001b[39m\u001b[38;5;241m.\u001b[39m_timeout_occurred \u001b[38;5;241m=\u001b[39m \u001b[38;5;28;01mTrue\u001b[39;00m\n",
      "File \u001b[0;32m/opt/anaconda3/envs/tst/lib/python3.9/ssl.py:1275\u001b[0m, in \u001b[0;36mSSLSocket.recv_into\u001b[0;34m(self, buffer, nbytes, flags)\u001b[0m\n\u001b[1;32m   1271\u001b[0m     \u001b[38;5;28;01mif\u001b[39;00m flags \u001b[38;5;241m!=\u001b[39m \u001b[38;5;241m0\u001b[39m:\n\u001b[1;32m   1272\u001b[0m         \u001b[38;5;28;01mraise\u001b[39;00m \u001b[38;5;167;01mValueError\u001b[39;00m(\n\u001b[1;32m   1273\u001b[0m           \u001b[38;5;124m\"\u001b[39m\u001b[38;5;124mnon-zero flags not allowed in calls to recv_into() on \u001b[39m\u001b[38;5;132;01m%s\u001b[39;00m\u001b[38;5;124m\"\u001b[39m \u001b[38;5;241m%\u001b[39m\n\u001b[1;32m   1274\u001b[0m           \u001b[38;5;28mself\u001b[39m\u001b[38;5;241m.\u001b[39m\u001b[38;5;18m__class__\u001b[39m)\n\u001b[0;32m-> 1275\u001b[0m     \u001b[38;5;28;01mreturn\u001b[39;00m \u001b[38;5;28;43mself\u001b[39;49m\u001b[38;5;241;43m.\u001b[39;49m\u001b[43mread\u001b[49m\u001b[43m(\u001b[49m\u001b[43mnbytes\u001b[49m\u001b[43m,\u001b[49m\u001b[43m \u001b[49m\u001b[43mbuffer\u001b[49m\u001b[43m)\u001b[49m\n\u001b[1;32m   1276\u001b[0m \u001b[38;5;28;01melse\u001b[39;00m:\n\u001b[1;32m   1277\u001b[0m     \u001b[38;5;28;01mreturn\u001b[39;00m \u001b[38;5;28msuper\u001b[39m()\u001b[38;5;241m.\u001b[39mrecv_into(buffer, nbytes, flags)\n",
      "File \u001b[0;32m/opt/anaconda3/envs/tst/lib/python3.9/ssl.py:1133\u001b[0m, in \u001b[0;36mSSLSocket.read\u001b[0;34m(self, len, buffer)\u001b[0m\n\u001b[1;32m   1131\u001b[0m \u001b[38;5;28;01mtry\u001b[39;00m:\n\u001b[1;32m   1132\u001b[0m     \u001b[38;5;28;01mif\u001b[39;00m buffer \u001b[38;5;129;01mis\u001b[39;00m \u001b[38;5;129;01mnot\u001b[39;00m \u001b[38;5;28;01mNone\u001b[39;00m:\n\u001b[0;32m-> 1133\u001b[0m         \u001b[38;5;28;01mreturn\u001b[39;00m \u001b[38;5;28;43mself\u001b[39;49m\u001b[38;5;241;43m.\u001b[39;49m\u001b[43m_sslobj\u001b[49m\u001b[38;5;241;43m.\u001b[39;49m\u001b[43mread\u001b[49m\u001b[43m(\u001b[49m\u001b[38;5;28;43mlen\u001b[39;49m\u001b[43m,\u001b[49m\u001b[43m \u001b[49m\u001b[43mbuffer\u001b[49m\u001b[43m)\u001b[49m\n\u001b[1;32m   1134\u001b[0m     \u001b[38;5;28;01melse\u001b[39;00m:\n\u001b[1;32m   1135\u001b[0m         \u001b[38;5;28;01mreturn\u001b[39;00m \u001b[38;5;28mself\u001b[39m\u001b[38;5;241m.\u001b[39m_sslobj\u001b[38;5;241m.\u001b[39mread(\u001b[38;5;28mlen\u001b[39m)\n",
      "\u001b[0;31mKeyboardInterrupt\u001b[0m: "
     ]
    }
   ],
   "source": [
    "print(\"Downloading the %d calibration reference files...\" % (len(calib_urls)) )\n",
    "\n",
    "i_calib=0\n",
    "for url,category in calib_urls:\n",
    "    i_calib+=1\n",
    "    status, filename = downloadURL(url, )\n",
    "    if status==200:\n",
    "        print(\"    CALIB: %4d/%d dp_id: %s (%s) downloaded\"  % (i_calib, len(calib_urls), filename, category))\n",
    "    else:\n",
    "        print(\"    CALIB: %4d/%d dp_id: %s (%s) NOT DOWNLOADED (http status:%d)\"  % (i_calib, len(calib_urls), filename, category, status))"
   ]
  },
  {
   "cell_type": "code",
   "execution_count": null,
   "id": "33cbe0ad",
   "metadata": {},
   "outputs": [
    {
     "name": "stdout",
     "output_type": "stream",
     "text": [
      "https://archive.eso.org/calselector/v1/associations?dp_id=SPHER.2016-09-26T03:04:09.308&mode=Raw2Master\n",
      "  Association tree: ./data//SPHER.2016-09-26T03:04:09.308_raw2master.xml (ASSOCIATION_TREE) downloaded\n"
     ]
    }
   ],
   "source": [
    "association_tree_semantics = 'http://archive.eso.org/rdf/datalink/eso#calSelector_raw2master'\n",
    "\n",
    "# Notice that the datalink service and the calselector service use the same semantics\n",
    "# to indicate two different things:\n",
    "# - in datalink: it points to the distinct list of calibration reference files (responseformat=votable);\n",
    "#                its eso_category is not defined\n",
    "# - in calselector: it points to the calibration cascade description (format still XML but not votable);\n",
    "#                its eso_category is set to \"ASSOCIATION_TREE\"\n",
    "\n",
    "association_tree_mask = associated_calib_files['semantics'] == association_tree_semantics\n",
    "association_tree = associated_calib_files.to_table()[association_tree_mask]['access_url','eso_category']\n",
    "\n",
    "for url, category in association_tree:\n",
    "    # the url points to the calselector service, which, for metadata protected files, needs a tokenised-session\n",
    "    status, filename = downloadURL(url)\n",
    "    print(url)\n",
    "    if status == 200:\n",
    "        print(\"  Association tree: %s (%s) downloaded\"  % (filename, category))\n",
    "    else:\n",
    "        print(\"  Association tree: %s (%s) NOT DOWNLOADED (http status:%d)\"  % (filename, category, status))"
   ]
  },
  {
   "cell_type": "markdown",
   "id": "85d3e33d",
   "metadata": {},
   "source": [
    "<hr style=\"border:2px solid #0281c9\"> </hr>"
   ]
  }
 ],
 "metadata": {
  "kernelspec": {
   "display_name": "tst",
   "language": "python",
   "name": "python3"
  },
  "language_info": {
   "codemirror_mode": {
    "name": "ipython",
    "version": 3
   },
   "file_extension": ".py",
   "mimetype": "text/x-python",
   "name": "python",
   "nbconvert_exporter": "python",
   "pygments_lexer": "ipython3",
   "version": "3.9.18"
  }
 },
 "nbformat": 4,
 "nbformat_minor": 5
}
