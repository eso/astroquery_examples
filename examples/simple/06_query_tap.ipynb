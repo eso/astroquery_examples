{
 "cells": [
  {
   "cell_type": "markdown",
   "id": "6678a4ff",
   "metadata": {},
   "source": [
    "<hr style=\"border:2px solid #0281c9\"> </hr>\n",
    "\n",
    "<img align=\"left\" alt=\"ESO Logo\" src=\"http://archive.eso.org/i/esologo.png\">  \n",
    "\n",
    "<div align=\"center\">\n",
    "  <h1 style=\"color: #0281c9; font-weight: bold;\">ESO Science Archive</h1> \n",
    "  <h2 style=\"color: #0281c9; font-weight: bold;\">Jupyter Notebooks</h2>\n",
    "</div>\n",
    "\n",
    "<hr style=\"border:2px solid #0281c9\"> </hr>"
   ]
  },
  {
   "cell_type": "markdown",
   "id": "50f924c8",
   "metadata": {},
   "source": [
    "# **Query using TAP**\n",
    "\n",
    "The Table Access Protocol (TAP) allows you to perform advanced searches on ESO's Science Archive using the Astronomical Data Query Language (ADQL).\n",
    "\n",
    "You can query different tables depending on your science goal:\n",
    "\n",
    "- **`ivoa.ObsCore`** — standardized metadata for fully calibrated Phase 3 science-ready products\n",
    "- **`dbo.raw`** — metadata for raw observational data (spanning all ESO instruments)\n",
    "- **`ist.<instrument_name>`** — instrument-specific metadata tables (e.g., `ist.midi`, `ist.muse`), offering fine-grained control\n",
    "\n",
    "<hr style=\"border:2px solid #0281c9\"> </hr>"
   ]
  },
  {
   "cell_type": "markdown",
   "id": "000a7de5",
   "metadata": {},
   "source": [
    "# **Importing and basic usage of astroquery.eso**"
   ]
  },
  {
   "cell_type": "code",
   "execution_count": 1,
   "id": "04c49462",
   "metadata": {},
   "outputs": [
    {
     "name": "stdout",
     "output_type": "stream",
     "text": [
      "astroquery version: 0.4.11.dev10245\n"
     ]
    }
   ],
   "source": [
    "import astroquery # import astroquery\n",
    "print(f\"astroquery version: {astroquery.__version__}\") # check the version of astroquery"
   ]
  },
  {
   "cell_type": "code",
   "execution_count": 2,
   "id": "a19b15a9",
   "metadata": {},
   "outputs": [],
   "source": [
    "from astroquery.eso import Eso # import the ESO module from astroquery"
   ]
  },
  {
   "cell_type": "code",
   "execution_count": 3,
   "id": "98992954",
   "metadata": {},
   "outputs": [],
   "source": [
    "eso = Eso() # create an instance of the ESO class "
   ]
  },
  {
   "cell_type": "markdown",
   "id": "44eaa97d",
   "metadata": {},
   "source": [
    "# **Query the ESO Archive using the TAP Service**"
   ]
  },
  {
   "cell_type": "markdown",
   "id": "7e486cdc",
   "metadata": {},
   "source": [
    "## **Reduced data search (ivoa.ObsCore)**"
   ]
  },
  {
   "cell_type": "markdown",
   "id": "a8a3b91b",
   "metadata": {},
   "source": [
    "This example shows how to query the **VEGAS** survey (VST Early-type GAlaxieS Survey) for **science-ready, reduced imaging** of bright early-type galaxies from the NGC catalog. These data products are part of ESO's **Phase 3 collection** and include calibrated FITS images.\n",
    "\n",
    "We filter the query for:\n",
    "- `data_collection = 'VEGAS'`\n",
    "- Target names from the NGC catalog\n",
    "- Spatial resolution constraints\n",
    "\n",
    "Such products are ideal for studying galaxy morphology and low-surface-brightness features.\n",
    "\n",
    "First it is always useful to check which columns are available in the table you want to query. This can be done using ``eso.query_surveys(help=True)``, which queries `ivoa.ObsCore`."
   ]
  },
  {
   "cell_type": "code",
   "execution_count": 18,
   "id": "44ca4ac5",
   "metadata": {},
   "outputs": [
    {
     "name": "stdout",
     "output_type": "stream",
     "text": [
      "INFO: \n",
      "Columns present in the table ivoa.ObsCore:\n",
      "    column_name     datatype    xtype     unit \n",
      "------------------- -------- ----------- ------\n",
      "           abmaglim   double                mag\n",
      "     access_estsize     long              kbyte\n",
      "      access_format     char                   \n",
      "         access_url     char                   \n",
      "      bib_reference     char                   \n",
      "        calib_level      int                   \n",
      "dataproduct_subtype     char                   \n",
      "   dataproduct_type     char                   \n",
      "              dp_id     char                   \n",
      "             em_max   double                  m\n",
      "             em_min   double                  m\n",
      "       em_res_power   double                   \n",
      "             em_xel     long                   \n",
      "      facility_name     char                   \n",
      "             filter     char                   \n",
      "            gal_lat   double                deg\n",
      "            gal_lon   double                deg\n",
      "    instrument_name     char                   \n",
      "      last_mod_date     char   timestamp       \n",
      "           multi_ob     char                   \n",
      "              n_obs      int                   \n",
      "     o_calib_status     char                   \n",
      "              o_ucd     char                   \n",
      "     obs_collection     char                   \n",
      "    obs_creator_did     char                   \n",
      "   obs_creator_name     char                   \n",
      "             obs_id     char                   \n",
      "  obs_publisher_did     char                   \n",
      "   obs_release_date     char   timestamp       \n",
      "          obs_title     char                   \n",
      "            obstech     char                   \n",
      "             p3orig     char                   \n",
      "         pol_states     char                   \n",
      "            pol_xel     long                   \n",
      "       preview_html     char                   \n",
      "        proposal_id     char                   \n",
      "   publication_date     char   timestamp       \n",
      "release_description     char                   \n",
      "              s_dec   double                deg\n",
      "              s_fov   double                deg\n",
      "      s_pixel_scale   double             arcsec\n",
      "               s_ra   double                deg\n",
      "           s_region     char adql:REGION       \n",
      "       s_resolution   double             arcsec\n",
      "             s_xel1     long                   \n",
      "             s_xel2     long                   \n",
      "                snr   double                   \n",
      "             strehl   double                   \n",
      "          t_exptime   double                  s\n",
      "              t_max   double                  d\n",
      "              t_min   double                  d\n",
      "       t_resolution   double                  s\n",
      "              t_xel     long                   \n",
      "        target_name     char                   \n",
      "\n",
      "Number of records present in the table ivoa.ObsCore:\n",
      "4601429\n",
      " [astroquery.eso.core]\n"
     ]
    }
   ],
   "source": [
    "eso.query_surveys(help=True)"
   ]
  },
  {
   "cell_type": "code",
   "execution_count": 19,
   "id": "6b38b24c",
   "metadata": {},
   "outputs": [
    {
     "data": {
      "text/html": [
       "<div><i>Table length=5</i>\n",
       "<table id=\"table4934522624\" class=\"table-striped table-bordered table-condensed\">\n",
       "<thead><tr><th>target_name</th><th>s_ra</th><th>s_dec</th><th>instrument_name</th><th>dataproduct_type</th><th>s_pixel_scale</th><th>dp_id</th></tr></thead>\n",
       "<thead><tr><th></th><th>deg</th><th>deg</th><th></th><th></th><th>arcsec</th><th></th></tr></thead>\n",
       "<thead><tr><th>object</th><th>float64</th><th>float64</th><th>object</th><th>object</th><th>float64</th><th>object</th></tr></thead>\n",
       "<tr><td>ngc1533</td><td>62.389416</td><td>-56.114055</td><td>OMEGACAM</td><td>image</td><td>0.21</td><td>ADP.2021-02-01T14:04:33.669</td></tr>\n",
       "<tr><td>ngc1533</td><td>62.444166</td><td>-56.100777</td><td>OMEGACAM</td><td>image</td><td>0.21</td><td>ADP.2021-02-01T14:04:33.667</td></tr>\n",
       "<tr><td>ngc5018</td><td>197.876458</td><td>-19.336277</td><td>OMEGACAM</td><td>image</td><td>0.2099</td><td>ADP.2021-02-01T14:04:33.675</td></tr>\n",
       "<tr><td>ngc3379</td><td>161.513666</td><td>12.642055</td><td>OMEGACAM</td><td>image</td><td>0.2099</td><td>ADP.2021-02-01T14:04:33.679</td></tr>\n",
       "<tr><td>ngc5018</td><td>197.876458</td><td>-19.336277</td><td>OMEGACAM</td><td>image</td><td>0.2099</td><td>ADP.2021-02-01T14:04:33.673</td></tr>\n",
       "</table></div>"
      ],
      "text/plain": [
       "<Table length=5>\n",
       "target_name    s_ra      s_dec    ... s_pixel_scale            dp_id           \n",
       "               deg        deg     ...     arcsec                               \n",
       "   object    float64    float64   ...    float64               object          \n",
       "----------- ---------- ---------- ... ------------- ---------------------------\n",
       "    ngc1533  62.389416 -56.114055 ...          0.21 ADP.2021-02-01T14:04:33.669\n",
       "    ngc1533  62.444166 -56.100777 ...          0.21 ADP.2021-02-01T14:04:33.667\n",
       "    ngc5018 197.876458 -19.336277 ...        0.2099 ADP.2021-02-01T14:04:33.675\n",
       "    ngc3379 161.513666  12.642055 ...        0.2099 ADP.2021-02-01T14:04:33.679\n",
       "    ngc5018 197.876458 -19.336277 ...        0.2099 ADP.2021-02-01T14:04:33.673"
      ]
     },
     "execution_count": 19,
     "metadata": {},
     "output_type": "execute_result"
    }
   ],
   "source": [
    "adql_query = \"\"\"\n",
    "            SELECT TOP 30 target_name, s_ra, s_dec, instrument_name, \n",
    "                obs_collection, dataproduct_type, s_pixel_scale, \n",
    "                calib_level, t_min, proposal_id, dp_id\n",
    "            FROM ivoa.ObsCore\n",
    "            WHERE obs_collection = 'vegas'\n",
    "                AND calib_level = 3\n",
    "                AND dataproduct_type = 'image'\n",
    "                AND s_pixel_scale < 0.4\n",
    "                AND target_name LIKE 'NGC%'\n",
    "            ORDER BY t_min DESC\n",
    "            \"\"\"\n",
    "\n",
    "table = eso.query_tap_service(adql_query)\n",
    "table[\"target_name\", \"s_ra\", \"s_dec\", \"instrument_name\", \"dataproduct_type\", \"s_pixel_scale\", \"dp_id\"][:5]"
   ]
  },
  {
   "cell_type": "markdown",
   "id": "e0d5391f",
   "metadata": {},
   "source": [
    "## **Raw data search (dbo.raw)**"
   ]
  },
  {
   "cell_type": "markdown",
   "id": "03230acf",
   "metadata": {},
   "source": [
    "This query targets **raw narrow-band imaging** around Hα (656.3 nm) for the galaxy **NGC 3627**.\n",
    "\n",
    "Key filters applied:\n",
    "- Cone search around galaxy coordinates (RA/Dec) with 0.1° radius\n",
    "- Spectral band includes Hα\n",
    "- Filter width < 20 nm to exclude broadband observations\n",
    "- Only science exposures (`dp_cat = 'SCIENCE'`)\n",
    "\n",
    "These raw frames are useful for custom data reduction workflows focused on ionized gas and star formation in nearby galaxies."
   ]
  },
  {
   "cell_type": "code",
   "execution_count": 14,
   "id": "68903fe8",
   "metadata": {},
   "outputs": [],
   "source": [
    "from astropy.coordinates import SkyCoord # import the SkyCoord class from the astropy.coordinates module\n",
    "\n",
    "target = \"NGC 3627\" # set the target to NGC 3627\n",
    "coords = SkyCoord.from_name(target) # create a SkyCoord object from the name of the source"
   ]
  },
  {
   "cell_type": "markdown",
   "id": "e8848901",
   "metadata": {},
   "source": [
    "Again, before running the query, it is useful to check which columns are available in the table you want to query. This can be done using ``eso.query_main(help=True)``, which queries `dbo.raw`."
   ]
  },
  {
   "cell_type": "code",
   "execution_count": 20,
   "id": "2e2f4bf5",
   "metadata": {},
   "outputs": [
    {
     "name": "stdout",
     "output_type": "stream",
     "text": [
      "INFO: \n",
      "Columns present in the table dbo.raw:\n",
      "    column_name     datatype    xtype     unit \n",
      "------------------- -------- ----------- ------\n",
      "     access_estsize     long              kbyte\n",
      "         access_url     char                   \n",
      "       datalink_url     char                   \n",
      "           date_obs     char                   \n",
      "                dec   double                deg\n",
      "            dec_pnt   double                deg\n",
      "        det_chip1id     char                   \n",
      "   det_chop_ncycles    short                   \n",
      "            det_dit    float                  s\n",
      "          det_expid    short                   \n",
      "           det_ndit    short                   \n",
      "             dp_cat     char                   \n",
      "              dp_id     char                   \n",
      "            dp_tech     char                   \n",
      "            dp_type     char                   \n",
      "            ecl_lat   double                deg\n",
      "            ecl_lon   double                deg\n",
      "          exp_start     char   timestamp       \n",
      "           exposure    float                  s\n",
      "        filter_path     char                   \n",
      "            gal_lat   double                deg\n",
      "            gal_lon   double                deg\n",
      "          grat_path     char                   \n",
      "          gris_path     char                   \n",
      "           ins_mode     char                   \n",
      "         instrument     char                   \n",
      "         lambda_max   double                 nm\n",
      "         lambda_min   double                 nm\n",
      "      last_mod_date     char   timestamp       \n",
      "            mjd_obs   double                  d\n",
      "              ob_id      int                   \n",
      "            ob_name     char                   \n",
      "             object     char                   \n",
      "           obs_mode     char                   \n",
      "           origfile     char                   \n",
      "             period    short                   \n",
      "             pi_coi     char                   \n",
      "            prog_id     char                   \n",
      "         prog_title     char                   \n",
      "          prog_type      int                   \n",
      "                 ra   double                deg\n",
      "             ra_pnt   double                deg\n",
      "       release_date     char   timestamp       \n",
      "           s_region     char adql:REGION       \n",
      "          slit_path     char                   \n",
      "             target     char                   \n",
      "       tel_airm_end    float                   \n",
      "     tel_airm_start    float                   \n",
      "            tel_alt    float                deg\n",
      "  tel_ambi_fwhm_end    float             arcsec\n",
      "tel_ambi_fwhm_start    float             arcsec\n",
      "  tel_ambi_pres_end    float                hPa\n",
      "tel_ambi_pres_start    float                hPa\n",
      "      tel_ambi_rhum    float                  %\n",
      "             tel_az    float                deg\n",
      "          telescope     char                   \n",
      "          tpl_expno      int                   \n",
      "             tpl_id     char                   \n",
      "           tpl_name     char                   \n",
      "           tpl_nexp      int                   \n",
      "          tpl_seqno      int                   \n",
      "          tpl_start     char                   \n",
      "\n",
      "Number of records present in the table dbo.raw:\n",
      "35340529\n",
      " [astroquery.eso.core]\n"
     ]
    }
   ],
   "source": [
    "eso.query_main(help=True)"
   ]
  },
  {
   "cell_type": "code",
   "execution_count": 38,
   "id": "c1da52c2",
   "metadata": {},
   "outputs": [
    {
     "data": {
      "text/html": [
       "<div><i>Table length=5</i>\n",
       "<table id=\"table4939810432\" class=\"table-striped table-bordered table-condensed\">\n",
       "<thead><tr><th>object</th><th>ra</th><th>dec</th><th>instrument</th><th>exposure</th><th>tel_ambi_fwhm_start</th><th>date_obs</th><th>prog_id</th><th>dp_id</th><th>access_url</th></tr></thead>\n",
       "<thead><tr><th></th><th>deg</th><th>deg</th><th></th><th>s</th><th>arcsec</th><th></th><th></th><th></th><th></th></tr></thead>\n",
       "<thead><tr><th>object</th><th>float64</th><th>float64</th><th>object</th><th>float32</th><th>float32</th><th>object</th><th>object</th><th>object</th><th>object</th></tr></thead>\n",
       "<tr><td>NGC-3627</td><td>170.06142694</td><td>12.99157</td><td>WFI</td><td>89.917</td><td>0.68</td><td>2019-02-08T07:03:09.793</td><td>0102.A-9002(A)</td><td>WFI.2019-02-08T07:03:09.793</td><td>https://dataportal.eso.org/dataPortal/file/WFI.2019-02-08T07:03:09.793</td></tr>\n",
       "<tr><td>NGC-3627</td><td>169.97285888</td><td>12.95482</td><td>WFI</td><td>89.917</td><td>0.68</td><td>2019-02-08T07:12:44.346</td><td>0102.A-9002(A)</td><td>WFI.2019-02-08T07:12:44.347</td><td>https://dataportal.eso.org/dataPortal/file/WFI.2019-02-08T07:12:44.347</td></tr>\n",
       "<tr><td>NGC-3627</td><td>169.98158694</td><td>12.96159</td><td>WFI</td><td>89.917</td><td>0.68</td><td>2019-02-08T07:15:41.075</td><td>0102.A-9002(A)</td><td>WFI.2019-02-08T07:15:41.076</td><td>https://dataportal.eso.org/dataPortal/file/WFI.2019-02-08T07:15:41.076</td></tr>\n",
       "<tr><td>NGC-3627</td><td>169.97238111</td><td>12.955</td><td>WFI</td><td>359.917</td><td>0.68</td><td>2019-02-08T07:18:33.565</td><td>0102.A-9002(A)</td><td>WFI.2019-02-08T07:18:33.565</td><td>https://dataportal.eso.org/dataPortal/file/WFI.2019-02-08T07:18:33.565</td></tr>\n",
       "<tr><td>NGC-3627</td><td>169.98128888</td><td>12.96175</td><td>WFI</td><td>359.917</td><td>0.68</td><td>2019-02-08T07:25:59.174</td><td>0102.A-9002(A)</td><td>WFI.2019-02-08T07:25:59.174</td><td>https://dataportal.eso.org/dataPortal/file/WFI.2019-02-08T07:25:59.174</td></tr>\n",
       "</table></div>"
      ],
      "text/plain": [
       "<Table length=5>\n",
       " object  ...\n",
       "         ...\n",
       " object  ...\n",
       "-------- ...\n",
       "NGC-3627 ...\n",
       "NGC-3627 ...\n",
       "NGC-3627 ...\n",
       "NGC-3627 ...\n",
       "NGC-3627 ..."
      ]
     },
     "execution_count": 38,
     "metadata": {},
     "output_type": "execute_result"
    }
   ],
   "source": [
    "adql_query = f\"\"\"\n",
    "            SELECT *\n",
    "            FROM dbo.raw\n",
    "            WHERE dp_cat = 'SCIENCE'\n",
    "                AND 1 = INTERSECTS(s_region, CIRCLE('', {coords.ra.value},  {coords.dec.value}, 0.1))  -- defining a cone of 0.1 deg radius around NGC 3627\n",
    "                AND lambda_min < 656 \n",
    "                AND lambda_max > 656                                -- Ensure Hα falls in the filter bandpass\n",
    "                AND lambda_max - lambda_min < 20                    -- Narrow-band filter (~< 20 nm)\n",
    "            ORDER BY mjd_obs\n",
    "            \"\"\" \n",
    "\n",
    "table = eso.query_tap_service(adql_query)\n",
    "table[\"object\", \"ra\", \"dec\", \"instrument\", \"exposure\", \"tel_ambi_fwhm_start\", \"date_obs\", \"prog_id\", \"dp_id\", \"access_url\"][:5]"
   ]
  },
  {
   "cell_type": "markdown",
   "id": "99821c70",
   "metadata": {},
   "source": [
    "## **Raw (instrument specific) data search (ist.[instrument])**\n",
    "\n",
    "As with ``eso.query_main`` vs ``eso.query_instrument`` we can also query the instrument specific tables directly in tap using the `ist.[instrument]` syntax.\n",
    "\n",
    "For example in this case we can, for example, query the `ist.muse` table directly to get observations from **MUSE** (IFU) only, but with more instrument specific columns available.\n",
    "\n",
    "As always, its good to check which columns are available in the table you want to query. This can be done using ``eso.query_instrument(\"MUSE\", help=True)``, which queries `ist.muse`."
   ]
  },
  {
   "cell_type": "code",
   "execution_count": 30,
   "id": "faefa10e",
   "metadata": {},
   "outputs": [
    {
     "name": "stdout",
     "output_type": "stream",
     "text": [
      "INFO: \n",
      "Columns present in the table ist.MUSE:\n",
      "      column_name        datatype    xtype       unit  \n",
      "------------------------ -------- ----------- ---------\n",
      "          access_estsize     long                 kbyte\n",
      "              access_url     char                      \n",
      "            ag_fwhmx_avg    float                arcsec\n",
      "            ag_fwhmy_avg    float                arcsec\n",
      "            datalink_url     char                      \n",
      "                date_obs     char                      \n",
      "                     dec   double                   deg\n",
      "                det_binx      int                      \n",
      "                det_biny      int                      \n",
      "                det_ndit      int                      \n",
      "        det_read_curname     char                      \n",
      "           dimm_fwhm_avg    float                arcsec\n",
      "           dimm_fwhm_rms    float                arcsec\n",
      "                  dp_cat     char                      \n",
      "                   dp_id     char                      \n",
      "                 dp_tech     char                      \n",
      "                 dp_type     char                      \n",
      "                 ecl_lat   double                   deg\n",
      "                 ecl_lon   double                   deg\n",
      "               exp_start     char   timestamp          \n",
      "                exposure    float                     s\n",
      "                 exptime    float                     s\n",
      "                 gal_lat   double                   deg\n",
      "                 gal_lon   double                   deg\n",
      "                ins_mode     char                      \n",
      "          ins_opti1_name     char                      \n",
      "          ins_opti2_name     char                      \n",
      "              instrument     char                      \n",
      "              lambda_max   double                    nm\n",
      "              lambda_min   double                    nm\n",
      "           last_mod_date     char   timestamp          \n",
      "                     lst    float                     s\n",
      "                 mjd_obs   double                     d\n",
      "               moon_illu    short                      \n",
      "              night_flag     char                      \n",
      "         ob_container_id      int                      \n",
      "  ob_container_parent_id      int                      \n",
      "ob_container_parent_type     char                      \n",
      "       ob_container_type     char                      \n",
      "                   ob_id      int                      \n",
      "                 ob_name     char                      \n",
      "                ob_start     char                      \n",
      "            ob_targ_name     char                      \n",
      "                ob_tplno      int                      \n",
      "                  object     char                      \n",
      "          observing_mode     char                      \n",
      "                origfile     char                      \n",
      "                  period      int                      \n",
      "                  pi_coi     char                      \n",
      "                 prog_id     char                      \n",
      "              prog_title     char                      \n",
      "               prog_type     char                      \n",
      "                      ra   double                   deg\n",
      "            release_date     char   timestamp          \n",
      "                s_region     char adql:REGION          \n",
      "            tel_airm_end    float                      \n",
      "          tel_airm_start    float                      \n",
      "                 tel_alt    float                   deg\n",
      "       tel_ambi_fwhm_end    float                arcsec\n",
      "     tel_ambi_fwhm_start    float                arcsec\n",
      "       tel_ambi_pres_end    float                   hPa\n",
      "     tel_ambi_pres_start    float                   hPa\n",
      "           tel_ambi_rhum    float                     %\n",
      "           tel_ambi_temp    float               Celsius\n",
      "        tel_ambi_winddir    float                   deg\n",
      "         tel_ambi_windsp    float             m.s**(-1)\n",
      "                  tel_az    float                   deg\n",
      "               telescope     char                      \n",
      "               tpl_expno      int                      \n",
      "                  tpl_id     char                      \n",
      "                tpl_name     char                      \n",
      "                tpl_nexp      int                      \n",
      "               tpl_start     char                      \n",
      "                     utc    float                     s\n",
      "\n",
      "Number of records present in the table ist.MUSE:\n",
      "481807\n",
      " [astroquery.eso.core]\n"
     ]
    }
   ],
   "source": [
    "eso.query_instrument(\"MUSE\", help=True)"
   ]
  },
  {
   "cell_type": "code",
   "execution_count": null,
   "id": "bb369cfd",
   "metadata": {},
   "outputs": [
    {
     "data": {
      "text/html": [
       "<div><i>Table length=5</i>\n",
       "<table id=\"table4940618704\" class=\"table-striped table-bordered table-condensed\">\n",
       "<thead><tr><th>object</th><th>ra</th><th>dec</th><th>instrument</th><th>exposure</th><th>tel_ambi_fwhm_start</th><th>date_obs</th><th>prog_id</th><th>dp_id</th><th>access_url</th></tr></thead>\n",
       "<thead><tr><th></th><th>deg</th><th>deg</th><th></th><th>s</th><th>arcsec</th><th></th><th></th><th></th><th></th></tr></thead>\n",
       "<thead><tr><th>object</th><th>float64</th><th>float64</th><th>object</th><th>float32</th><th>float32</th><th>object</th><th>object</th><th>object</th><th>object</th></tr></thead>\n",
       "<tr><td>NGC3627</td><td>170.072929</td><td>12.98949</td><td>MUSE</td><td>645.0</td><td>0.74</td><td>2018-01-25T07:19:50.000</td><td>1100.B-0651(A)</td><td>MUSE.2018-01-25T07:19:50.461</td><td>https://dataportal.eso.org/dataPortal/file/MUSE.2018-01-25T07:19:50.461</td></tr>\n",
       "<tr><td>NGC3627</td><td>170.072986</td><td>12.98949</td><td>MUSE</td><td>645.0</td><td>0.64</td><td>2018-01-25T07:36:07.000</td><td>1100.B-0651(A)</td><td>MUSE.2018-01-25T07:36:07.480</td><td>https://dataportal.eso.org/dataPortal/file/MUSE.2018-01-25T07:36:07.480</td></tr>\n",
       "<tr><td>NGC3627</td><td>170.072986</td><td>12.98955</td><td>MUSE</td><td>645.0</td><td>0.56</td><td>2018-01-25T07:48:51.000</td><td>1100.B-0651(A)</td><td>MUSE.2018-01-25T07:48:51.468</td><td>https://dataportal.eso.org/dataPortal/file/MUSE.2018-01-25T07:48:51.468</td></tr>\n",
       "<tr><td>NGC3627</td><td>170.072929</td><td>12.98955</td><td>MUSE</td><td>645.0</td><td>0.51</td><td>2018-01-25T08:05:08.000</td><td>1100.B-0651(A)</td><td>MUSE.2018-01-25T08:05:08.462</td><td>https://dataportal.eso.org/dataPortal/file/MUSE.2018-01-25T08:05:08.462</td></tr>\n",
       "<tr><td>NGC3627</td><td>170.056157</td><td>12.98989</td><td>MUSE</td><td>645.0</td><td>1.39</td><td>2018-02-19T05:54:22.000</td><td>1100.B-0651(A)</td><td>MUSE.2018-02-19T05:54:22.559</td><td>https://dataportal.eso.org/dataPortal/file/MUSE.2018-02-19T05:54:22.559</td></tr>\n",
       "</table></div>"
      ],
      "text/plain": [
       "<Table length=5>\n",
       " object ...\n",
       "        ...\n",
       " object ...\n",
       "------- ...\n",
       "NGC3627 ...\n",
       "NGC3627 ...\n",
       "NGC3627 ...\n",
       "NGC3627 ...\n",
       "NGC3627 ..."
      ]
     },
     "execution_count": 40,
     "metadata": {},
     "output_type": "execute_result"
    }
   ],
   "source": [
    "adql_query = f\"\"\"\n",
    "            SELECT *\n",
    "            FROM ist.muse\n",
    "            WHERE dp_cat = 'SCIENCE'\n",
    "                AND 1 = INTERSECTS(s_region, CIRCLE('', {coords.ra.value},  {coords.dec.value}, 0.1))\n",
    "            ORDER BY mjd_obs\n",
    "            \"\"\" \n",
    "\n",
    "table = eso.query_tap_service(adql_query)\n",
    "table[\"object\", \"ra\", \"dec\", \"instrument\", \"exposure\", \"tel_ambi_fwhm_start\", \"date_obs\", \"prog_id\", \"dp_id\", \"access_url\"][:5]"
   ]
  },
  {
   "cell_type": "markdown",
   "id": "58686754",
   "metadata": {},
   "source": [
    "**Note:** For more information about the TAP and how to write ADQL queries, refer to the following resources:\n",
    "\n",
    "* ESO TAP+ documentation: Describes ESO’s implementation of TAP and the available services.\n",
    "* IVOA TAP standard: The official specification from the International Virtual Observatory Alliance.\n",
    "* ADQL specification: Defines the query language used to interact with TAP service"
   ]
  },
  {
   "cell_type": "markdown",
   "id": "c598752c",
   "metadata": {},
   "source": [
    "<hr style=\"border:2px solid #0281c9\"> </hr>"
   ]
  }
 ],
 "metadata": {
  "kernelspec": {
   "display_name": "astroquery_eso",
   "language": "python",
   "name": "python3"
  },
  "language_info": {
   "codemirror_mode": {
    "name": "ipython",
    "version": 3
   },
   "file_extension": ".py",
   "mimetype": "text/x-python",
   "name": "python",
   "nbconvert_exporter": "python",
   "pygments_lexer": "ipython3",
   "version": "3.13.5"
  }
 },
 "nbformat": 4,
 "nbformat_minor": 5
}
