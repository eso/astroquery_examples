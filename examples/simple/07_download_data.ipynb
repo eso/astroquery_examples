{
 "cells": [
  {
   "cell_type": "markdown",
   "metadata": {},
   "source": [
    "<hr style=\"border:2px solid #0281c9\"> </hr>\n",
    "\n",
    "<img align=\"left\" alt=\"ESO Logo\" src=\"http://archive.eso.org/i/esologo.png\">  \n",
    "\n",
    "<div align=\"center\">\n",
    "  <h1 style=\"color: #0281c9; font-weight: bold;\">ESO Science Archive</h1> \n",
    "  <h2 style=\"color: #0281c9; font-weight: bold;\">Jupyter Notebooks</h2>\n",
    "</div>\n",
    "\n",
    "<hr style=\"border:2px solid #0281c9\"> </hr>"
   ]
  },
  {
   "cell_type": "markdown",
   "metadata": {},
   "source": [
    "# **Simple data download**\n",
    "\n",
    "This example demonstrates how to download reduced (science-ready) data from the ESO Science Archive, using either:\n",
    "\n",
    "- **Anonymous access** (for publicly available datasets), or  \n",
    "- **Authenticated access** (for proprietary data linked to your ESO account)\n",
    "\n",
    "We’ll retrieve a reduced **spectrum** from the **HARPS** instrument targeting the star system **TIC 67240043**. This dataset is publicly available and part of an official ESO data release:\n",
    "\n",
    "- 📄 [Data Release Description (HARPS Spectra)](https://www.eso.org/rm/api/v1/public/releaseDescriptions/72)\n",
    "- 🔍 [Preview in the ESO Science Portal](https://archive.eso.org/dataset/ADP.2020-03-24T10:45:21.866)\n",
    "- 💾 [Download directly via DataPortal](https://dataportal.eso.org/dataPortal/file/ADP.2020-03-24T10:45:21.866)\n",
    "\n",
    "<hr style=\"border:2px solid #0281c9\"> </hr>"
   ]
  },
  {
   "cell_type": "markdown",
   "metadata": {},
   "source": [
    "# **Importing and basic usage of astroquery.eso**"
   ]
  },
  {
   "cell_type": "code",
   "execution_count": null,
   "metadata": {},
   "outputs": [],
   "source": [
    "import astroquery # import astroquery\n",
    "print(f\"astroquery version: {astroquery.__version__}\") # check the version of astroquery"
   ]
  },
  {
   "cell_type": "code",
   "execution_count": null,
   "metadata": {},
   "outputs": [],
   "source": [
    "from astroquery.eso import Eso # import the ESO module from astroquery"
   ]
  },
  {
   "cell_type": "code",
   "execution_count": null,
   "metadata": {},
   "outputs": [],
   "source": [
    "eso = Eso() # create an instance of the ESO class "
   ]
  },
  {
   "cell_type": "markdown",
   "metadata": {},
   "source": [
    "# **Downloading datasets a file anonymously**\n",
    "\n",
    "Without the need to authenticate, any user can anonymously download public files, that is, files that are out of the proprietary period (of usually one year from the moment the observation takes place).\n",
    "\n",
    "> **Note:** Each dataset in the archive has been assigned a unique ESO identifier. For reduced products this is a 27-character name whose first 4 characters are 'ADP.' followed by a datetime string, up to the millisecond. Example: ``ADP.2020-03-24T10:45:21.866``. Note that timestamp is **not** the datetime when the observation was taken, take it just as a synthetic string without any associated meaning. Completely equivalently, a Virtual Observatory identifier (colloquially called \"ivorn\") exists, and takes the form of constant string 'ivo://eso.org/ID?' prepended to the ESO identifier. Example: ``ivo://eso.org/ID?ADP.2020-03-24T10:45:21.866``"
   ]
  },
  {
   "cell_type": "code",
   "execution_count": 6,
   "metadata": {},
   "outputs": [
    {
     "name": "stdout",
     "output_type": "stream",
     "text": [
      "INFO: Downloading datasets ... [astroquery.eso.core]\n",
      "INFO: Downloading 1 files ... [astroquery.eso.core]\n",
      "INFO: Downloading file 1/1 https://dataportal.eso.org/dataPortal/file/ADP.2020-03-24T10:45:21.866 to /Users/abarnes/.astropy/cache/astroquery/Eso [astroquery.eso.core]\n",
      "INFO: Found cached file /Users/abarnes/.astropy/cache/astroquery/Eso/ADP.2020-03-24T10:45:21.866.fits [astroquery.eso.core]\n",
      "INFO: Done! [astroquery.eso.core]\n"
     ]
    }
   ],
   "source": [
    "dp_id = \"ADP.2020-03-24T10:45:21.866\"\n",
    "\n",
    "data_files = eso.retrieve_data(dp_id) # download the first data product\n",
    "# data_files = eso.retrieve_data(dp_id, continuation=True) # force the download of all files even if present in the destination directory\n",
    "# data_files = eso.retrieve_data(dp_id, destination='./') # specify the destination directory for the download"
   ]
  },
  {
   "cell_type": "markdown",
   "metadata": {},
   "source": [
    "The file names, returned in ``data_files``, points to the decompressed datasets (without the .Z extension) that have been locally downloaded. \n",
    "\n",
    "The default location (in the ``astropy`` cache) of the decompressed datasets can be adjusted by providing a destination keyword in the call to ``retrieve_data()``. By default, if a requested dataset is already found, it is not downloaded again from the archive. To force the retrieval of data that are present in the destination directory, use ``continuation=True`` in the call to ``retrieve_data()``."
   ]
  },
  {
   "cell_type": "markdown",
   "metadata": {},
   "source": [
    "# **Downloading datasets a file with authentication**\n",
    "\n",
    "With authentication, users can download files that are still under the proprietary period (given that they have the correct access to do so). This is done by logging in with a valid ESO username and password using the `eso.login()` method. Once authenticated, users can download any file using the same `retrieve_data()` method as for anonymous downloads."
   ]
  },
  {
   "cell_type": "code",
   "execution_count": null,
   "metadata": {},
   "outputs": [],
   "source": [
    "eso.login(username=\"TEST\") # authenticate with ESO using a test username\n",
    "\n",
    "data_files = eso.retrieve_data(dp_id) # download the first data product"
   ]
  },
  {
   "cell_type": "markdown",
   "metadata": {},
   "source": [
    "<hr style=\"border:2px solid #0281c9\"> </hr>"
   ]
  }
 ],
 "metadata": {
  "kernelspec": {
   "display_name": "astroquery_eso",
   "language": "python",
   "name": "python3"
  },
  "language_info": {
   "codemirror_mode": {
    "name": "ipython",
    "version": 3
   },
   "file_extension": ".py",
   "mimetype": "text/x-python",
   "name": "python",
   "nbconvert_exporter": "python",
   "pygments_lexer": "ipython3",
   "version": "3.13.5"
  }
 },
 "nbformat": 4,
 "nbformat_minor": 2
}
