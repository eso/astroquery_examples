{
 "cells": [
  {
   "cell_type": "markdown",
   "id": "b7488247",
   "metadata": {},
   "source": [
    "<hr style=\"border:2px solid #0281c9\"> </hr>\n",
    "\n",
    "<img align=\"left\" alt=\"ESO Logo\" src=\"http://archive.eso.org/i/esologo.png\">  \n",
    "\n",
    "<div align=\"center\">\n",
    "  <h1 style=\"color: #0281c9; font-weight: bold;\">ESO Science Archive</h1> \n",
    "  <h2 style=\"color: #0281c9; font-weight: bold;\">Jupyter Notebooks</h2>\n",
    "</div>\n",
    "\n",
    "<hr style=\"border:2px solid #0281c9\"> </hr>"
   ]
  },
  {
   "cell_type": "markdown",
   "id": "4c59912a",
   "metadata": {},
   "source": [
    "# **Query for APEX Data**\n",
    "\n",
    "This notebook provides an example of how to query the ESO Science Archive for **APEX data**. \n",
    "\n",
    "APEX data are available within the archive and can be queried using any of the standard astroquery methods:  \n",
    "- `eso.query_survey` for **reduced data**  \n",
    "- `eso.query_main` for **raw data**  \n",
    "- `eso.query_instrument` for **raw data**\n",
    "\n",
    "In addition, there is the option to use `eso.query_apex_quicklooks`, which is a dedicated query for retrieving **APEX Quick Look products**.\n",
    "\n",
    "The workflow for APEX data is somewhat different from that of other ESO-operated instruments and telescopes. The **APEX Quick Looks** aim to address some of these differences by providing users with `.tar` files that include additional data outputs — such as diagnostic plots, observing logs, and (in some cases) a reduced version of the dataset. These `.tar` files also include `class` (`.apex`) files that allow users to **re-run the data reduction**, if desired. This is often more useful than working directly with the `.fits` files available in the archive and can be **particularly helpful for heterodyne datasets**. For heterodyne observations, the calibrated `.class` file is typically included, while the corresponding uncalibrated `.fits` files are usually **not needed** and cannot be processed with standard reduction software.\n",
    "\n",
    "The APEX Science Archive provides access to raw observations and associated data products for observations performed with APEX since **July 11, 2005**. The Quick Look products are designed to help users preview and assess the data quality, providing useful summaries that complement the raw observations.\n",
    "\n",
    "This notebook will guide you through a step-by-step workflow to **identify, query, and download** APEX Quick Look data products from the ESO Science Archive.\n",
    "\n",
    "Here, we focus on APEX observations from the [**ALCOHOLS survey**](https://www.eso.org/rm/api/v1/public/releaseDescriptions/199) (12CO(3–2) line emission in the Milky Way) available in the ESO Archive. We will first search for the **reduced ALCOHOLS data products**, then identify the corresponding raw datasets using the **instrument-specific query**. Once the raw data is identified, we can use it to locate and retrieve the **associated APEX Quick Look products**. We follow this workflow because APEX Quick Looks typically require knowledge of the **APEX proposal ID**, which may not always be known in advance — this is **not** the same as the ESO programme ID. If you know your APEX proposal ID (for example, if you are querying your own data), you can search for APEX Quick Look files directly.\n",
    "\n",
    "Note that this workflow is **not specific to the ALCOHOLS survey** and can be used to query APEX Quick Look products for any project.\n",
    "\n",
    "<hr style=\"border:2px solid #0281c9\"> </hr>"
   ]
  },
  {
   "cell_type": "markdown",
   "id": "d48f8ff8",
   "metadata": {},
   "source": [
    "# **Importing and basic usage of astroquery.eso**"
   ]
  },
  {
   "cell_type": "code",
   "execution_count": 1,
   "id": "c0906901",
   "metadata": {},
   "outputs": [
    {
     "name": "stdout",
     "output_type": "stream",
     "text": [
      "astroquery version: 0.4.11.dev10245\n"
     ]
    }
   ],
   "source": [
    "import astroquery # import astroquery\n",
    "print(f\"astroquery version: {astroquery.__version__}\") # check the version of astroquery"
   ]
  },
  {
   "cell_type": "code",
   "execution_count": 2,
   "id": "89b62a6c",
   "metadata": {},
   "outputs": [],
   "source": [
    "from astroquery.eso import Eso # import the ESO module from astroquery"
   ]
  },
  {
   "cell_type": "code",
   "execution_count": 3,
   "id": "b83e5e87",
   "metadata": {},
   "outputs": [],
   "source": [
    "eso = Eso() # create an instance of the ESO class "
   ]
  },
  {
   "cell_type": "markdown",
   "id": "3fc20307",
   "metadata": {},
   "source": [
    "# **Query for Reduced APEX data**\n",
    "\n",
    "We first query for the reduced data from the **ALCOHOLS** survey, and retrieve the proposal ID (if you know your proposal ID then this step can be skipped). \n",
    "\n",
    "Note that multiple proposal IDs may be returned, which would require minor changes to the script to loop through the project."
   ]
  },
  {
   "cell_type": "code",
   "execution_count": 4,
   "id": "ae5f9d8d",
   "metadata": {},
   "outputs": [
    {
     "name": "stdout",
     "output_type": "stream",
     "text": [
      "Proposal ID: 094.C-0935\n"
     ]
    }
   ],
   "source": [
    "table_reduced = eso.query_surveys(\"ALCOHOLS\") # query the ESO archive for the ALCOHOLS survey\n",
    "proposal_id = list(set(table_reduced['proposal_id'])) # extract unique proposal IDs from the query result\n",
    "\n",
    "# Check if we have a single proposal ID or multiple\n",
    "if len(proposal_id) == 1:\n",
    "    proposal_id = proposal_id[0]\n",
    "else:\n",
    "    print(\"Warning: Multiple proposal IDs found...\")\n",
    "\n",
    "proposal_id = proposal_id.split('(')[0] # extract the first part of the proposal ID before any parentheses (i.e. the run ID)\n",
    "print(f\"Proposal ID: {proposal_id}\")"
   ]
  },
  {
   "cell_type": "markdown",
   "id": "9d744dba",
   "metadata": {},
   "source": [
    "# **Query for Raw APEX data**\n",
    "\n",
    "As always, it is good practice to check the available columns to search in the instrument-specific query."
   ]
  },
  {
   "cell_type": "code",
   "execution_count": 5,
   "id": "597f4dfe",
   "metadata": {},
   "outputs": [
    {
     "name": "stdout",
     "output_type": "stream",
     "text": [
      "INFO: \n",
      "Columns present in the table ist.APEX:\n",
      "   column_name    datatype    xtype     unit\n",
      "----------------- -------- ----------- -----\n",
      "   access_estsize     long             kbyte\n",
      "       access_url     char                  \n",
      "             bwid    float               GHz\n",
      "         channels      int                  \n",
      "     datalink_url     char                  \n",
      "         date_obs     char                  \n",
      "              dec   double               deg\n",
      "           dp_cat     char                  \n",
      "            dp_id     char                  \n",
      "          dp_tech     char                  \n",
      "          dp_type     char                  \n",
      "          ecl_lat   double               deg\n",
      "          ecl_lon   double               deg\n",
      "        exp_start     char   timestamp      \n",
      "         exposure    float                 s\n",
      "          exptime    float                 s\n",
      "             febe     char                  \n",
      "             freq    float               GHz\n",
      "          freqres    float                  \n",
      "          gal_lat   double               deg\n",
      "          gal_lon   double               deg\n",
      "       instrument     char                  \n",
      "       lambda_max   double                nm\n",
      "       lambda_min   double                nm\n",
      "    last_mod_date     char   timestamp      \n",
      "             line     char                  \n",
      "              lst    float                 s\n",
      "          mjd_obs   double                 d\n",
      "            npols      int                  \n",
      "            nsubs    short                  \n",
      "            ob_id      int                  \n",
      "           object     char                  \n",
      "observer_initials     char                  \n",
      "   observing_mode     char                  \n",
      "         origfile     char                  \n",
      "           period      int                  \n",
      "           pi_coi     char                  \n",
      "          prog_id     char                  \n",
      "       prog_title     char                  \n",
      "        prog_type     char                  \n",
      "       project_id     char                  \n",
      "               ra   double               deg\n",
      "     release_date     char   timestamp      \n",
      "         restfreq    float                Hz\n",
      "         s_region     char adql:REGION      \n",
      "         scangeom     char                  \n",
      "         scanmode     char                  \n",
      "          scannum      int                  \n",
      "         scantype     char                  \n",
      "          skyfreq    float                Hz\n",
      "     tel_airm_end    float                  \n",
      "   tel_airm_start    float                  \n",
      "          tel_alt    float               deg\n",
      "           tel_az    float               deg\n",
      "        telescope     char                  \n",
      "         wobcycle    float                 s\n",
      "         wobthrow    float               deg\n",
      "          wobused     char                  \n",
      "\n",
      "Number of records present in the table ist.APEX:\n",
      "913029\n",
      " [astroquery.eso.core]\n"
     ]
    }
   ],
   "source": [
    "eso.query_instrument(\"APEX\", help=True) # get help on the query_instrument method"
   ]
  },
  {
   "cell_type": "markdown",
   "id": "e40281ba",
   "metadata": {},
   "source": [
    "We now query for raw data from the APEX instrument, using the proposal ID we retrieved from the previous query.\n",
    "\n",
    "In this case, we know there is only **one** APEX proposal ID, but if there were multiple IDs, we would need to loop through them.\n",
    "\n",
    "> **Note:** In the `eso.query_surveys` query, the `\"proposal_id\"` column refers to the **ESO programme ID**. In contrast, in an APEX-specific query using `eso.query_instrument`, the `\"prog_id\"` column also refers to the **ESO programme ID**, **not** the **APEX proposal ID**. The APEX proposal ID is instead found in the `\"project_id\"` column in the `eso.query_instrument` query — this is the value used to identify APEX Quick Look products."
   ]
  },
  {
   "cell_type": "code",
   "execution_count": 6,
   "id": "3d0b056a",
   "metadata": {},
   "outputs": [
    {
     "name": "stdout",
     "output_type": "stream",
     "text": [
      "Project ID: E-094.C-0935A-2014\n"
     ]
    }
   ],
   "source": [
    "table_raw = eso.query_instrument(\"APEX\", column_filters={\"prog_id\": f\"like '{proposal_id}%'\"}) # query the APEX instrument for data related to the proposal ID\n",
    "project_id = list(set(table_raw[\"project_id\"])) # extract unique project IDs from the raw data query\n",
    "project_id = project_id[0] # Assuming we only have one project ID -- see above check... \n",
    "print(f\"Project ID: {project_id}\")"
   ]
  },
  {
   "cell_type": "markdown",
   "id": "87b56e6e",
   "metadata": {},
   "source": [
    "**Bonus:** Just for fun, we can also print the column descriptions of the instrument-specific raw query table..."
   ]
  },
  {
   "cell_type": "code",
   "execution_count": 10,
   "id": "0e904f06",
   "metadata": {},
   "outputs": [
    {
     "name": "stdout",
     "output_type": "stream",
     "text": [
      "Column Descriptions:\n",
      "-------------------------\n",
      "                   object: Identifier or name of the target observed. It is either the target designation (as given by the astronomer) for science exposures, or the exposure type for non-science frames (e.g. FLAT,LAMP). Originating from FITS keyword: OBJECT.\n",
      "                       ra: Right Ascension of the pointing (FK5). Expressed in degrees. Originating from FITS keyword: RA.\n",
      "                      dec: Declination of the pointing (FK5). Expressed in degrees. Originating from FITS keyword: DEC.\n",
      "                    dp_id: Primary unique identifier for the ESO archive file.\n",
      "                 date_obs: A string (varchar, not  a datetime) representing the date and time of exposure start (International Atomic Time - TAI). It can be used to match (also using SQL wild cards) the string expressed as ISO 8601 compliant date-time format 'YYYY-MM-DDTHH:MM:SS(.sss..)', with a 'T' separating the date and time (e.g., 2000-01-01T00:00:00). Not being a datetime field, date functions like ESO_DATEADD_SEC cannot be used on this column, for that use exp_start instead. Originating from FITS keyword: DATE-OBS.\n",
      "                  prog_id: Identifier for the ESO observing program linked to the observation. Originating from FITS keyword: HIERARCH ESO OBS PROG ID.\n",
      "           access_estsize: Estimated size of the downloaded file in kilo bytes. It is only \"estimated\" as in general, FITS headers can be patched at download time, making the file size varying with time.\n",
      "               access_url: A direct URL for downloading the raw data file. If the file is under a proprietary period, access is restricted to authenticated users with the necessary permissions.\n",
      "                     bwid: Bandwidth [GHz]. Originating from FITS keyword: BWID.\n",
      "                 channels: Number of spec channels for this BASEBAND. Originating from FITS keyword: CHANNELS.\n",
      "             datalink_url: A URL that can be used to find the access points of the raw file itself, as well as all its related files. Related files include the calibration files necessary to reduce a science raw frame (see calSelector entries) and, if available, a list of calibrated product(s) generated from it.\n",
      "                   dp_cat: Data product category for the observation. Originating from FITS keyword: HIERARCH ESO DPR CATG.\n",
      "                  dp_tech: Observation technique or methodology employed. Originating from FITS keyword: HIERARCH ESO DPR TECH.\n",
      "                  dp_type: Type of observation, categorized by predefined classes for each instrument. Originating from FITS keyword: HIERARCH ESO DPR TYPE.\n",
      "                  ecl_lat: Ecliptic latitude of the observation. Expressed in degrees.\n",
      "                  ecl_lon: Ecliptic longitude of the observation. Expressed in degrees.\n",
      "                exp_start: Date and time of exposure start (International Atomic Time - TAI). Expressed as ISO 8601 compliant date-time format 'YYYY-MM-DDTHH:MM:SS(.sss)Z', with a 'T' separating the date and time (e.g., 2000-01-01T00:00:00.000Z). With xtype = timestamp, and as such is a properly formatted, queryable time field. Originating from FITS keyword: MJD-OBS.\n",
      "                 exposure: Total exposure time for the observation. Expressed in seconds.\n",
      "                  exptime: Integration time for a single observation. In infrared instruments (except VIRCAM), this corresponds to det_dit, since the counts of a single raw frame are averaged over det_ndit subintegrations. In all other instruments, this is the total integration time. Expressed in seconds. Originating from FITS keyword: EXPTIME.\n",
      "                     febe: Frontend-backend detector combination. Originating from FITS keyword: FEBE.\n",
      "                     freq: Frequency [GHz]. Originating from FITS keyword: FREQ.\n",
      "                  freqres: Frequency resolution. Originating from FITS keyword: FREQRES.\n",
      "                  gal_lat: Galactic latitude of the pointing (derived from ra/dec columns). Expressed in degrees.\n",
      "                  gal_lon: Galactic longitude of the pointing (derived from ra/dec columns). Expressed in degrees.\n",
      "               instrument: Type of the instrument (APEXHET = heterodynes, APEXBOL =  bolometers). Originating from FITS keyword: INSTRUME.\n",
      "               lambda_max: Maximum wavelength of the overall transmission curve (filter/grating/grism + detector + optics), expressed in nanometers; currently available only for images. Note: a constraint on this field limits the search to imaging data only.\n",
      "               lambda_min: Minimum wavelength of the overall transmission curve (filter/grating/grism + detector + optics), expressed in nanometers; currently available only for images. Note: a constraint on this field limits the search to imaging data only.\n",
      "            last_mod_date: Datetime value when the record was either published or last modified (UTC). Typical use case: last_mod_date > 'X' will find any data that have been published, or that have been modified, since date X. Wild cards are not permitted on a datetime column (xtype=timestamp). Expressed as ISO 8601 compliant date-time format 'YYYY-MM-DDTHH:MM:SS(.sss)'.\n",
      "                     line: Line name. Originating from FITS keyword: LINE.\n",
      "                      lst: Local Sidereal Time at the start of the observation, expressed in seconds since sidereal midnight. Originating from FITS keyword: LST.\n",
      "                  mjd_obs: Modified Julian Date (MJD) of the start of the observations (in International Atomic Time - TAI). Originating from FITS keyword: MJD-OBS.\n",
      "                    npols: Number of polarisations. Originating from FITS keyword: NPOLS.\n",
      "                    nsubs: Number of subscans in this scan. Originating from FITS keyword: NSUBS.\n",
      "                    ob_id: Unique identifier for this observation block. Originating from FITS keyword: HIERARCH ESO OBS ID.\n",
      "        observer_initials: Observer and operator initials. Originating from FITS keyword: OBSID.\n",
      "           observing_mode: Observation mode, indicating whether the observation was executed in 'Service' or 'Visitor' mode.\n",
      "                 origfile: Name of the original file. Originating from FITS keyword: ORIGFILE.\n",
      "                   period: ESO cycle of proposal is based on semester called periods; e.g., period 113 covers the semeser 1 April 2024 - 30 September 2024.\n",
      "                   pi_coi: Names of the Principal Investigator (PI) and Co-Investigator(s) associated with the observation.\n",
      "               prog_title: Title of the ESO observing program.\n",
      "                prog_type: Program Type, indicating whether the ESO observing program was a 'Normal', 'GTO' (Guaranteed Time Observations), 'DDT' (Director's Discretionary Time), 'ToO' (Target of Opportunity), 'Large', 'Short', 'Calibration' or 'Monitoring' program.\n",
      "               project_id: Identifier for the APEX project ID of the form: I-T[P]PP.C-NNNNR-YYYY where I: a letter for the APEX partner institute (M, E, O, or C), T: the proposal type,[P]PP: 3 digits (from period 100 on) or 2 digits (until period 99) indicating the observing period, C: science category (for ESO), or simply 'F' (for the other APEX partners), NNNN: the 4-digit project number, R: the run letter (which is used by ESO, Sweden, and Chile. For MPI it is usually 'A'), YYYY: the year. Originating from FITS keyword: PROJID\n",
      "             release_date: Public release date of the data after the proprietary period. Expressed as ISO 8601 compliant date-time format 'YYYY-MM-DDTHH:MM:SS(.sss)', with a 'T' separating the date and time (e.g., 2000-01-01T00:00:00.000).\n",
      "                 restfreq: [Hz] Rest frequency of line. Originating from FITS keyword: RESTFREQ.\n",
      "                 s_region: The s_region parameter defines the spatial region of an observation. For example, a query can retrieve all records within a 1-degree radius around a given RA and Dec in a particular table (e.g. ist.amber) - SELECT * FROM ist.amber WHERE CONTAINS(s_region, CIRCLE('', 56.3, 20, 1)) = 1. The output provides the spatial coordinates of the raw dataset as POSITION (RA, Dec). Since raw data footprints are not available, this serves as a reference for the observation's position.\n",
      "                 scangeom: Scan geometry. Originating from FITS keyword: SCANGEOM.\n",
      "                 scanmode: Mapping mode. Originating from FITS keyword: SCANMODE.\n",
      "                  scannum: Scan number. Originating from FITS keyword: SCANNUM.\n",
      "                 scantype: Scan astronomical type. Originating from FITS keyword: SCANTYPE.\n",
      "                  skyfreq: [Hz] Sky frequency at the center of the baseband. Originating from FITS keyword: SKYFREQ.\n",
      "             tel_airm_end: Airmass value at the end of the observation. Originating from FITS keyword: HIERARCH ESO TEL AIRM END.\n",
      "           tel_airm_start: Airmass value at the start of the observation. Originating from FITS keyword: HIERARCH ESO TEL AIRM START.\n",
      "                  tel_alt: Telescope altitude angle at the start of the observation. Expressed in degrees. Originating from FITS keyword: HIERARCH ESO TEL ALT.\n",
      "                   tel_az: Telescope azimuth angle at the start of the observation. Expressed in degrees (0° = South, 90° = West). Originating from FITS keyword: HIERARCH ESO TEL AZ.\n",
      "                telescope: Identifier and/or name of the telescope used for the observation. Originating from FITS keyword: TELESCOP.\n",
      "                 wobcycle: [s] Wobbler period. Originating from FITS keyword: WOBCYCLE.\n",
      "                 wobthrow: [deg] Wobbler throw. Originating from FITS keyword: WOBTHROW.\n",
      "                  wobused: Wobbler used?. Originating from FITS keyword: WOBUSED.\n"
     ]
    }
   ],
   "source": [
    "print(\"Column Descriptions:\\n\" + \"-\" * 25)\n",
    "for colname in table_raw.colnames:\n",
    "    desc = table_raw[colname].info.description\n",
    "    desc_str = desc if desc is not None else \"[no description]\"\n",
    "    print(f\"{colname:>25}: {desc_str}\")"
   ]
  },
  {
   "cell_type": "markdown",
   "id": "8f08969d",
   "metadata": {},
   "source": [
    "# **Query for APEX Quick Look products**\n",
    "\n",
    "As always, we can check the available columns to search in the query."
   ]
  },
  {
   "cell_type": "code",
   "execution_count": 7,
   "id": "8fc11c9d",
   "metadata": {},
   "outputs": [
    {
     "name": "stdout",
     "output_type": "stream",
     "text": [
      "INFO: \n",
      "Columns present in the table ist.apex_quicklooks:\n",
      "  column_name   datatype   xtype    unit\n",
      "--------------- -------- --------- -----\n",
      " access_estsize     long           kbyte\n",
      "     access_url     char                \n",
      "     instrument     char                \n",
      "instrument_type     char                \n",
      "        partner     char                \n",
      "         pi_coi     char                \n",
      "        prog_id     char                \n",
      "     prog_title     char                \n",
      "      prog_type     char                \n",
      "     project_id     char                \n",
      "   quicklook_id     char                \n",
      "   release_date     char timestamp      \n",
      "\n",
      "Number of records present in the table ist.apex_quicklooks:\n",
      "282296\n",
      " [astroquery.eso.core]\n"
     ]
    }
   ],
   "source": [
    "eso.query_apex_quicklooks(help=True) # get help on the query_apex_quicklooks method"
   ]
  },
  {
   "cell_type": "markdown",
   "id": "0b2b9db8",
   "metadata": {},
   "source": [
    "We can now query for the APEX Quick Look products using the APEX proposal ID (``project_id``) we retrieved from the previous query."
   ]
  },
  {
   "cell_type": "code",
   "execution_count": 8,
   "id": "7fabe9c2",
   "metadata": {},
   "outputs": [
    {
     "data": {
      "text/html": [
       "<div><i>Table length=3</i>\n",
       "<table id=\"table4711667808\" class=\"table-striped table-bordered table-condensed\">\n",
       "<thead><tr><th>access_estsize</th><th>access_url</th><th>instrument</th><th>instrument_type</th><th>partner</th><th>pi_coi</th><th>prog_id</th><th>prog_title</th><th>prog_type</th><th>project_id</th><th>quicklook_id</th><th>release_date</th></tr></thead>\n",
       "<thead><tr><th>kbyte</th><th></th><th></th><th></th><th></th><th></th><th></th><th></th><th></th><th></th><th></th><th></th></tr></thead>\n",
       "<thead><tr><th>int64</th><th>object</th><th>object</th><th>object</th><th>object</th><th>object</th><th>object</th><th>object</th><th>object</th><th>object</th><th>object</th><th>object</th></tr></thead>\n",
       "<tr><td>846755</td><td>https://dataportal.eso.org/dataPortal/file/E-094.C-0935A.2014DEC10.TAR</td><td>APEXHET</td><td>Heterodyne</td><td>ESO</td><td>Stanke/ Arce/ Bally/ Bergman/ Carpenter/ Davis/ Dent/ Di Francesco/ Eisloeffel/ Froebrich/ Ginsburg/ Heyer/ Johnstone/ Mardones/ McCaughrean/ Megeath/ Smith/ Nakamura/ Reipurth/ Stutz/ Tatematsu/ Walker/ Williams/ Zinnecker</td><td>094.C-0935(A)</td><td>The APEX Large CO Heterodyne Outflow Legacy Supercam survey of Orion (ALCOHOLS)</td><td>Normal</td><td>E-094.C-0935A-2014</td><td>E-094.C-0935A.2014DEC10.TAR</td><td>2014-12-10T07:05:44.397Z</td></tr>\n",
       "<tr><td>2320209</td><td>https://dataportal.eso.org/dataPortal/file/E-094.C-0935A.2014DEC12.TAR</td><td>APEXHET</td><td>Heterodyne</td><td>ESO</td><td>Stanke/ Arce/ Bally/ Bergman/ Carpenter/ Davis/ Dent/ Di Francesco/ Eisloeffel/ Froebrich/ Ginsburg/ Heyer/ Johnstone/ Mardones/ McCaughrean/ Megeath/ Smith/ Nakamura/ Reipurth/ Stutz/ Tatematsu/ Walker/ Williams/ Zinnecker</td><td>094.C-0935(A)</td><td>The APEX Large CO Heterodyne Outflow Legacy Supercam survey of Orion (ALCOHOLS)</td><td>Normal</td><td>E-094.C-0935A-2014</td><td>E-094.C-0935A.2014DEC12.TAR</td><td>2014-12-12T11:05:59.437Z</td></tr>\n",
       "<tr><td>5445826</td><td>https://dataportal.eso.org/dataPortal/file/E-094.C-0935A.2014DEC13.TAR</td><td>APEXHET</td><td>Heterodyne</td><td>ESO</td><td>Stanke/ Arce/ Bally/ Bergman/ Carpenter/ Davis/ Dent/ Di Francesco/ Eisloeffel/ Froebrich/ Ginsburg/ Heyer/ Johnstone/ Mardones/ McCaughrean/ Megeath/ Smith/ Nakamura/ Reipurth/ Stutz/ Tatematsu/ Walker/ Williams/ Zinnecker</td><td>094.C-0935(A)</td><td>The APEX Large CO Heterodyne Outflow Legacy Supercam survey of Orion (ALCOHOLS)</td><td>Normal</td><td>E-094.C-0935A-2014</td><td>E-094.C-0935A.2014DEC13.TAR</td><td>2015-02-20T19:15:36.383Z</td></tr>\n",
       "</table></div>"
      ],
      "text/plain": [
       "<Table length=3>\n",
       "access_estsize ...       release_date      \n",
       "    kbyte      ...                         \n",
       "    int64      ...          object         \n",
       "-------------- ... ------------------------\n",
       "        846755 ... 2014-12-10T07:05:44.397Z\n",
       "       2320209 ... 2014-12-12T11:05:59.437Z\n",
       "       5445826 ... 2015-02-20T19:15:36.383Z"
      ]
     },
     "execution_count": 8,
     "metadata": {},
     "output_type": "execute_result"
    }
   ],
   "source": [
    "table_quicklooks = eso.query_apex_quicklooks(project_id) # query the APEX quicklooks for the project ID\n",
    "table_quicklooks[:3]  # print the quicklook table"
   ]
  },
  {
   "cell_type": "markdown",
   "id": "32125da3",
   "metadata": {},
   "source": [
    "Again, lets print some information about the columns in the APEX Quick Look table..."
   ]
  },
  {
   "cell_type": "code",
   "execution_count": 11,
   "id": "ed4d96cf",
   "metadata": {},
   "outputs": [
    {
     "name": "stdout",
     "output_type": "stream",
     "text": [
      "Column Descriptions:\n",
      "-------------------------\n",
      "           access_estsize: Estimated size of the APEX quick look TAR file in kilo bytes.\n",
      "               access_url: A direct URL for downloading the quicklook product. If the file is under a proprietary period, access is restricted to authenticated users with the necessary permissions.\n",
      "               instrument: Type of the instrument (APEXHET = heterodynes, APEXBOL =  bolometers). Originating from FITS keyword: INSTRUME.\n",
      "          instrument_type: Type of the instrument used: Heterodyne or Bolometer.\n",
      "                  partner: This field indicates which partner institute an APEX project belongs to, it can be: ESO, Max-Planck, Onsala, Chilean or Technical project.\n",
      "                   pi_coi: Names of the Principal Investigator (PI) and Co-Investigator(s) associated with the observation.\n",
      "                  prog_id: Identifier for the ESO observing program linked to the observation. Originating from FITS keyword: HIERARCH ESO OBS PROG ID.\n",
      "               prog_title: Title of the ESO observing program.\n",
      "                prog_type: Program Type, indicating whether the ESO observing program was a 'Normal', 'GTO' (Guaranteed Time Observations), 'DDT' (Director's Discretionary Time), 'ToO' (Target of Opportunity), 'Large', 'Short', 'Calibration' or 'Monitoring' program.\n",
      "               project_id: Identifier for the APEX project ID of the form: I-T[P]PP.C-NNNNR-YYYY where I: a letter for the APEX partner institute (M, E, O, or C), T: the proposal type,[P]PP: 3 digits (from period 100 on) or 2 digits (until period 99) indicating the observing period, C: science category (for ESO), or simply 'F' (for the other APEX partners), NNNN: the 4-digit project number, R: the run letter (which is used by ESO, Sweden, and Chile. For MPI it is usually 'A'), YYYY: the year. Originating from FITS keyword: PROJID\n",
      "             quicklook_id: Name of APEX quick look product TAR file.\n",
      "             release_date: Public release date of the data after the proprietary period. Expressed as ISO 8601 compliant date-time format 'YYYY-MM-DDTHH:MM:SS(.sss)', with a 'T' separating the date and time (e.g., 2000-01-01T00:00:00.000).\n"
     ]
    }
   ],
   "source": [
    "print(\"Column Descriptions:\\n\" + \"-\" * 25)\n",
    "for colname in table_quicklooks.colnames:\n",
    "    desc = table_quicklooks[colname].info.description\n",
    "    desc_str = desc if desc is not None else \"[no description]\"\n",
    "    print(f\"{colname:>25}: {desc_str}\")"
   ]
  },
  {
   "cell_type": "markdown",
   "id": "6067a10c",
   "metadata": {},
   "source": [
    "As can be seen from the output above, there is one APEX Quick Look product available per UT date, per APEX proposal ID. \n",
    "\n",
    "Also note that the APEX Quick Look products are available in `.tar` (`.TAR`) format, which can be downloaded and extracted (see below). "
   ]
  },
  {
   "cell_type": "markdown",
   "id": "0d9dbbe8",
   "metadata": {},
   "source": [
    "## **Download APEX Quick Look products**\n",
    "\n",
    "Finally, we can download the APEX Quick Look products using the `eso.retrieve_data` function."
   ]
  },
  {
   "cell_type": "code",
   "execution_count": 9,
   "id": "73ffb5dd",
   "metadata": {},
   "outputs": [],
   "source": [
    "# eso.retrieve_data(table_quicklooks[0][\"quicklook_id\"])  # download the first quicklook data file"
   ]
  }
 ],
 "metadata": {
  "kernelspec": {
   "display_name": "astroquery_eso",
   "language": "python",
   "name": "python3"
  },
  "language_info": {
   "codemirror_mode": {
    "name": "ipython",
    "version": 3
   },
   "file_extension": ".py",
   "mimetype": "text/x-python",
   "name": "python",
   "nbconvert_exporter": "python",
   "pygments_lexer": "ipython3",
   "version": "3.13.5"
  }
 },
 "nbformat": 4,
 "nbformat_minor": 5
}
