{
 "cells": [
  {
   "cell_type": "markdown",
   "metadata": {},
   "source": [
    "<hr style=\"border:2px solid #0281c9\"> </hr>\n",
    "\n",
    "<img align=\"left\" alt=\"ESO Logo\" src=\"http://archive.eso.org/i/esologo.png\">  \n",
    "\n",
    "<div align=\"center\">\n",
    "  <h1 style=\"color: #0281c9; font-weight: bold;\">ESO Science Archive</h1> \n",
    "  <h2 style=\"color: #0281c9; font-weight: bold;\">Jupyter Notebooks</h2>\n",
    "</div>\n",
    "\n",
    "<hr style=\"border:2px solid #0281c9\"> </hr>"
   ]
  },
  {
   "cell_type": "markdown",
   "metadata": {},
   "source": [
    "# **Query by Programme ID**\n",
    "\n",
    "This notebook demonstrates how to use the `astroquery.eso` module to search for and download raw and reduced HAWK-I near-infrared observations from the ESO archive, specifically targeting Sgr A*, the supermassive black hole at the center of the Milky Way from a specific project. It guides users through querying both the main ESO archive table and instrument-specific tables, filtering results based on observation parameters, and retrieving raw, unprocessed data for further calibration and analysis, enabling direct access to ESO’s extensive collection of observational datasets.\n",
    "\n",
    "<hr style=\"border:2px solid #0281c9\"> </hr>"
   ]
  },
  {
   "cell_type": "markdown",
   "metadata": {},
   "source": [
    "# **Importing and basic usage of astroquery.eso** "
   ]
  },
  {
   "cell_type": "code",
   "execution_count": 1,
   "metadata": {},
   "outputs": [
    {
     "name": "stdout",
     "output_type": "stream",
     "text": [
      "astroquery version: 0.4.11.dev10290\n"
     ]
    }
   ],
   "source": [
    "import astroquery # import astroquery\n",
    "print(f\"astroquery version: {astroquery.__version__}\") # check the version of astroquery"
   ]
  },
  {
   "cell_type": "code",
   "execution_count": 2,
   "metadata": {},
   "outputs": [],
   "source": [
    "from astroquery.eso import Eso # import the ESO module from astroquery"
   ]
  },
  {
   "cell_type": "code",
   "execution_count": 3,
   "metadata": {},
   "outputs": [],
   "source": [
    "eso = Eso() # create an instance of the ESO class "
   ]
  },
  {
   "cell_type": "markdown",
   "metadata": {},
   "source": [
    "# **Performing a Search for Data from the GALACTICNUCLEUS survey**\n",
    "\n",
    "**Info on the [GALACTICNUCLEUS survey (195.B-0283)](https://archive.eso.org/scienceportal/home?data_release_date=*:2025-05-17&dp_type=IMAGE&data_collection=195.B-0283&sort=-obs_date&s=P%2fDSS2%2fcolor&f=177.07582&fc=-1,-1&cs=J2000&av=true&ac=false&c=9,10,11,12,14,15,16,17,18,19,20,21&ta=RES&dts=true&at=201.330312,-5.255207&sr=i)**\n",
    "\n",
    "The dataset from **ESO’s VLT/MUSE Galactic Center Survey** provides an unprecedented 3D spectroscopic map of the Milky Way’s central region, covering a wide field with high spatial and spectral resolution. It includes data on ionized and warm gas, stellar populations, and kinematics, enabling studies of star formation, stellar feedback, and black hole interactions at the Galactic Center. This **publicly released dataset** is a valuable resource for understanding gas dynamics, star formation processes, and the **extreme environment around Sgr A**. "
   ]
  },
  {
   "cell_type": "code",
   "execution_count": 4,
   "metadata": {},
   "outputs": [],
   "source": [
    "instrument = \"HAWKI\"       # the instrument to HAWKI\n",
    "prog_id    = \"195.B-0283\"  # the program ID\n",
    "dp_cat     = \"SCIENCE\"     # the data product category to SCIENCE"
   ]
  },
  {
   "cell_type": "code",
   "execution_count": 5,
   "metadata": {},
   "outputs": [],
   "source": [
    "eso.maxrec = 3    # For this example we limit the number of records to 3"
   ]
  },
  {
   "cell_type": "markdown",
   "metadata": {},
   "source": [
    "## **General reduced data query**"
   ]
  },
  {
   "cell_type": "markdown",
   "metadata": {},
   "source": [
    "Quick check if the survey is in the archive... "
   ]
  },
  {
   "cell_type": "code",
   "execution_count": 6,
   "metadata": {},
   "outputs": [
    {
     "data": {
      "text/plain": [
       "True"
      ]
     },
     "execution_count": 6,
     "metadata": {},
     "output_type": "execute_result"
    }
   ],
   "source": [
    "surveys = eso.list_surveys() # list all collections\n",
    "prog_id in surveys # check if the program ID is in the list of surveys"
   ]
  },
  {
   "cell_type": "markdown",
   "metadata": {},
   "source": [
    "Now the suvery can be simply queried via the following. "
   ]
  },
  {
   "cell_type": "code",
   "execution_count": 7,
   "metadata": {},
   "outputs": [
    {
     "name": "stderr",
     "output_type": "stream",
     "text": [
      "/opt/anaconda3/envs/tst/lib/python3.9/site-packages/pyvo/dal/query.py:341: DALOverflowWarning: Partial result set. Potential causes MAXREC, async storage space, etc.\n",
      "  warn(\"Partial result set. Potential causes MAXREC, async storage space, etc.\",\n",
      "WARNING: MaxResultsWarning: Results truncated to 3. To retrieve all the records set to None the maxrec attribute [astroquery.eso.core]\n"
     ]
    },
    {
     "data": {
      "text/html": [
       "<div><i>Table length=3</i>\n",
       "<table id=\"table5088158096\" class=\"table-striped table-bordered table-condensed\">\n",
       "<thead><tr><th>target_name</th><th>s_ra</th><th>s_dec</th><th>proposal_id</th><th>instrument_name</th><th>dp_id</th></tr></thead>\n",
       "<thead><tr><th></th><th>deg</th><th>deg</th><th></th><th></th><th></th></tr></thead>\n",
       "<thead><tr><th>object</th><th>float64</th><th>float64</th><th>object</th><th>object</th><th>object</th></tr></thead>\n",
       "<tr><td>FAST-SGRA-10</td><td>266.58929</td><td>-28.788888</td><td>195.B-0283(A)</td><td>HAWKI</td><td>ADP.2021-04-30T12:05:58.577</td></tr>\n",
       "<tr><td>FAST-SGRA-10</td><td>266.55093</td><td>-28.844495</td><td>195.B-0283(A)</td><td>HAWKI</td><td>ADP.2021-04-30T12:05:58.579</td></tr>\n",
       "<tr><td>FAST-SGRA-10</td><td>266.5264</td><td>-28.831477</td><td>195.B-0283(A)</td><td>HAWKI</td><td>ADP.2021-04-30T12:05:58.581</td></tr>\n",
       "</table></div>"
      ],
      "text/plain": [
       "<Table length=3>\n",
       "target_name     s_ra   ... instrument_name            dp_id           \n",
       "                deg    ...                                            \n",
       "   object     float64  ...      object                object          \n",
       "------------ --------- ... --------------- ---------------------------\n",
       "FAST-SGRA-10 266.58929 ...           HAWKI ADP.2021-04-30T12:05:58.577\n",
       "FAST-SGRA-10 266.55093 ...           HAWKI ADP.2021-04-30T12:05:58.579\n",
       "FAST-SGRA-10  266.5264 ...           HAWKI ADP.2021-04-30T12:05:58.581"
      ]
     },
     "execution_count": 7,
     "metadata": {},
     "output_type": "execute_result"
    }
   ],
   "source": [
    "table_reduced = eso.query_surveys(prog_id) # query the survey with the program ID\n",
    "\n",
    "table_reduced[\"target_name\", \"s_ra\", \"s_dec\", \"proposal_id\", \"instrument_name\", \"dp_id\"] # print the first 3 rows of the table"
   ]
  },
  {
   "cell_type": "markdown",
   "metadata": {},
   "source": [
    "Note that this assumes the survey name is the same as the project ID, which is not always the case. Hence a \"safer\" option may be to do a free search and constrain by the column name `proposal_id`, like the following. "
   ]
  },
  {
   "cell_type": "code",
   "execution_count": 8,
   "metadata": {},
   "outputs": [
    {
     "data": {
      "text/html": [
       "<div><i>Table length=3</i>\n",
       "<table id=\"table5092067120\" class=\"table-striped table-bordered table-condensed\">\n",
       "<thead><tr><th>target_name</th><th>s_ra</th><th>s_dec</th><th>proposal_id</th><th>instrument_name</th><th>dp_id</th></tr></thead>\n",
       "<thead><tr><th></th><th>deg</th><th>deg</th><th></th><th></th><th></th></tr></thead>\n",
       "<thead><tr><th>object</th><th>float64</th><th>float64</th><th>object</th><th>object</th><th>object</th></tr></thead>\n",
       "<tr><td>2MASS_90860</td><td>185.361175</td><td>-0.102492</td><td>195.B-0283(A)</td><td>HAWKI</td><td>ADP.2016-07-29T13:44:03.114</td></tr>\n",
       "<tr><td>2MASS_90860</td><td>185.417579</td><td>-0.120564</td><td>195.B-0283(A)</td><td>HAWKI</td><td>ADP.2016-07-29T13:44:03.115</td></tr>\n",
       "<tr><td>2MASS_90860</td><td>185.417543</td><td>-0.120434</td><td>195.B-0283(A)</td><td>HAWKI</td><td>ADP.2016-07-29T13:44:03.122</td></tr>\n",
       "</table></div>"
      ],
      "text/plain": [
       "<Table length=3>\n",
       "target_name    s_ra      s_dec   ... instrument_name            dp_id           \n",
       "               deg        deg    ...                                            \n",
       "   object    float64    float64  ...      object                object          \n",
       "----------- ---------- --------- ... --------------- ---------------------------\n",
       "2MASS_90860 185.361175 -0.102492 ...           HAWKI ADP.2016-07-29T13:44:03.114\n",
       "2MASS_90860 185.417579 -0.120564 ...           HAWKI ADP.2016-07-29T13:44:03.115\n",
       "2MASS_90860 185.417543 -0.120434 ...           HAWKI ADP.2016-07-29T13:44:03.122"
      ]
     },
     "execution_count": 8,
     "metadata": {},
     "output_type": "execute_result"
    }
   ],
   "source": [
    "table_reduced = eso.query_surveys(column_filters={\"proposal_id\":f\"like '%{prog_id}%'\"}) # query the survey with the program ID\n",
    "\n",
    "table_reduced[\"target_name\", \"s_ra\", \"s_dec\", \"proposal_id\", \"instrument_name\", \"dp_id\"] # print the first 3 rows of the table"
   ]
  },
  {
   "cell_type": "markdown",
   "metadata": {},
   "source": [
    "## **Instrument specific raw data query**"
   ]
  },
  {
   "cell_type": "code",
   "execution_count": 9,
   "metadata": {},
   "outputs": [
    {
     "data": {
      "text/html": [
       "<div><i>Table length=3</i>\n",
       "<table id=\"table5088889056\" class=\"table-striped table-bordered table-condensed\">\n",
       "<thead><tr><th>object</th><th>ra</th><th>dec</th><th>prog_id</th><th>instrument</th><th>dp_id</th></tr></thead>\n",
       "<thead><tr><th></th><th>deg</th><th>deg</th><th></th><th></th><th></th></tr></thead>\n",
       "<thead><tr><th>object</th><th>float64</th><th>float64</th><th>object</th><th>object</th><th>object</th></tr></thead>\n",
       "<tr><td>FAST-SGRA-SKY</td><td>267.01146</td><td>-29.00538</td><td>195.B-0283(A)</td><td>HAWKI</td><td>HAWKI.2015-06-06T00:51:08.372</td></tr>\n",
       "<tr><td>FAST-SGRA-1</td><td>266.414237</td><td>-29.00781</td><td>195.B-0283(A)</td><td>HAWKI</td><td>HAWKI.2015-06-06T01:01:27.257</td></tr>\n",
       "<tr><td>FAST-SGRA-1</td><td>266.416919</td><td>-29.00465</td><td>195.B-0283(A)</td><td>HAWKI</td><td>HAWKI.2015-06-06T01:36:05.831</td></tr>\n",
       "</table></div>"
      ],
      "text/plain": [
       "<Table length=3>\n",
       "    object        ra        dec    ... instrument             dp_id            \n",
       "                 deg        deg    ...                                         \n",
       "    object     float64    float64  ...   object               object           \n",
       "------------- ---------- --------- ... ---------- -----------------------------\n",
       "FAST-SGRA-SKY  267.01146 -29.00538 ...      HAWKI HAWKI.2015-06-06T00:51:08.372\n",
       "  FAST-SGRA-1 266.414237 -29.00781 ...      HAWKI HAWKI.2015-06-06T01:01:27.257\n",
       "  FAST-SGRA-1 266.416919 -29.00465 ...      HAWKI HAWKI.2015-06-06T01:36:05.831"
      ]
     },
     "execution_count": 9,
     "metadata": {},
     "output_type": "execute_result"
    }
   ],
   "source": [
    "table_raw = eso.query_instrument(instrument, \n",
    "                            column_filters={\"prog_id\":f\"like '%{prog_id}%'\", \n",
    "                                            \"dp_cat\":dp_cat})\n",
    "\n",
    "table_raw[\"object\", \"ra\", \"dec\", \"prog_id\", \"instrument\", \"dp_id\"] # print the first 3 rows of the table"
   ]
  },
  {
   "cell_type": "markdown",
   "metadata": {},
   "source": [
    "## **General raw data query**"
   ]
  },
  {
   "cell_type": "code",
   "execution_count": 10,
   "metadata": {},
   "outputs": [
    {
     "data": {
      "text/html": [
       "<div><i>Table length=3</i>\n",
       "<table id=\"table5093218672\" class=\"table-striped table-bordered table-condensed\">\n",
       "<thead><tr><th>object</th><th>ra</th><th>dec</th><th>prog_id</th><th>instrument</th><th>dp_id</th></tr></thead>\n",
       "<thead><tr><th></th><th>deg</th><th>deg</th><th></th><th></th><th></th></tr></thead>\n",
       "<thead><tr><th>object</th><th>float64</th><th>float64</th><th>object</th><th>object</th><th>object</th></tr></thead>\n",
       "<tr><td>FAST-SGRA-29</td><td>266.35917694</td><td>-29.24629</td><td>195.B-0283(B)</td><td>HAWKI</td><td>HAWKI.2016-03-27T09:23:56.772</td></tr>\n",
       "<tr><td>FAST-SGRA-29</td><td>266.36627611</td><td>-29.24956</td><td>195.B-0283(B)</td><td>HAWKI</td><td>HAWKI.2016-05-12T09:06:30.162</td></tr>\n",
       "<tr><td>FAST-SGRA-29</td><td>266.35321888</td><td>-29.24222</td><td>195.B-0283(B)</td><td>HAWKI</td><td>HAWKI.2016-05-12T09:15:24.451</td></tr>\n",
       "</table></div>"
      ],
      "text/plain": [
       "<Table length=3>\n",
       "   object         ra         dec    ... instrument             dp_id            \n",
       "                 deg         deg    ...                                         \n",
       "   object      float64     float64  ...   object               object           \n",
       "------------ ------------ --------- ... ---------- -----------------------------\n",
       "FAST-SGRA-29 266.35917694 -29.24629 ...      HAWKI HAWKI.2016-03-27T09:23:56.772\n",
       "FAST-SGRA-29 266.36627611 -29.24956 ...      HAWKI HAWKI.2016-05-12T09:06:30.162\n",
       "FAST-SGRA-29 266.35321888 -29.24222 ...      HAWKI HAWKI.2016-05-12T09:15:24.451"
      ]
     },
     "execution_count": 10,
     "metadata": {},
     "output_type": "execute_result"
    }
   ],
   "source": [
    "table_raw = eso.query_main(instrument, \n",
    "                        column_filters={\"prog_id\":f\"like '%{prog_id}%'\", \n",
    "                                        \"dp_cat\":dp_cat})\n",
    "\n",
    "table_raw[\"object\", \"ra\", \"dec\", \"prog_id\", \"instrument\", \"dp_id\"] # print the first 3 rows of the table"
   ]
  },
  {
   "cell_type": "markdown",
   "metadata": {},
   "source": [
    "**Note:** In the both the above that we filtered `prog_id` using the following\n",
    "``` python\n",
    "\"like '%195.B-0283%'\"\n",
    "``` \n",
    "and not only `195.B-0283` as the project contains multiple runs such that the project code of these runs is as follows: `195.B-0283(A)`, `195.B-0283(B)`, `195.B-0283(C)` etc, thus we must use `like` in the `ADQL` syntax. More generally column_filters can be applied as follows: \n",
    "``` python\n",
    "column_filters = {\n",
    "                  'some_int_column': \"< 5\",\n",
    "                  'some_float_column_2': \">= 1.23\",\n",
    "                  'some_char_column': \"like '%John%'\",\n",
    "                  'some_generic_column': \"in ('mango', 'apple', 'kiwi')\",\n",
    "                  'other_generic_column': \"between '2024-01-01' and '2024-12-31'\"\n",
    "                }\n",
    "``` "
   ]
  },
  {
   "cell_type": "markdown",
   "metadata": {},
   "source": [
    "# **Downloading datasets from the archive**"
   ]
  },
  {
   "cell_type": "markdown",
   "metadata": {},
   "source": [
    "The returned table has an ``dp_id`` column. It can be used to retrieve the datasets with ``retrieve_data()``.\n",
    "\n",
    "The file names, returned in ``data_files``, points to the decompressed datasets (without the .Z extension) that have been locally downloaded. \n",
    "\n",
    "The default location (in the ``astropy`` cache) of the decompressed datasets can be adjusted by providing a destination keyword in the call to ``retrieve_data()``. By default, if a requested dataset is already found, it is not downloaded again from the archive. To force the retrieval of data that are present in the destination directory, use ``continuation=True`` in the call to ``retrieve_data()``."
   ]
  },
  {
   "cell_type": "code",
   "execution_count": null,
   "metadata": {},
   "outputs": [
    {
     "name": "stdout",
     "output_type": "stream",
     "text": [
      "INFO: Downloading datasets ... [astroquery.eso.core]\n",
      "INFO: Downloading 1 files ... [astroquery.eso.core]\n",
      "INFO: Downloading file 1/1 https://dataportal.eso.org/dataPortal/file/HAWKI.2016-03-27T09:23:56.772 to /Users/abarnes/.astropy/cache/astroquery/Eso [astroquery.eso.core]\n",
      "INFO: Successfully downloaded dataset HAWKI.2016-03-27T09:23:56.772 to /Users/abarnes/.astropy/cache/astroquery/Eso/HAWKI.2016-03-27T09:23:56.772.fits.Z [astroquery.eso.core]\n",
      "INFO: Uncompressing file /Users/abarnes/.astropy/cache/astroquery/Eso/HAWKI.2016-03-27T09:23:56.772.fits.Z [astroquery.eso.core]\n",
      "INFO: Done! [astroquery.eso.core]\n"
     ]
    }
   ],
   "source": [
    "data_files = eso.retrieve_data(table_raw[\"dp_id\"][0]) # download the first data product\n",
    "# data_files = eso.retrieve_data(table['dp_id'][0], continuation=True) # force the download of all files even if present in the destination directory\n",
    "# data_files = eso.retrieve_data(table['dp_id'][0], destination='./') # specify the destination directory for the download"
   ]
  },
  {
   "cell_type": "markdown",
   "metadata": {},
   "source": [
    "<hr style=\"border:2px solid #0281c9\"> </hr>"
   ]
  }
 ],
 "metadata": {
  "kernelspec": {
   "display_name": "tst",
   "language": "python",
   "name": "python3"
  },
  "language_info": {
   "codemirror_mode": {
    "name": "ipython",
    "version": 3
   },
   "file_extension": ".py",
   "mimetype": "text/x-python",
   "name": "python",
   "nbconvert_exporter": "python",
   "pygments_lexer": "ipython3",
   "version": "3.9.21"
  }
 },
 "nbformat": 4,
 "nbformat_minor": 2
}
