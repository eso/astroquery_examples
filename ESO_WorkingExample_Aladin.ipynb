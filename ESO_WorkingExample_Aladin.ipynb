{
 "cells": [
  {
   "cell_type": "markdown",
   "metadata": {},
   "source": [
    "<hr style=\"border:2px solid #0281c9\"> </hr>\n",
    "\n",
    "<img align=\"left\" alt=\"ESO Logo\" src=\"http://archive.eso.org/i/esologo.png\">  \n",
    "\n",
    "<div align=\"center\">\n",
    "  <h1 style=\"color: #0281c9; font-weight: bold;\">ESO Science Archive</h1> \n",
    "  <h2 style=\"color: #0281c9; font-weight: bold;\">Jupyter Notebooks</h2>\n",
    "</div>\n",
    "\n",
    "<hr style=\"border:2px solid #0281c9\"> </hr>\n",
    "\n",
    "##  **Obtain archival ESO data given RA and Dec and investigate using Aladin**\n",
    "\n",
    "This example shows how to obtain some images towards the Galacitc Centre from the [GALACTICNUCLEUS](https://www.aanda.org/articles/aa/full_html/2019/11/aa36263-19/aa36263-19.html) project (HAWKI) and veiw these in [Aladin Sky Atlas](https://aladin.cds.unistra.fr/). \n",
    "\n",
    "---\n",
    "**Note:** See `ESO_Introduction` and `ESO_Query` notebooks for more basic usage.\n",
    "\n",
    "<hr style=\"border:2px solid #0281c9\"> </hr>"
   ]
  },
  {
   "cell_type": "code",
   "execution_count": 1,
   "metadata": {},
   "outputs": [
    {
     "name": "stdout",
     "output_type": "stream",
     "text": [
      "astroquery version: 0.4.11.dev10290\n"
     ]
    }
   ],
   "source": [
    "import astroquery # import astroquery\n",
    "print(f\"astroquery version: {astroquery.__version__}\") # check the version of astroquery"
   ]
  },
  {
   "cell_type": "code",
   "execution_count": 2,
   "metadata": {},
   "outputs": [],
   "source": [
    "from astroquery.eso import Eso # import the ESO module from astroquery"
   ]
  },
  {
   "cell_type": "code",
   "execution_count": 3,
   "metadata": {},
   "outputs": [],
   "source": [
    "eso = Eso() # create an instance of the ESO class "
   ]
  },
  {
   "cell_type": "code",
   "execution_count": 4,
   "metadata": {},
   "outputs": [],
   "source": [
    "eso.maxrec = 100    # For this example we limit the number of records to 3"
   ]
  },
  {
   "cell_type": "markdown",
   "metadata": {},
   "source": [
    "# **Performing a Small Cone Search**"
   ]
  },
  {
   "cell_type": "code",
   "execution_count": 5,
   "metadata": {},
   "outputs": [],
   "source": [
    "from astropy.coordinates import SkyCoord # import the SkyCoord class from the astropy.coordinates module\n",
    "import astropy.units as u # import the astropy.units module"
   ]
  },
  {
   "cell_type": "code",
   "execution_count": 6,
   "metadata": {},
   "outputs": [
    {
     "name": "stdout",
     "output_type": "stream",
     "text": [
      "Coordinates of Sgr C: <SkyCoord (ICRS): (ra, dec) in deg\n",
      "    (266.15125, -29.47027778)>\n"
     ]
    }
   ],
   "source": [
    "target = \"Sgr C\" # set the target \n",
    "coords = SkyCoord.from_name(target) # create a SkyCoord object from the name of the source \n",
    "radius = 2 *u.arcsec # set the radius of the search \n",
    "\n",
    "print(f\"Coordinates of {target}: {coords}\") # print the coordinates of the target"
   ]
  },
  {
   "cell_type": "code",
   "execution_count": 7,
   "metadata": {},
   "outputs": [],
   "source": [
    "eso.maxrec = 3    # For this example we limit the number of records to 3"
   ]
  },
  {
   "cell_type": "markdown",
   "metadata": {},
   "source": [
    "## **Reduced data cone search and download**"
   ]
  },
  {
   "cell_type": "code",
   "execution_count": 8,
   "metadata": {},
   "outputs": [
    {
     "name": "stderr",
     "output_type": "stream",
     "text": [
      "/opt/anaconda3/envs/tst/lib/python3.9/site-packages/pyvo/dal/query.py:341: DALOverflowWarning: Partial result set. Potential causes MAXREC, async storage space, etc.\n",
      "  warn(\"Partial result set. Potential causes MAXREC, async storage space, etc.\",\n",
      "WARNING: MaxResultsWarning: Results truncated to 3. To retrieve all the records set to None the maxrec attribute [astroquery.eso.core]\n"
     ]
    },
    {
     "data": {
      "text/html": [
       "<div><i>Table length=3</i>\n",
       "<table id=\"table4714738352\" class=\"table-striped table-bordered table-condensed\">\n",
       "<thead><tr><th>target_name</th><th>s_ra</th><th>s_dec</th><th>proposal_id</th><th>instrument_name</th><th>dp_id</th><th>release_description</th></tr></thead>\n",
       "<thead><tr><th></th><th>deg</th><th>deg</th><th></th><th></th><th></th><th></th></tr></thead>\n",
       "<thead><tr><th>object</th><th>float64</th><th>float64</th><th>object</th><th>object</th><th>object</th><th>object</th></tr></thead>\n",
       "<tr><td>FAST-SGRA-19</td><td>266.16201</td><td>-29.462414</td><td>195.B-0283(D)</td><td>HAWKI</td><td>ADP.2021-04-30T12:05:59.471</td><td>http://www.eso.org/rm/api/v1/public/releaseDescriptions/175</td></tr>\n",
       "<tr><td>FAST-SGRA-19</td><td>266.13738</td><td>-29.449327</td><td>195.B-0283(D)</td><td>HAWKI</td><td>ADP.2021-04-30T12:05:59.481</td><td>http://www.eso.org/rm/api/v1/public/releaseDescriptions/175</td></tr>\n",
       "<tr><td>FAST-SGRA-19</td><td>266.16201</td><td>-29.462413</td><td>195.B-0283(D)</td><td>HAWKI</td><td>ADP.2021-04-30T12:05:59.489</td><td>http://www.eso.org/rm/api/v1/public/releaseDescriptions/175</td></tr>\n",
       "</table></div>"
      ],
      "text/plain": [
       "<Table length=3>\n",
       "target_name  ...                     release_description                    \n",
       "             ...                                                            \n",
       "   object    ...                            object                          \n",
       "------------ ... -----------------------------------------------------------\n",
       "FAST-SGRA-19 ... http://www.eso.org/rm/api/v1/public/releaseDescriptions/175\n",
       "FAST-SGRA-19 ... http://www.eso.org/rm/api/v1/public/releaseDescriptions/175\n",
       "FAST-SGRA-19 ... http://www.eso.org/rm/api/v1/public/releaseDescriptions/175"
      ]
     },
     "execution_count": 8,
     "metadata": {},
     "output_type": "execute_result"
    }
   ],
   "source": [
    "table_reduced = eso.query_surveys(\"195.B-0283\",\n",
    "                                cone_ra=coords.ra.value, \n",
    "                                cone_dec=coords.dec.value, \n",
    "                                cone_radius=radius.to(\"deg\").value) # query the ESO archive for HAWKI data\n",
    "\n",
    "table_reduced[\"target_name\", \"s_ra\", \"s_dec\", \"proposal_id\", \"instrument_name\", \"dp_id\", \"release_description\"] # print the first 3 rows of the table"
   ]
  },
  {
   "cell_type": "code",
   "execution_count": 9,
   "metadata": {},
   "outputs": [
    {
     "name": "stdout",
     "output_type": "stream",
     "text": [
      "INFO: Downloading datasets ... [astroquery.eso.core]\n",
      "INFO: Downloading 1 files ... [astroquery.eso.core]\n",
      "INFO: Downloading file 1/1 https://dataportal.eso.org/dataPortal/file/ADP.2021-04-30T12:05:59.471 to /Users/abarnes/Library/CloudStorage/Dropbox/GitHub/astroquery_examples/data [astroquery.eso.core]\n",
      "INFO: Found cached file /Users/abarnes/Library/CloudStorage/Dropbox/GitHub/astroquery_examples/data/ADP.2021-04-30T12:05:59.471.fits [astroquery.eso.core]\n",
      "INFO: Done! [astroquery.eso.core]\n"
     ]
    },
    {
     "data": {
      "text/plain": [
       "'/Users/abarnes/Library/CloudStorage/Dropbox/GitHub/astroquery_examples/data/ADP.2021-04-30T12:05:59.471.fits'"
      ]
     },
     "execution_count": 9,
     "metadata": {},
     "output_type": "execute_result"
    }
   ],
   "source": [
    "# Specify the parent directory; update this to match your own directory structure\n",
    "output_dir = \"./data/\" \n",
    "\n",
    "# Download the data products\n",
    "output_files = eso.retrieve_data(table_reduced[\"dp_id\"][0], destination=output_dir) # download the data products\n",
    "output_files"
   ]
  },
  {
   "cell_type": "markdown",
   "metadata": {},
   "source": [
    "# **Aladin Preview**"
   ]
  },
  {
   "cell_type": "code",
   "execution_count": 10,
   "metadata": {},
   "outputs": [],
   "source": [
    "from ipyaladin import Aladin # Aladin Lite widget for Jupyter notebooks"
   ]
  },
  {
   "cell_type": "markdown",
   "metadata": {},
   "source": [
    "We start by creating an Aladin Lite widget and setting the target position as the initial view. \n",
    "\n",
    "Here we show the [PanSTARRS](https://outerspace.stsci.edu/display/PANSTARRS/) survey data towards the central 0.2 degrees of the Galactic Centre (in galactic coordinates)."
   ]
  },
  {
   "cell_type": "code",
   "execution_count": 11,
   "metadata": {},
   "outputs": [
    {
     "data": {
      "application/vnd.jupyter.widget-view+json": {
       "model_id": "5063bcc9389247caa68068e583225f44",
       "version_major": 2,
       "version_minor": 1
      },
      "text/plain": [
       "Aladin(coo_frame='galactic', survey='P/PanSTARRS/DR1/color-i-r-g')"
      ]
     },
     "execution_count": 11,
     "metadata": {},
     "output_type": "execute_result"
    }
   ],
   "source": [
    "aladin = Aladin(fov=0.2, # Field of view in degrees\n",
    "                survey=\"P/PanSTARRS/DR1/color-i-r-g\", # Survey to display\n",
    "                target=target, # Target to display\n",
    "                coo_frame=\"galactic\") # Coordinate frame to use\n",
    "aladin"
   ]
  },
  {
   "cell_type": "markdown",
   "metadata": {},
   "source": [
    "We can now load the image we downloaded from the ESO Archive into Aladin Lite widget.\n",
    "\n",
    "This requies the use of `fits` from `astropy.io` to open the fits image. \n",
    "\n",
    "**Note:** The image is displayed in the same frame as the Aladin Lite widget (above)."
   ]
  },
  {
   "cell_type": "code",
   "execution_count": 12,
   "metadata": {},
   "outputs": [],
   "source": [
    "from astropy.io import fits # import the fits module from astropy.io\n",
    "\n",
    "# hdu = fits.open(output_files)[0] # Open the FITS file downloaded from the ESO archive\n",
    "aladin.add_fits(output_files, name=target, opacity=0.75) # Add the FITS file to the Aladin Lite widget"
   ]
  },
  {
   "cell_type": "markdown",
   "metadata": {},
   "source": [
    "We can now save this as an image to view later."
   ]
  },
  {
   "cell_type": "code",
   "execution_count": 13,
   "metadata": {},
   "outputs": [],
   "source": [
    "aladin.save_view_as_image(\"./figs/aladin_GALACTICNUCLEUS.png\")"
   ]
  }
 ],
 "metadata": {
  "kernelspec": {
   "display_name": "tst",
   "language": "python",
   "name": "python3"
  },
  "language_info": {
   "codemirror_mode": {
    "name": "ipython",
    "version": 3
   },
   "file_extension": ".py",
   "mimetype": "text/x-python",
   "name": "python",
   "nbconvert_exporter": "python",
   "pygments_lexer": "ipython3",
   "version": "3.9.21"
  }
 },
 "nbformat": 4,
 "nbformat_minor": 2
}
