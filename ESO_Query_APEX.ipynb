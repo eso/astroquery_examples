{
 "cells": [
  {
   "cell_type": "markdown",
   "id": "b7488247",
   "metadata": {},
   "source": [
    "<hr style=\"border:2px solid #0281c9\"> </hr>\n",
    "\n",
    "<img align=\"left\" alt=\"ESO Logo\" src=\"http://archive.eso.org/i/esologo.png\">  \n",
    "\n",
    "<div align=\"center\">\n",
    "  <h1 style=\"color: #0281c9; font-weight: bold;\">ESO Science Archive</h1> \n",
    "  <h2 style=\"color: #0281c9; font-weight: bold;\">Jupyter Notebooks</h2>\n",
    "</div>\n",
    "\n",
    "<hr style=\"border:2px solid #0281c9\"> </hr>"
   ]
  },
  {
   "cell_type": "markdown",
   "id": "4c59912a",
   "metadata": {},
   "source": [
    "# **Query for APEX Data**\n",
    "\n",
    "This notebook provides an example of how to query the ESO Science Archive for **APEX data**. \n",
    "\n",
    "APEX data are available within the archive and can be queried using any of the standard astroquery methods:  \n",
    "- `eso.query_survey` for **reduced data**  \n",
    "- `eso.query_main` for **raw data**  \n",
    "- `eso.query_instrument` for **raw data**\n",
    "\n",
    "In addition, there is the option to use `eso.query_apex_quicklooks`, which is a dedicated query for retrieving **APEX Quick Look products**.\n",
    "\n",
    "The workflow for APEX data is somewhat different from that of other ESO-operated instruments and telescopes. The **APEX Quick Looks** aim to address some of these differences by providing users with `.tar` files that include additional data outputs — such as diagnostic plots, observing logs, and (in some cases) a reduced version of the dataset. These `.tar` files also include `class` (`.apex`) files that allow users to **re-run the data reduction**, if desired. This is often more useful than working directly with the `.fits` files available in the archive and can be **particularly helpful for heterodyne datasets**. For heterodyne observations, the calibrated `.class` file is typically included, while the corresponding uncalibrated `.fits` files are usually **not needed** and cannot be processed with standard reduction software.\n",
    "\n",
    "The APEX Science Archive provides access to raw observations and associated data products for observations performed with APEX since **July 11, 2005**. The Quick Look products are designed to help users preview and assess the data quality, providing useful summaries that complement the raw observations.\n",
    "\n",
    "This notebook will guide you through a step-by-step workflow to **identify, query, and download** APEX Quick Look data products from the ESO Science Archive.\n",
    "\n",
    "Here, we focus on APEX observations from the [**ALCOHOLS survey**](https://www.eso.org/rm/api/v1/public/releaseDescriptions/199) (12CO(3–2) line emission in the Milky Way) available in the ESO Archive. We will first search for the **reduced ALCOHOLS data products**, then identify the corresponding raw datasets using the **instrument-specific query**. Once the raw data is identified, we can use it to locate and retrieve the **associated APEX Quick Look products**. We follow this workflow because APEX Quick Looks typically require knowledge of the **APEX proposal ID**, which may not always be known in advance — this is **not** the same as the ESO programme ID. If you know your APEX proposal ID (for example, if you are querying your own data), you can search for APEX Quick Look files directly.\n",
    "\n",
    "Note that this workflow is **not specific to the ALCOHOLS survey** and can be used to query APEX Quick Look products for any project.\n",
    "\n",
    "<hr style=\"border:2px solid #0281c9\"> </hr>"
   ]
  },
  {
   "cell_type": "markdown",
   "id": "d48f8ff8",
   "metadata": {},
   "source": [
    "# **Importing and basic usage of astroquery.eso**"
   ]
  },
  {
   "cell_type": "code",
   "execution_count": 1,
   "id": "c0906901",
   "metadata": {},
   "outputs": [
    {
     "name": "stdout",
     "output_type": "stream",
     "text": [
      "astroquery version: 0.4.11.dev10290\n"
     ]
    }
   ],
   "source": [
    "import astroquery # import astroquery\n",
    "print(f\"astroquery version: {astroquery.__version__}\") # check the version of astroquery"
   ]
  },
  {
   "cell_type": "code",
   "execution_count": 2,
   "id": "89b62a6c",
   "metadata": {},
   "outputs": [],
   "source": [
    "from astroquery.eso import Eso # import the ESO module from astroquery"
   ]
  },
  {
   "cell_type": "code",
   "execution_count": 3,
   "id": "b83e5e87",
   "metadata": {},
   "outputs": [],
   "source": [
    "eso = Eso() # create an instance of the ESO class "
   ]
  },
  {
   "cell_type": "markdown",
   "id": "3fc20307",
   "metadata": {},
   "source": [
    "# **Query for Reduced APEX data**\n",
    "\n",
    "We first query for the reduced data from the **ALCOHOLS** survey, and retrieve the proposal ID. \n",
    "\n",
    "Note that multiple proposal IDs may be returned, which would require minor changes to the script to loop through the project."
   ]
  },
  {
   "cell_type": "code",
   "execution_count": 4,
   "id": "ae5f9d8d",
   "metadata": {},
   "outputs": [
    {
     "name": "stdout",
     "output_type": "stream",
     "text": [
      "Proposal ID: 094.C-0935\n"
     ]
    }
   ],
   "source": [
    "table_reduced = eso.query_surveys(\"ALCOHOLS\") # query the ESO archive for the ALCOHOLS survey\n",
    "proposal_id = list(set(table_reduced['proposal_id'])) # extract unique proposal IDs from the query result\n",
    "\n",
    "# Check if we have a single proposal ID or multiple\n",
    "if len(proposal_id) == 1:\n",
    "    proposal_id = proposal_id[0]\n",
    "else:\n",
    "    print(\"Warning: Multiple proposal IDs found...\")\n",
    "\n",
    "proposal_id = proposal_id.split('(')[0] # extract the first part of the proposal ID before any parentheses (i.e. the run ID)\n",
    "print(f\"Proposal ID: {proposal_id}\")"
   ]
  },
  {
   "cell_type": "markdown",
   "id": "9d744dba",
   "metadata": {},
   "source": [
    "# **Query for Raw APEX data**\n",
    "\n",
    "As always, it is good practice to check the available columns to search in the instrument-specific query."
   ]
  },
  {
   "cell_type": "code",
   "execution_count": 6,
   "id": "597f4dfe",
   "metadata": {},
   "outputs": [
    {
     "name": "stdout",
     "output_type": "stream",
     "text": [
      "INFO: \n",
      "Columns present in the table ist.APEX:\n",
      "   column_name    datatype    xtype     unit\n",
      "----------------- -------- ----------- -----\n",
      "   access_estsize     long             kbyte\n",
      "       access_url     char                  \n",
      "             bwid    float               GHz\n",
      "         channels      int                  \n",
      "     datalink_url     char                  \n",
      "         date_obs     char                  \n",
      "              dec   double               deg\n",
      "           dp_cat     char                  \n",
      "            dp_id     char                  \n",
      "          dp_tech     char                  \n",
      "          dp_type     char                  \n",
      "          ecl_lat   double               deg\n",
      "          ecl_lon   double               deg\n",
      "        exp_start     char   timestamp      \n",
      "         exposure    float                 s\n",
      "          exptime    float                 s\n",
      "             febe     char                  \n",
      "             freq    float               GHz\n",
      "          freqres    float                  \n",
      "          gal_lat   double               deg\n",
      "          gal_lon   double               deg\n",
      "       instrument     char                  \n",
      "       lambda_max   double                nm\n",
      "       lambda_min   double                nm\n",
      "    last_mod_date     char   timestamp      \n",
      "             line     char                  \n",
      "              lst    float                 s\n",
      "          mjd_obs   double                 d\n",
      "            npols      int                  \n",
      "            nsubs    short                  \n",
      "            ob_id      int                  \n",
      "           object     char                  \n",
      "observer_initials     char                  \n",
      "   observing_mode     char                  \n",
      "         origfile     char                  \n",
      "           period      int                  \n",
      "           pi_coi     char                  \n",
      "          prog_id     char                  \n",
      "       prog_title     char                  \n",
      "        prog_type     char                  \n",
      "       project_id     char                  \n",
      "               ra   double               deg\n",
      "     release_date     char   timestamp      \n",
      "         restfreq    float                Hz\n",
      "         s_region     char adql:REGION      \n",
      "         scangeom     char                  \n",
      "         scanmode     char                  \n",
      "          scannum      int                  \n",
      "         scantype     char                  \n",
      "          skyfreq    float                Hz\n",
      "     tel_airm_end    float                  \n",
      "   tel_airm_start    float                  \n",
      "          tel_alt    float               deg\n",
      "           tel_az    float               deg\n",
      "        telescope     char                  \n",
      "         wobcycle    float                 s\n",
      "         wobthrow    float               deg\n",
      "          wobused     char                  \n",
      "\n",
      "Number of records present in the table ist.APEX:\n",
      "913029\n",
      " [astroquery.eso.core]\n"
     ]
    }
   ],
   "source": [
    "eso.query_instrument(\"APEX\", help=True) # get help on the query_instrument method"
   ]
  },
  {
   "cell_type": "markdown",
   "id": "e40281ba",
   "metadata": {},
   "source": [
    "We now query for raw data from the APEX instrument, using the proposal ID we retrieved from the previous query.\n",
    "\n",
    "In this case, we know there is only **one** APEX proposal ID, but if there were multiple IDs, we would need to loop through them.\n",
    "\n",
    "**Note:** In the `eso.query_surveys` query, the `\"proposal_id\"` column refers to the **ESO programme ID**. In contrast, in an APEX-specific query using `eso.query_instrument`, the `\"prog_id\"` column also refers to the **ESO programme ID**, **not** the **APEX proposal ID**. The APEX proposal ID is instead found in the `\"project_id\"` column in the `eso.query_instrument` query—this is the value used to identify APEX Quick Look products."
   ]
  },
  {
   "cell_type": "code",
   "execution_count": 7,
   "id": "3d0b056a",
   "metadata": {},
   "outputs": [
    {
     "name": "stdout",
     "output_type": "stream",
     "text": [
      "Project ID: E-094.C-0935A-2014\n"
     ]
    }
   ],
   "source": [
    "table_raw = eso.query_instrument(\"APEX\", column_filters={\"prog_id\": f\"like '{proposal_id}%'\"}) # query the APEX instrument for data related to the proposal ID\n",
    "project_id = list(set(table_raw[\"project_id\"])) # extract unique project IDs from the raw data query\n",
    "project_id = project_id[0] # Assuming we only have one project ID\n",
    "print(f\"Project ID: {project_id}\")"
   ]
  },
  {
   "cell_type": "markdown",
   "id": "8f08969d",
   "metadata": {},
   "source": [
    "# **Query for APEX Quick Look products**\n",
    "\n",
    "As always, we can check the available columns to search in the query."
   ]
  },
  {
   "cell_type": "code",
   "execution_count": 8,
   "id": "8fc11c9d",
   "metadata": {},
   "outputs": [
    {
     "name": "stdout",
     "output_type": "stream",
     "text": [
      "INFO: \n",
      "Columns present in the table ist.apex_quicklooks:\n",
      "  column_name   datatype   xtype    unit\n",
      "--------------- -------- --------- -----\n",
      " access_estsize     long           kbyte\n",
      "     access_url     char                \n",
      "     instrument     char                \n",
      "instrument_type     char                \n",
      "        partner     char                \n",
      "         pi_coi     char                \n",
      "        prog_id     char                \n",
      "     prog_title     char                \n",
      "      prog_type     char                \n",
      "     project_id     char                \n",
      "   quicklook_id     char                \n",
      "   release_date     char timestamp      \n",
      "\n",
      "Number of records present in the table ist.apex_quicklooks:\n",
      "282296\n",
      " [astroquery.eso.core]\n"
     ]
    }
   ],
   "source": [
    "eso.query_apex_quicklooks(help=True) # get help on the query_apex_quicklooks method"
   ]
  },
  {
   "cell_type": "markdown",
   "id": "0b2b9db8",
   "metadata": {},
   "source": [
    "We can now query for the APEX Quick Look products using the APEX proposal ID (``project_id``) we retrieved from the previous query."
   ]
  },
  {
   "cell_type": "code",
   "execution_count": 9,
   "id": "7fabe9c2",
   "metadata": {},
   "outputs": [
    {
     "data": {
      "text/html": [
       "<div><i>Table length=15</i>\n",
       "<table id=\"table5103271072\" class=\"table-striped table-bordered table-condensed\">\n",
       "<thead><tr><th>access_estsize</th><th>access_url</th><th>instrument</th><th>instrument_type</th><th>partner</th><th>pi_coi</th><th>prog_id</th><th>prog_title</th><th>prog_type</th><th>project_id</th><th>quicklook_id</th><th>release_date</th></tr></thead>\n",
       "<thead><tr><th>kbyte</th><th></th><th></th><th></th><th></th><th></th><th></th><th></th><th></th><th></th><th></th><th></th></tr></thead>\n",
       "<thead><tr><th>int64</th><th>object</th><th>object</th><th>object</th><th>object</th><th>object</th><th>object</th><th>object</th><th>object</th><th>object</th><th>object</th><th>object</th></tr></thead>\n",
       "<tr><td>846755</td><td>https://dataportal.eso.org/dataPortal/file/E-094.C-0935A.2014DEC10.TAR</td><td>APEXHET</td><td>Heterodyne</td><td>ESO</td><td>Stanke/ Arce/ Bally/ Bergman/ Carpenter/ Davis/ Dent/ Di Francesco/ Eisloeffel/ Froebrich/ Ginsburg/ Heyer/ Johnstone/ Mardones/ McCaughrean/ Megeath/ Smith/ Nakamura/ Reipurth/ Stutz/ Tatematsu/ Walker/ Williams/ Zinnecker</td><td>094.C-0935(A)</td><td>The APEX Large CO Heterodyne Outflow Legacy Supercam survey of Orion (ALCOHOLS)</td><td>Normal</td><td>E-094.C-0935A-2014</td><td>E-094.C-0935A.2014DEC10.TAR</td><td>2014-12-10T07:05:44.397Z</td></tr>\n",
       "<tr><td>2320209</td><td>https://dataportal.eso.org/dataPortal/file/E-094.C-0935A.2014DEC12.TAR</td><td>APEXHET</td><td>Heterodyne</td><td>ESO</td><td>Stanke/ Arce/ Bally/ Bergman/ Carpenter/ Davis/ Dent/ Di Francesco/ Eisloeffel/ Froebrich/ Ginsburg/ Heyer/ Johnstone/ Mardones/ McCaughrean/ Megeath/ Smith/ Nakamura/ Reipurth/ Stutz/ Tatematsu/ Walker/ Williams/ Zinnecker</td><td>094.C-0935(A)</td><td>The APEX Large CO Heterodyne Outflow Legacy Supercam survey of Orion (ALCOHOLS)</td><td>Normal</td><td>E-094.C-0935A-2014</td><td>E-094.C-0935A.2014DEC12.TAR</td><td>2014-12-12T11:05:59.437Z</td></tr>\n",
       "<tr><td>5445826</td><td>https://dataportal.eso.org/dataPortal/file/E-094.C-0935A.2014DEC13.TAR</td><td>APEXHET</td><td>Heterodyne</td><td>ESO</td><td>Stanke/ Arce/ Bally/ Bergman/ Carpenter/ Davis/ Dent/ Di Francesco/ Eisloeffel/ Froebrich/ Ginsburg/ Heyer/ Johnstone/ Mardones/ McCaughrean/ Megeath/ Smith/ Nakamura/ Reipurth/ Stutz/ Tatematsu/ Walker/ Williams/ Zinnecker</td><td>094.C-0935(A)</td><td>The APEX Large CO Heterodyne Outflow Legacy Supercam survey of Orion (ALCOHOLS)</td><td>Normal</td><td>E-094.C-0935A-2014</td><td>E-094.C-0935A.2014DEC13.TAR</td><td>2015-02-20T19:15:36.383Z</td></tr>\n",
       "<tr><td>1422233</td><td>https://dataportal.eso.org/dataPortal/file/E-094.C-0935A.2014DEC15.TAR</td><td>APEXHET</td><td>Heterodyne</td><td>ESO</td><td>Stanke/ Arce/ Bally/ Bergman/ Carpenter/ Davis/ Dent/ Di Francesco/ Eisloeffel/ Froebrich/ Ginsburg/ Heyer/ Johnstone/ Mardones/ McCaughrean/ Megeath/ Smith/ Nakamura/ Reipurth/ Stutz/ Tatematsu/ Walker/ Williams/ Zinnecker</td><td>094.C-0935(A)</td><td>The APEX Large CO Heterodyne Outflow Legacy Supercam survey of Orion (ALCOHOLS)</td><td>Normal</td><td>E-094.C-0935A-2014</td><td>E-094.C-0935A.2014DEC15.TAR</td><td>2014-12-16T03:23:27.983Z</td></tr>\n",
       "<tr><td>3697756</td><td>https://dataportal.eso.org/dataPortal/file/E-094.C-0935A.2014DEC18.TAR</td><td>APEXHET</td><td>Heterodyne</td><td>ESO</td><td>Stanke/ Arce/ Bally/ Bergman/ Carpenter/ Davis/ Dent/ Di Francesco/ Eisloeffel/ Froebrich/ Ginsburg/ Heyer/ Johnstone/ Mardones/ McCaughrean/ Megeath/ Smith/ Nakamura/ Reipurth/ Stutz/ Tatematsu/ Walker/ Williams/ Zinnecker</td><td>094.C-0935(A)</td><td>The APEX Large CO Heterodyne Outflow Legacy Supercam survey of Orion (ALCOHOLS)</td><td>Normal</td><td>E-094.C-0935A-2014</td><td>E-094.C-0935A.2014DEC18.TAR</td><td>2014-12-19T07:06:12.783Z</td></tr>\n",
       "<tr><td>5670748</td><td>https://dataportal.eso.org/dataPortal/file/E-094.C-0935A.2014DEC20.TAR</td><td>APEXHET</td><td>Heterodyne</td><td>ESO</td><td>Stanke/ Arce/ Bally/ Bergman/ Carpenter/ Davis/ Dent/ Di Francesco/ Eisloeffel/ Froebrich/ Ginsburg/ Heyer/ Johnstone/ Mardones/ McCaughrean/ Megeath/ Smith/ Nakamura/ Reipurth/ Stutz/ Tatematsu/ Walker/ Williams/ Zinnecker</td><td>094.C-0935(A)</td><td>The APEX Large CO Heterodyne Outflow Legacy Supercam survey of Orion (ALCOHOLS)</td><td>Normal</td><td>E-094.C-0935A-2014</td><td>E-094.C-0935A.2014DEC20.TAR</td><td>2014-12-21T12:15:47.673Z</td></tr>\n",
       "<tr><td>3864688</td><td>https://dataportal.eso.org/dataPortal/file/E-094.C-0935A.2014DEC21.TAR</td><td>APEXHET</td><td>Heterodyne</td><td>ESO</td><td>Stanke/ Arce/ Bally/ Bergman/ Carpenter/ Davis/ Dent/ Di Francesco/ Eisloeffel/ Froebrich/ Ginsburg/ Heyer/ Johnstone/ Mardones/ McCaughrean/ Megeath/ Smith/ Nakamura/ Reipurth/ Stutz/ Tatematsu/ Walker/ Williams/ Zinnecker</td><td>094.C-0935(A)</td><td>The APEX Large CO Heterodyne Outflow Legacy Supercam survey of Orion (ALCOHOLS)</td><td>Normal</td><td>E-094.C-0935A-2014</td><td>E-094.C-0935A.2014DEC21.TAR</td><td>2014-12-22T15:05:24.027Z</td></tr>\n",
       "<tr><td>5081784</td><td>https://dataportal.eso.org/dataPortal/file/E-094.C-0935A.2014DEC22.TAR</td><td>APEXHET</td><td>Heterodyne</td><td>ESO</td><td>Stanke/ Arce/ Bally/ Bergman/ Carpenter/ Davis/ Dent/ Di Francesco/ Eisloeffel/ Froebrich/ Ginsburg/ Heyer/ Johnstone/ Mardones/ McCaughrean/ Megeath/ Smith/ Nakamura/ Reipurth/ Stutz/ Tatematsu/ Walker/ Williams/ Zinnecker</td><td>094.C-0935(A)</td><td>The APEX Large CO Heterodyne Outflow Legacy Supercam survey of Orion (ALCOHOLS)</td><td>Normal</td><td>E-094.C-0935A-2014</td><td>E-094.C-0935A.2014DEC22.TAR</td><td>2014-12-23T13:55:07.200Z</td></tr>\n",
       "<tr><td>3305205</td><td>https://dataportal.eso.org/dataPortal/file/E-094.C-0935A.2014DEC23.TAR</td><td>APEXHET</td><td>Heterodyne</td><td>ESO</td><td>Stanke/ Arce/ Bally/ Bergman/ Carpenter/ Davis/ Dent/ Di Francesco/ Eisloeffel/ Froebrich/ Ginsburg/ Heyer/ Johnstone/ Mardones/ McCaughrean/ Megeath/ Smith/ Nakamura/ Reipurth/ Stutz/ Tatematsu/ Walker/ Williams/ Zinnecker</td><td>094.C-0935(A)</td><td>The APEX Large CO Heterodyne Outflow Legacy Supercam survey of Orion (ALCOHOLS)</td><td>Normal</td><td>E-094.C-0935A-2014</td><td>E-094.C-0935A.2014DEC23.TAR</td><td>2014-12-24T11:36:59.103Z</td></tr>\n",
       "<tr><td>4486256</td><td>https://dataportal.eso.org/dataPortal/file/E-094.C-0935A.2014DEC24.TAR</td><td>APEXHET</td><td>Heterodyne</td><td>ESO</td><td>Stanke/ Arce/ Bally/ Bergman/ Carpenter/ Davis/ Dent/ Di Francesco/ Eisloeffel/ Froebrich/ Ginsburg/ Heyer/ Johnstone/ Mardones/ McCaughrean/ Megeath/ Smith/ Nakamura/ Reipurth/ Stutz/ Tatematsu/ Walker/ Williams/ Zinnecker</td><td>094.C-0935(A)</td><td>The APEX Large CO Heterodyne Outflow Legacy Supercam survey of Orion (ALCOHOLS)</td><td>Normal</td><td>E-094.C-0935A-2014</td><td>E-094.C-0935A.2014DEC24.TAR</td><td>2014-12-25T08:06:06.520Z</td></tr>\n",
       "<tr><td>3245895</td><td>https://dataportal.eso.org/dataPortal/file/E-094.C-0935A.2014DEC25.TAR</td><td>APEXHET</td><td>Heterodyne</td><td>ESO</td><td>Stanke/ Arce/ Bally/ Bergman/ Carpenter/ Davis/ Dent/ Di Francesco/ Eisloeffel/ Froebrich/ Ginsburg/ Heyer/ Johnstone/ Mardones/ McCaughrean/ Megeath/ Smith/ Nakamura/ Reipurth/ Stutz/ Tatematsu/ Walker/ Williams/ Zinnecker</td><td>094.C-0935(A)</td><td>The APEX Large CO Heterodyne Outflow Legacy Supercam survey of Orion (ALCOHOLS)</td><td>Normal</td><td>E-094.C-0935A-2014</td><td>E-094.C-0935A.2014DEC25.TAR</td><td>2014-12-26T04:06:21.597Z</td></tr>\n",
       "<tr><td>5781278</td><td>https://dataportal.eso.org/dataPortal/file/E-094.C-0935A.2014DEC26.TAR</td><td>APEXHET</td><td>Heterodyne</td><td>ESO</td><td>Stanke/ Arce/ Bally/ Bergman/ Carpenter/ Davis/ Dent/ Di Francesco/ Eisloeffel/ Froebrich/ Ginsburg/ Heyer/ Johnstone/ Mardones/ McCaughrean/ Megeath/ Smith/ Nakamura/ Reipurth/ Stutz/ Tatematsu/ Walker/ Williams/ Zinnecker</td><td>094.C-0935(A)</td><td>The APEX Large CO Heterodyne Outflow Legacy Supercam survey of Orion (ALCOHOLS)</td><td>Normal</td><td>E-094.C-0935A-2014</td><td>E-094.C-0935A.2014DEC26.TAR</td><td>2014-12-27T08:06:28.730Z</td></tr>\n",
       "<tr><td>6389</td><td>https://dataportal.eso.org/dataPortal/file/E-094.C-0935A.2015APR26.TAR</td><td>APEXHET</td><td>Heterodyne</td><td>ESO</td><td>Stanke/ Arce/ Bally/ Bergman/ Carpenter/ Davis/ Dent/ Di Francesco/ Eisloeffel/ Froebrich/ Ginsburg/ Heyer/ Johnstone/ Mardones/ McCaughrean/ Megeath/ Smith/ Nakamura/ Reipurth/ Stutz/ Tatematsu/ Walker/ Williams/ Zinnecker</td><td>094.C-0935(A)</td><td>The APEX Large CO Heterodyne Outflow Legacy Supercam survey of Orion (ALCOHOLS)</td><td>Normal</td><td>E-094.C-0935A-2014</td><td>E-094.C-0935A.2015APR26.TAR</td><td>2015-04-25T18:41:53.900Z</td></tr>\n",
       "<tr><td>40963041</td><td>https://dataportal.eso.org/dataPortal/file/E-094.C-0935A.2015AUG07.TAR</td><td>APEXHET</td><td>Heterodyne</td><td>ESO</td><td>Stanke/ Arce/ Bally/ Bergman/ Carpenter/ Davis/ Dent/ Di Francesco/ Eisloeffel/ Froebrich/ Ginsburg/ Heyer/ Johnstone/ Mardones/ McCaughrean/ Megeath/ Smith/ Nakamura/ Reipurth/ Stutz/ Tatematsu/ Walker/ Williams/ Zinnecker</td><td>094.C-0935(A)</td><td>The APEX Large CO Heterodyne Outflow Legacy Supercam survey of Orion (ALCOHOLS)</td><td>Normal</td><td>E-094.C-0935A-2014</td><td>E-094.C-0935A.2015AUG07.TAR</td><td>2015-04-25T18:41:53.900Z</td></tr>\n",
       "<tr><td>6389</td><td>https://dataportal.eso.org/dataPortal/file/E-094.C-0935A.2015AUG22.TAR</td><td>APEXHET</td><td>Heterodyne</td><td>ESO</td><td>Stanke/ Arce/ Bally/ Bergman/ Carpenter/ Davis/ Dent/ Di Francesco/ Eisloeffel/ Froebrich/ Ginsburg/ Heyer/ Johnstone/ Mardones/ McCaughrean/ Megeath/ Smith/ Nakamura/ Reipurth/ Stutz/ Tatematsu/ Walker/ Williams/ Zinnecker</td><td>094.C-0935(A)</td><td>The APEX Large CO Heterodyne Outflow Legacy Supercam survey of Orion (ALCOHOLS)</td><td>Normal</td><td>E-094.C-0935A-2014</td><td>E-094.C-0935A.2015AUG22.TAR</td><td>2015-04-25T18:41:53.900Z</td></tr>\n",
       "</table></div>"
      ],
      "text/plain": [
       "<Table length=15>\n",
       "access_estsize ...       release_date      \n",
       "    kbyte      ...                         \n",
       "    int64      ...          object         \n",
       "-------------- ... ------------------------\n",
       "        846755 ... 2014-12-10T07:05:44.397Z\n",
       "       2320209 ... 2014-12-12T11:05:59.437Z\n",
       "       5445826 ... 2015-02-20T19:15:36.383Z\n",
       "       1422233 ... 2014-12-16T03:23:27.983Z\n",
       "       3697756 ... 2014-12-19T07:06:12.783Z\n",
       "       5670748 ... 2014-12-21T12:15:47.673Z\n",
       "       3864688 ... 2014-12-22T15:05:24.027Z\n",
       "       5081784 ... 2014-12-23T13:55:07.200Z\n",
       "       3305205 ... 2014-12-24T11:36:59.103Z\n",
       "       4486256 ... 2014-12-25T08:06:06.520Z\n",
       "       3245895 ... 2014-12-26T04:06:21.597Z\n",
       "       5781278 ... 2014-12-27T08:06:28.730Z\n",
       "          6389 ... 2015-04-25T18:41:53.900Z\n",
       "      40963041 ... 2015-04-25T18:41:53.900Z\n",
       "          6389 ... 2015-04-25T18:41:53.900Z"
      ]
     },
     "execution_count": 9,
     "metadata": {},
     "output_type": "execute_result"
    }
   ],
   "source": [
    "table_quicklooks = eso.query_apex_quicklooks(project_id) # query the APEX quicklooks for the project ID\n",
    "table_quicklooks  # print the quicklook table"
   ]
  },
  {
   "cell_type": "markdown",
   "id": "6067a10c",
   "metadata": {},
   "source": [
    "As can be seen from the output above, there is one APEX Quick Look product available per UT date, per APEX proposal ID. \n",
    "\n",
    "Also note that the APEX Quick Look products are available in `.tar` (`.TAR`) format, which can be downloaded and extracted (see below). "
   ]
  },
  {
   "cell_type": "markdown",
   "id": "0d9dbbe8",
   "metadata": {},
   "source": [
    "## **Download APEX Quick Look products**\n",
    "\n",
    "Finally, we can download the APEX Quick Look products using the `eso.retrieve_data` function."
   ]
  },
  {
   "cell_type": "code",
   "execution_count": 10,
   "id": "73ffb5dd",
   "metadata": {},
   "outputs": [
    {
     "name": "stdout",
     "output_type": "stream",
     "text": [
      "INFO: Downloading datasets ... [astroquery.eso.core]\n",
      "INFO: Downloading 1 files ... [astroquery.eso.core]\n",
      "INFO: Downloading file 1/1 https://dataportal.eso.org/dataPortal/file/E-094.C-0935A.2014DEC10.TAR to /Users/abarnes/.astropy/cache/astroquery/Eso [astroquery.eso.core]\n",
      "INFO: Found cached file /Users/abarnes/.astropy/cache/astroquery/Eso/E-094.C-0935A.2014DEC10.TAR [astroquery.eso.core]\n",
      "INFO: Done! [astroquery.eso.core]\n"
     ]
    },
    {
     "data": {
      "text/plain": [
       "'/Users/abarnes/.astropy/cache/astroquery/Eso/E-094.C-0935A.2014DEC10.TAR'"
      ]
     },
     "execution_count": 10,
     "metadata": {},
     "output_type": "execute_result"
    }
   ],
   "source": [
    "eso.retrieve_data(table_quicklooks[0][\"quicklook_id\"])  # download the first quicklook data file"
   ]
  }
 ],
 "metadata": {
  "kernelspec": {
   "display_name": "tst",
   "language": "python",
   "name": "python3"
  },
  "language_info": {
   "codemirror_mode": {
    "name": "ipython",
    "version": 3
   },
   "file_extension": ".py",
   "mimetype": "text/x-python",
   "name": "python",
   "nbconvert_exporter": "python",
   "pygments_lexer": "ipython3",
   "version": "3.9.18"
  }
 },
 "nbformat": 4,
 "nbformat_minor": 5
}
