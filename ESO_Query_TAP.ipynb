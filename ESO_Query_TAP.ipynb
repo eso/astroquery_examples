{
 "cells": [
  {
   "cell_type": "markdown",
   "id": "6678a4ff",
   "metadata": {},
   "source": [
    "<hr style=\"border:2px solid #0281c9\"> </hr>\n",
    "\n",
    "<img align=\"left\" alt=\"ESO Logo\" src=\"http://archive.eso.org/i/esologo.png\">  \n",
    "\n",
    "<div align=\"center\">\n",
    "  <h1 style=\"color: #0281c9; font-weight: bold;\">ESO Science Archive</h1> \n",
    "  <h2 style=\"color: #0281c9; font-weight: bold;\">Jupyter Notebooks</h2>\n",
    "</div>\n",
    "\n",
    "<hr style=\"border:2px solid #0281c9\"> </hr>"
   ]
  },
  {
   "cell_type": "markdown",
   "id": "50f924c8",
   "metadata": {},
   "source": [
    "# **Query using TAP**\n",
    "\n",
    "The ESO TAP service allows you to issue custom ADQL (Astronomical Data Query Language) queries against the archive metadata, offering fine-grained control over your search. TAP queries can be issued against different tables, depending on the type of data you’re interested in:\n",
    "\n",
    "* The `ivoa.ObsCore` table provides standardized metadata for fully calibrated (Phase 3) data products.\n",
    "* The `dbo.raw` table provides access to raw observational data across all ESO instruments.\n",
    "* The `ist.<instrument_name>` tables (e.g. `ist.midi`, `ist.muse`) allow more detailed queries tailored to instrument-specific raw metadata.\n",
    "\n",
    "<hr style=\"border:2px solid #0281c9\"> </hr>"
   ]
  },
  {
   "cell_type": "markdown",
   "id": "000a7de5",
   "metadata": {},
   "source": [
    "# **Importing and basic usage of astroquery.eso**"
   ]
  },
  {
   "cell_type": "code",
   "execution_count": 1,
   "id": "04c49462",
   "metadata": {},
   "outputs": [
    {
     "name": "stdout",
     "output_type": "stream",
     "text": [
      "astroquery version: 0.4.11.dev10290\n"
     ]
    }
   ],
   "source": [
    "import astroquery # import astroquery\n",
    "print(f\"astroquery version: {astroquery.__version__}\") # check the version of astroquery"
   ]
  },
  {
   "cell_type": "code",
   "execution_count": 2,
   "id": "a19b15a9",
   "metadata": {},
   "outputs": [],
   "source": [
    "from astroquery.eso import Eso # import the ESO module from astroquery"
   ]
  },
  {
   "cell_type": "code",
   "execution_count": 3,
   "id": "98992954",
   "metadata": {},
   "outputs": [],
   "source": [
    "eso = Eso() # create an instance of the ESO class "
   ]
  },
  {
   "cell_type": "markdown",
   "id": "44eaa97d",
   "metadata": {},
   "source": [
    "# **Query the ESO Archive using the TAP Service**"
   ]
  },
  {
   "cell_type": "markdown",
   "id": "7e486cdc",
   "metadata": {},
   "source": [
    "## **Reduced data search (ivoa.ObsCore)**"
   ]
  },
  {
   "cell_type": "markdown",
   "id": "a8a3b91b",
   "metadata": {},
   "source": [
    "This example demonstrates how to use `astroquery.eso` to search the `VEGAS` (VST Early-type GAlaxieS Survey) collection for fully reduced, science-ready imaging data of bright galaxies from the NGC catalog. By filtering for Phase 3 calibrated products with fine spatial resolution, this query retrieves recent deep optical images well-suited for studying the structure and low-surface-brightness features of nearby early-type galaxies."
   ]
  },
  {
   "cell_type": "code",
   "execution_count": 5,
   "id": "6b38b24c",
   "metadata": {},
   "outputs": [
    {
     "data": {
      "text/html": [
       "<div><i>Table length=5</i>\n",
       "<table id=\"table5355345136\" class=\"table-striped table-bordered table-condensed\">\n",
       "<thead><tr><th>target_name</th><th>s_ra</th><th>s_dec</th><th>instrument_name</th><th>dataproduct_type</th><th>s_pixel_scale</th><th>dp_id</th></tr></thead>\n",
       "<thead><tr><th></th><th>deg</th><th>deg</th><th></th><th></th><th>arcsec</th><th></th></tr></thead>\n",
       "<thead><tr><th>object</th><th>float64</th><th>float64</th><th>object</th><th>object</th><th>float64</th><th>object</th></tr></thead>\n",
       "<tr><td>ngc1533</td><td>62.389416</td><td>-56.114055</td><td>OMEGACAM</td><td>image</td><td>0.21</td><td>ADP.2021-02-01T14:04:33.669</td></tr>\n",
       "<tr><td>ngc1533</td><td>62.444166</td><td>-56.100777</td><td>OMEGACAM</td><td>image</td><td>0.21</td><td>ADP.2021-02-01T14:04:33.667</td></tr>\n",
       "<tr><td>ngc5018</td><td>197.876458</td><td>-19.336277</td><td>OMEGACAM</td><td>image</td><td>0.2099</td><td>ADP.2021-02-01T14:04:33.675</td></tr>\n",
       "<tr><td>ngc3379</td><td>161.513666</td><td>12.642055</td><td>OMEGACAM</td><td>image</td><td>0.2099</td><td>ADP.2021-02-01T14:04:33.679</td></tr>\n",
       "<tr><td>ngc5018</td><td>197.876458</td><td>-19.336277</td><td>OMEGACAM</td><td>image</td><td>0.2099</td><td>ADP.2021-02-01T14:04:33.673</td></tr>\n",
       "</table></div>"
      ],
      "text/plain": [
       "<Table length=5>\n",
       "target_name    s_ra      s_dec    ... s_pixel_scale            dp_id           \n",
       "               deg        deg     ...     arcsec                               \n",
       "   object    float64    float64   ...    float64               object          \n",
       "----------- ---------- ---------- ... ------------- ---------------------------\n",
       "    ngc1533  62.389416 -56.114055 ...          0.21 ADP.2021-02-01T14:04:33.669\n",
       "    ngc1533  62.444166 -56.100777 ...          0.21 ADP.2021-02-01T14:04:33.667\n",
       "    ngc5018 197.876458 -19.336277 ...        0.2099 ADP.2021-02-01T14:04:33.675\n",
       "    ngc3379 161.513666  12.642055 ...        0.2099 ADP.2021-02-01T14:04:33.679\n",
       "    ngc5018 197.876458 -19.336277 ...        0.2099 ADP.2021-02-01T14:04:33.673"
      ]
     },
     "execution_count": 5,
     "metadata": {},
     "output_type": "execute_result"
    }
   ],
   "source": [
    "adql_query = \"\"\"\n",
    "            SELECT TOP 30 target_name, s_ra, s_dec, instrument_name, \n",
    "                obs_collection, dataproduct_type, s_pixel_scale, \n",
    "                calib_level, t_min, proposal_id, dp_id\n",
    "            FROM ivoa.ObsCore\n",
    "            WHERE obs_collection = 'vegas'\n",
    "                AND calib_level = 3\n",
    "                AND dataproduct_type = 'image'\n",
    "                AND s_pixel_scale < 0.4\n",
    "                AND target_name LIKE 'NGC%'\n",
    "            ORDER BY t_min DESC\n",
    "            \"\"\"\n",
    "\n",
    "table = eso.query_tap_service(adql_query)\n",
    "table[\"target_name\", \"s_ra\", \"s_dec\", \"instrument_name\", \"dataproduct_type\", \"s_pixel_scale\", \"dp_id\"][:5]"
   ]
  },
  {
   "cell_type": "markdown",
   "id": "e0d5391f",
   "metadata": {},
   "source": [
    "## **Raw data search**"
   ]
  },
  {
   "cell_type": "markdown",
   "id": "03230acf",
   "metadata": {},
   "source": [
    "This example demonstrates how to use `astroquery.eso` to search for **raw narrow-band imaging data** around the Hα line (656.3 nm) for the galaxy **NGC 3627**. The query filters for science exposures within a 0.1-degree radius of the galaxy's coordinates, selects only observations with a narrow spectral band that includes Hα, and excludes broadband filters by requiring the filter width to be less than 20 nm. This approach is useful for identifying candidate raw frames suitable for star formation or ionized gas studies in nearby galaxies. The result returns key metadata such as object name, position, instrument, exposure time, and access URLs for download."
   ]
  },
  {
   "cell_type": "code",
   "execution_count": null,
   "id": "c1da52c2",
   "metadata": {},
   "outputs": [
    {
     "data": {
      "text/html": [
       "<div><i>Table length=5</i>\n",
       "<table id=\"table5613787504\" class=\"table-striped table-bordered table-condensed\">\n",
       "<thead><tr><th>object</th><th>ra</th><th>dec</th><th>instrument</th><th>exposure</th><th>tel_ambi_fwhm_start</th><th>date_obs</th><th>prog_id</th><th>dp_id</th><th>access_url</th></tr></thead>\n",
       "<thead><tr><th></th><th>deg</th><th>deg</th><th></th><th>s</th><th>arcsec</th><th></th><th></th><th></th><th></th></tr></thead>\n",
       "<thead><tr><th>object</th><th>float64</th><th>float64</th><th>object</th><th>float32</th><th>float32</th><th>object</th><th>object</th><th>object</th><th>object</th></tr></thead>\n",
       "<tr><td>NGC-3627</td><td>170.06142694</td><td>12.99157</td><td>WFI</td><td>89.917</td><td>0.68</td><td>2019-02-08T07:03:09.793</td><td>0102.A-9002(A)</td><td>WFI.2019-02-08T07:03:09.793</td><td>https://dataportal.eso.org/dataPortal/file/WFI.2019-02-08T07:03:09.793</td></tr>\n",
       "<tr><td>NGC-3627</td><td>169.97285888</td><td>12.95482</td><td>WFI</td><td>89.917</td><td>0.68</td><td>2019-02-08T07:12:44.346</td><td>0102.A-9002(A)</td><td>WFI.2019-02-08T07:12:44.347</td><td>https://dataportal.eso.org/dataPortal/file/WFI.2019-02-08T07:12:44.347</td></tr>\n",
       "<tr><td>NGC-3627</td><td>169.98158694</td><td>12.96159</td><td>WFI</td><td>89.917</td><td>0.68</td><td>2019-02-08T07:15:41.075</td><td>0102.A-9002(A)</td><td>WFI.2019-02-08T07:15:41.076</td><td>https://dataportal.eso.org/dataPortal/file/WFI.2019-02-08T07:15:41.076</td></tr>\n",
       "<tr><td>NGC-3627</td><td>169.97238111</td><td>12.955</td><td>WFI</td><td>359.917</td><td>0.68</td><td>2019-02-08T07:18:33.565</td><td>0102.A-9002(A)</td><td>WFI.2019-02-08T07:18:33.565</td><td>https://dataportal.eso.org/dataPortal/file/WFI.2019-02-08T07:18:33.565</td></tr>\n",
       "<tr><td>NGC-3627</td><td>169.98128888</td><td>12.96175</td><td>WFI</td><td>359.917</td><td>0.68</td><td>2019-02-08T07:25:59.174</td><td>0102.A-9002(A)</td><td>WFI.2019-02-08T07:25:59.174</td><td>https://dataportal.eso.org/dataPortal/file/WFI.2019-02-08T07:25:59.174</td></tr>\n",
       "</table></div>"
      ],
      "text/plain": [
       "<Table length=5>\n",
       " object  ...\n",
       "         ...\n",
       " object  ...\n",
       "-------- ...\n",
       "NGC-3627 ...\n",
       "NGC-3627 ...\n",
       "NGC-3627 ...\n",
       "NGC-3627 ...\n",
       "NGC-3627 ..."
      ]
     },
     "execution_count": 8,
     "metadata": {},
     "output_type": "execute_result"
    }
   ],
   "source": [
    "adql_query = \"\"\"\n",
    "            SELECT *\n",
    "            FROM dbo.raw\n",
    "            WHERE dp_cat = 'SCIENCE'\n",
    "                AND 1 = INTERSECTS(s_region, CIRCLE('', 170.0626, 12.9915, 0.1))  -- defining a cone of 0.1 deg radius around NGC 3627\n",
    "                AND lambda_min < 656 \n",
    "                AND lambda_max > 656                                -- Ensure Hα falls in the filter bandpass\n",
    "                AND lambda_max - lambda_min < 20                    -- Narrow-band filter (~< 20 nm)\n",
    "            ORDER BY mjd_obs\n",
    "            \"\"\"\n",
    "\n",
    "table = eso.query_tap_service(adql_query)\n",
    "table[\"object\", \"ra\", \"dec\", \"instrument\", \"exposure\", \"tel_ambi_fwhm_start\", \"date_obs\", \"prog_id\", \"dp_id\", \"access_url\"][:5]"
   ]
  },
  {
   "cell_type": "markdown",
   "id": "99821c70",
   "metadata": {},
   "source": [
    "It is always useful to check which columns are available when querying instrument-specific tables, as they differ from `dbo.raw` and can vary between instruments (i.e. differnt `ist.` tables). This can be done within astroquery as follows. "
   ]
  },
  {
   "cell_type": "markdown",
   "id": "58686754",
   "metadata": {},
   "source": [
    "**Note:** For more information about the TAP and how to write ADQL queries, refer to the following resources:\n",
    "\n",
    "* ESO TAP+ documentation: Describes ESO’s implementation of TAP and the available services.\n",
    "* IVOA TAP standard: The official specification from the International Virtual Observatory Alliance.\n",
    "* ADQL specification: Defines the query language used to interact with TAP service"
   ]
  },
  {
   "cell_type": "markdown",
   "id": "c598752c",
   "metadata": {},
   "source": [
    "<hr style=\"border:2px solid #0281c9\"> </hr>"
   ]
  }
 ],
 "metadata": {
  "kernelspec": {
   "display_name": "tst",
   "language": "python",
   "name": "python3"
  },
  "language_info": {
   "codemirror_mode": {
    "name": "ipython",
    "version": 3
   },
   "file_extension": ".py",
   "mimetype": "text/x-python",
   "name": "python",
   "nbconvert_exporter": "python",
   "pygments_lexer": "ipython3",
   "version": "3.9.21"
  }
 },
 "nbformat": 4,
 "nbformat_minor": 5
}
