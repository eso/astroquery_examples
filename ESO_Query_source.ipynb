{
 "cells": [
  {
   "cell_type": "markdown",
   "metadata": {},
   "source": [
    "<hr style=\"border:2px solid #0281c9\"> </hr>\n",
    "\n",
    "<img align=\"left\" alt=\"ESO Logo\" src=\"http://archive.eso.org/i/esologo.png\">  \n",
    "\n",
    "<div align=\"center\">\n",
    "  <h1 style=\"color: #0281c9; font-weight: bold;\">ESO Science Archive</h1> \n",
    "  <h2 style=\"color: #0281c9; font-weight: bold;\">Jupyter Notebooks</h2>\n",
    "</div>\n",
    "\n",
    "<hr style=\"border:2px solid #0281c9\"> </hr>"
   ]
  },
  {
   "cell_type": "markdown",
   "metadata": {},
   "source": [
    "# **Query by Source Name or Position**\n",
    "\n",
    "This notebook demonstrates how to use the `astroquery.eso` module to search for and download raw and reduced HAWK-I near-infrared observations from the ESO archive, specifically targeting Sgr A*, the supermassive black hole at the center of the Milky Way. It guides users through querying both the main ESO archive table and instrument-specific tables, filtering results based on observation parameters, and retrieving raw, unprocessed data for further calibration and analysis, enabling direct access to ESO’s extensive collection of observational datasets.\n",
    "\n",
    "<hr style=\"border:2px solid #0281c9\"> </hr>"
   ]
  },
  {
   "cell_type": "markdown",
   "metadata": {},
   "source": [
    "# **Importing and basic usage of astroquery.eso**"
   ]
  },
  {
   "cell_type": "code",
   "execution_count": 1,
   "metadata": {},
   "outputs": [
    {
     "name": "stdout",
     "output_type": "stream",
     "text": [
      "astroquery version: 0.4.11.dev10290\n"
     ]
    }
   ],
   "source": [
    "import astroquery # import astroquery\n",
    "print(f\"astroquery version: {astroquery.__version__}\") # check the version of astroquery"
   ]
  },
  {
   "cell_type": "code",
   "execution_count": 2,
   "metadata": {},
   "outputs": [],
   "source": [
    "from astroquery.eso import Eso # import the ESO module from astroquery"
   ]
  },
  {
   "cell_type": "code",
   "execution_count": 3,
   "metadata": {},
   "outputs": [],
   "source": [
    "eso = Eso() # create an instance of the ESO class "
   ]
  },
  {
   "cell_type": "markdown",
   "metadata": {},
   "source": [
    "# **Performing a Small Cone Search Around Sgr A***\n",
    "\n",
    "To perform a small cone search of **10 arcseconds** around the source **Sgr A**, we first need to resolve the source name to obtain its **Right Ascension (RA)** and **Declination (Dec)** coordinates. This can be done using an online name resolver such as the ``SkyCoord.from_name()`` method from astropy.coordinates, which allows us to resolve object names into precise RA/Dec coordinates using online astronomical databases. This gives (ICRS): \n",
    "\n",
    "```python\n",
    "ra = 266.41681663\n",
    "dec = -29.00782497\n",
    "```\n",
    "\n",
    "In coordinate values of degrees in the ICRS (International Celestial Reference System) frame."
   ]
  },
  {
   "cell_type": "code",
   "execution_count": 4,
   "metadata": {},
   "outputs": [],
   "source": [
    "from astropy.coordinates import SkyCoord # import the SkyCoord class from the astropy.coordinates module\n",
    "import astropy.units as u # import the astropy.units module"
   ]
  },
  {
   "cell_type": "code",
   "execution_count": 6,
   "metadata": {},
   "outputs": [
    {
     "name": "stdout",
     "output_type": "stream",
     "text": [
      "Coordinates of Sgr A*: <SkyCoord (ICRS): (ra, dec) in deg\n",
      "    (266.41681663, -29.00782497)>\n"
     ]
    }
   ],
   "source": [
    "target = \"Sgr A*\" # set the target to Sgr A*\n",
    "coords = SkyCoord.from_name(target) # create a SkyCoord object from the name of the source \n",
    "radius = 3 *u.arcmin # set the radius of the search to 3 arcminutes\n",
    "\n",
    "print(f\"Coordinates of Sgr A*: {coords}\") # print the coordinates of Sgr A*"
   ]
  },
  {
   "cell_type": "code",
   "execution_count": 7,
   "metadata": {},
   "outputs": [],
   "source": [
    "eso.maxrec = 3    # For this example we limit the number of records to 3"
   ]
  },
  {
   "cell_type": "markdown",
   "metadata": {},
   "source": [
    "## **Reduced data cone search**"
   ]
  },
  {
   "cell_type": "code",
   "execution_count": null,
   "metadata": {},
   "outputs": [
    {
     "data": {
      "text/html": [
       "<div><i>Table length=3</i>\n",
       "<table id=\"table5440011808\" class=\"table-striped table-bordered table-condensed\">\n",
       "<thead><tr><th>target_name</th><th>s_ra</th><th>s_dec</th><th>proposal_id</th><th>instrument_name</th><th>dp_id</th></tr></thead>\n",
       "<thead><tr><th></th><th>deg</th><th>deg</th><th></th><th></th><th></th></tr></thead>\n",
       "<thead><tr><th>object</th><th>float64</th><th>float64</th><th>object</th><th>object</th><th>object</th></tr></thead>\n",
       "<tr><td>GCRT</td><td>266.306198</td><td>-30.136131</td><td>381.C-0186(A)</td><td>HAWKI</td><td>ADP.2016-07-26T11:56:15.302</td></tr>\n",
       "<tr><td>GCRT</td><td>266.306022</td><td>-30.136066</td><td>381.C-0186(A)</td><td>HAWKI</td><td>ADP.2016-07-26T11:56:15.324</td></tr>\n",
       "<tr><td>GCRT</td><td>266.306022</td><td>-30.136066</td><td>381.C-0186(A)</td><td>HAWKI</td><td>ADP.2016-07-26T11:56:15.335</td></tr>\n",
       "</table></div>"
      ],
      "text/plain": [
       "<Table length=3>\n",
       "target_name    s_ra    ... instrument_name            dp_id           \n",
       "               deg     ...                                            \n",
       "   object    float64   ...      object                object          \n",
       "----------- ---------- ... --------------- ---------------------------\n",
       "       GCRT 266.306198 ...           HAWKI ADP.2016-07-26T11:56:15.302\n",
       "       GCRT 266.306022 ...           HAWKI ADP.2016-07-26T11:56:15.324\n",
       "       GCRT 266.306022 ...           HAWKI ADP.2016-07-26T11:56:15.335"
      ]
     },
     "execution_count": 9,
     "metadata": {},
     "output_type": "execute_result"
    }
   ],
   "source": [
    "table_reduced = eso.query_surveys(column_filters={\"instrument_name\": \"HAWKI\"},\n",
    "                                cone_ra=coords.ra.value, \n",
    "                                cone_dec=coords.dec.value, \n",
    "                                cone_radius=radius.to(\"deg\").value) # query the ESO archive for HAWKI data\n",
    "\n",
    "table_reduced[\"target_name\", \"s_ra\", \"s_dec\", \"proposal_id\", \"instrument_name\", \"dp_id\"] # print the first 3 rows of the table"
   ]
  },
  {
   "cell_type": "markdown",
   "metadata": {},
   "source": [
    "## **Raw data cone search**"
   ]
  },
  {
   "cell_type": "markdown",
   "metadata": {},
   "source": [
    "Similar cone search functionality is also available through `query_instrument()` and `query_main()` by passing the same `cone_ra`, `cone_dec`, and `cone_radius` arguments. For example:"
   ]
  },
  {
   "cell_type": "code",
   "execution_count": null,
   "metadata": {},
   "outputs": [
    {
     "data": {
      "text/html": [
       "<div><i>Table length=3</i>\n",
       "<table id=\"table5442670352\" class=\"table-striped table-bordered table-condensed\">\n",
       "<thead><tr><th>target_name</th><th>s_ra</th><th>s_dec</th><th>proposal_id</th><th>instrument_name</th><th>dp_id</th></tr></thead>\n",
       "<thead><tr><th></th><th>deg</th><th>deg</th><th></th><th></th><th></th></tr></thead>\n",
       "<thead><tr><th>object</th><th>float64</th><th>float64</th><th>object</th><th>object</th><th>object</th></tr></thead>\n",
       "<tr><td>GCRT</td><td>266.306198</td><td>-30.136131</td><td>381.C-0186(A)</td><td>HAWKI</td><td>ADP.2016-07-26T11:56:15.302</td></tr>\n",
       "<tr><td>GCRT</td><td>266.306022</td><td>-30.136066</td><td>381.C-0186(A)</td><td>HAWKI</td><td>ADP.2016-07-26T11:56:15.324</td></tr>\n",
       "<tr><td>GCRT</td><td>266.306022</td><td>-30.136066</td><td>381.C-0186(A)</td><td>HAWKI</td><td>ADP.2016-07-26T11:56:15.335</td></tr>\n",
       "</table></div>"
      ],
      "text/plain": [
       "<Table length=3>\n",
       "target_name    s_ra    ... instrument_name            dp_id           \n",
       "               deg     ...                                            \n",
       "   object    float64   ...      object                object          \n",
       "----------- ---------- ... --------------- ---------------------------\n",
       "       GCRT 266.306198 ...           HAWKI ADP.2016-07-26T11:56:15.302\n",
       "       GCRT 266.306022 ...           HAWKI ADP.2016-07-26T11:56:15.324\n",
       "       GCRT 266.306022 ...           HAWKI ADP.2016-07-26T11:56:15.335"
      ]
     },
     "execution_count": 10,
     "metadata": {},
     "output_type": "execute_result"
    }
   ],
   "source": [
    "table_raw = eso.query_instrument(\"HAWKI\",\n",
    "                            cone_ra=coords.ra.value, \n",
    "                            cone_dec=coords.dec.value, \n",
    "                            cone_radius=radius.to(\"deg\").value) # query the ESO archive for HAWKI data\n",
    "\n",
    "table_reduced[\"target_name\", \"s_ra\", \"s_dec\", \"proposal_id\", \"instrument_name\", \"dp_id\"] # print the first 3 rows of the table"
   ]
  },
  {
   "cell_type": "code",
   "execution_count": null,
   "metadata": {},
   "outputs": [
    {
     "data": {
      "text/html": [
       "<div><i>Table length=3</i>\n",
       "<table id=\"table5442638704\" class=\"table-striped table-bordered table-condensed\">\n",
       "<thead><tr><th>object</th><th>ra</th><th>dec</th><th>prog_id</th><th>instrument</th><th>dp_id</th></tr></thead>\n",
       "<thead><tr><th></th><th>deg</th><th>deg</th><th></th><th></th><th></th></tr></thead>\n",
       "<thead><tr><th>object</th><th>float64</th><th>float64</th><th>object</th><th>object</th><th>object</th></tr></thead>\n",
       "<tr><td>GCRT</td><td>266.30619805</td><td>-30.13448</td><td>381.C-0186(A)</td><td>HAWKI</td><td>HAWKI.2008-07-25T00:12:09.059</td></tr>\n",
       "<tr><td>GCRT</td><td>266.37044194</td><td>-30.07898</td><td>381.C-0186(A)</td><td>HAWKI</td><td>HAWKI.2008-07-25T00:14:09.186</td></tr>\n",
       "<tr><td>GCRT</td><td>266.36666194</td><td>-30.08555</td><td>381.C-0186(A)</td><td>HAWKI</td><td>HAWKI.2008-07-25T00:14:45.580</td></tr>\n",
       "</table></div>"
      ],
      "text/plain": [
       "<Table length=3>\n",
       "object      ra         dec    ... instrument             dp_id            \n",
       "           deg         deg    ...                                         \n",
       "object   float64     float64  ...   object               object           \n",
       "------ ------------ --------- ... ---------- -----------------------------\n",
       "  GCRT 266.30619805 -30.13448 ...      HAWKI HAWKI.2008-07-25T00:12:09.059\n",
       "  GCRT 266.37044194 -30.07898 ...      HAWKI HAWKI.2008-07-25T00:14:09.186\n",
       "  GCRT 266.36666194 -30.08555 ...      HAWKI HAWKI.2008-07-25T00:14:45.580"
      ]
     },
     "execution_count": 11,
     "metadata": {},
     "output_type": "execute_result"
    }
   ],
   "source": [
    "table_raw = eso.query_main(\"HAWKI\",\n",
    "                        cone_ra=coords.ra.value, \n",
    "                        cone_dec=coords.dec.value, \n",
    "                        cone_radius=radius.to(\"deg\").value) # query the ESO archive for HAWKI data\n",
    "\n",
    "table_raw[\"object\", \"ra\", \"dec\", \"prog_id\", \"instrument\", \"dp_id\"] # print the first 3 rows of the table"
   ]
  },
  {
   "cell_type": "markdown",
   "metadata": {},
   "source": [
    "# **Downloading datasets from the archive**"
   ]
  },
  {
   "cell_type": "markdown",
   "metadata": {},
   "source": [
    "The returned table has an ``dp_id`` column. It can be used to retrieve the datasets with ``retrieve_data()``.\n",
    "\n",
    "The file names, returned in ``data_files``, points to the decompressed datasets (without the .Z extension) that have been locally downloaded. \n",
    "\n",
    "The default location (in the ``astropy`` cache) of the decompressed datasets can be adjusted by providing a destination keyword in the call to ``retrieve_data()``. By default, if a requested dataset is already found, it is not downloaded again from the archive. To force the retrieval of data that are present in the destination directory, use ``continuation=True`` in the call to ``retrieve_data()``."
   ]
  },
  {
   "cell_type": "code",
   "execution_count": null,
   "metadata": {},
   "outputs": [
    {
     "name": "stdout",
     "output_type": "stream",
     "text": [
      "INFO: Downloading datasets ... [astroquery.eso.core]\n",
      "INFO: Downloading 1 files ... [astroquery.eso.core]\n",
      "INFO: Downloading file 1/1 https://dataportal.eso.org/dataPortal/file/HARPS.2003-06-18T09:06:13.920 to /Users/abarnes/.astropy/cache/astroquery/Eso [astroquery.eso.core]\n",
      "INFO: Found cached file /Users/abarnes/.astropy/cache/astroquery/Eso/HARPS.2003-06-18T09:06:13.920.fits [astroquery.eso.core]\n",
      "INFO: Done! [astroquery.eso.core]\n"
     ]
    }
   ],
   "source": [
    "data_files = eso.retrieve_data(table_raw[\"dp_id\"][0]) # download the first data product\n",
    "# data_files = eso.retrieve_data(table['dp_id'][0], continuation=True) # force the download of all files even if present in the destination directory\n",
    "# data_files = eso.retrieve_data(table['dp_id'][0], destination='./') # specify the destination directory for the download"
   ]
  },
  {
   "cell_type": "markdown",
   "metadata": {},
   "source": [
    "<hr style=\"border:2px solid #0281c9\"> </hr>"
   ]
  }
 ],
 "metadata": {
  "kernelspec": {
   "display_name": "tst",
   "language": "python",
   "name": "python3"
  },
  "language_info": {
   "codemirror_mode": {
    "name": "ipython",
    "version": 3
   },
   "file_extension": ".py",
   "mimetype": "text/x-python",
   "name": "python",
   "nbconvert_exporter": "python",
   "pygments_lexer": "ipython3",
   "version": "3.9.21"
  }
 },
 "nbformat": 4,
 "nbformat_minor": 2
}
