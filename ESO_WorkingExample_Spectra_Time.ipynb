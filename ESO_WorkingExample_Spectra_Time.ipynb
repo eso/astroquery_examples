{
 "cells": [
  {
   "cell_type": "markdown",
   "id": "7412f25a",
   "metadata": {},
   "source": [
    "<hr style=\"border:2px solid #0281c9\"> </hr>\n",
    "\n",
    "<img align=\"left\" alt=\"ESO Logo\" src=\"http://archive.eso.org/i/esologo.png\">  \n",
    "\n",
    "<div align=\"center\">\n",
    "  <h1 style=\"color: #0281c9; font-weight: bold;\">ESO Science Archive</h1> \n",
    "  <h2 style=\"color: #0281c9; font-weight: bold;\">Jupyter Notebooks</h2>\n",
    "</div>\n",
    "\n",
    "<hr style=\"border:2px solid #0281c9\"> </hr>"
   ]
  },
  {
   "cell_type": "markdown",
   "id": "436aef8d",
   "metadata": {},
   "source": [
    "# **Query by Source Name (position) and Examine Spectral Data as function of time**\n",
    "\n",
    "This notebook guides users on how to query science-ready spectral databases from ESO, filter the desired observations, and perform cutouts of specific spectral regions before downloading the data. It provides an example science case focusing on creating a spectral sequence for the well-known Beta Pictoris system. The presence of exo-comets is inferred from the stochastic appearances and disappearances of narrow absorption components in gas tracers such as Calcium, caused by the sublimated gas tails of the comets eclipsing our line of sight towards the star.\n",
    "\n",
    "In addition to querying and downloading data, this notebook also demonstrates how to visualize the spectra and create animated GIFs to illustrate spectral changes over time. The GIFs provide dynamic views of the spectral data, including both cumulative and non-cumulative perspectives, enhancing the analysis of temporal variations.\n",
    "\n",
    "--- \n",
    "**Author**: Catalina Sáez Carvajal (modified by Ashley Thomas Barnes)\n",
    "<hr style=\"border:2px solid #0281c9\"> </hr>"
   ]
  },
  {
   "cell_type": "markdown",
   "id": "17e3578c",
   "metadata": {},
   "source": [
    "# **Importing and basic usage of astroquery.eso**"
   ]
  },
  {
   "cell_type": "code",
   "execution_count": null,
   "id": "e92039e3",
   "metadata": {},
   "outputs": [],
   "source": [
    "import astroquery # import astroquery\n",
    "print(f\"astroquery version: {astroquery.__version__}\") # check the version of astroquery"
   ]
  },
  {
   "cell_type": "code",
   "execution_count": null,
   "id": "56a31478",
   "metadata": {},
   "outputs": [],
   "source": [
    "from astroquery.eso import Eso # import the ESO module from astroquery"
   ]
  },
  {
   "cell_type": "code",
   "execution_count": null,
   "id": "e9fcb606",
   "metadata": {},
   "outputs": [],
   "source": [
    "eso = Eso() # create an instance of the ESO class "
   ]
  },
  {
   "cell_type": "code",
   "execution_count": null,
   "id": "5a43036c",
   "metadata": {},
   "outputs": [],
   "source": [
    "# Numerical and Data Handling\n",
    "import numpy as np  # Numerical operations and array handling\n",
    "import pandas as pd  # Data manipulation and analysis\n",
    "\n",
    "# Astronomy and Astropy Core\n",
    "import astropy.units as u  # Physical units and quantities\n",
    "import astropy.constants as const  # Physical constants (e.g., c, G, h)\n",
    "from astropy.io import fits  # Reading and writing FITS files\n",
    "from astropy.coordinates import SkyCoord  # Celestial coordinate handling and transformations\n",
    "from astropy.time import Time  # Time conversion and formatting (e.g., Julian Date, ISO)\n",
    "\n",
    "# Visualization\n",
    "import matplotlib.pyplot as plt  # Core plotting library\n",
    "from matplotlib.animation import FuncAnimation, PillowWriter  # Animation tools for dynamic plots\n",
    "\n",
    "# Coronagraph Simulation\n",
    "import coronagraph as cg  # Tools for modeling coronagraph instrument performance\n",
    "\n",
    "# Stop Warnings \n",
    "import warnings  # Standard Python module for issuing warnings\n",
    "warnings.filterwarnings(\"ignore\")  # Ignore all warnings, useful for cleaner output in notebooks or scripts"
   ]
  },
  {
   "cell_type": "markdown",
   "id": "09231a7b",
   "metadata": {},
   "source": [
    "**Note:** In the above, we import a relatively non-standard module `coronagraph` but this can be easily intalled with the following:\n",
    "```bash\n",
    "pip install coronagraph\n",
    "```\n",
    "Also note that this will fail to import for SciPy > `1.12.0` so run the following if getting an error. \n",
    "```bash\n",
    "pip install scipy==1.11.4\n",
    "```"
   ]
  },
  {
   "cell_type": "code",
   "execution_count": null,
   "id": "fd61d6c5",
   "metadata": {},
   "outputs": [],
   "source": [
    "# Set the default font size and weight for plots\n",
    "plt.rcParams['font.weight'] = 'bold'\n",
    "plt.rcParams['axes.labelweight'] = 'bold'\n",
    "plt.rcParams['axes.titleweight'] = 'bold'\n",
    "plt.rcParams['xtick.direction'] = 'in'\n",
    "plt.rcParams['xtick.top'] = True\n",
    "plt.rcParams['xtick.minor.visible'] = True\n",
    "plt.rcParams['ytick.direction'] = 'in'\n",
    "plt.rcParams['ytick.right'] = True\n",
    "plt.rcParams['ytick.minor.visible'] = True\n",
    "plt.rcParams['figure.dpi'] = 200"
   ]
  },
  {
   "cell_type": "markdown",
   "id": "cef4aa80",
   "metadata": {},
   "source": [
    "# **Performing a Small Cone Search Around Target**"
   ]
  },
  {
   "cell_type": "markdown",
   "id": "72ae9af6",
   "metadata": {},
   "source": [
    "In this example, we are interested in finding datasets within 5 arcseconds of **Beta Pictoris**, making a cone search particularly useful. You can either use the object's equatorial coordinates directly or employ a name resolver like SESAME (from CDS) to retrieve them. This defines a circular search region characterized by three parameters: right ascension (RA), declination (Dec), and radius, all expressed in degrees.\n"
   ]
  },
  {
   "cell_type": "code",
   "execution_count": null,
   "id": "6710403e",
   "metadata": {},
   "outputs": [],
   "source": [
    "star_name = 'Beta Pictoris'\n",
    "coords_BetaPec = SkyCoord.from_name(star_name)\n",
    "\n",
    "radius = 5 *u.arcsec # Radius of the search area"
   ]
  },
  {
   "cell_type": "markdown",
   "id": "97b48e08",
   "metadata": {},
   "source": [
    "Define the current date and time to get only currently public observations (i.e. with `obs_release_date` later than now)."
   ]
  },
  {
   "cell_type": "code",
   "execution_count": null,
   "id": "adea4f59",
   "metadata": {},
   "outputs": [],
   "source": [
    "now = Time.now() # Get the current time\n",
    "now = str(now.datetime64.astype('datetime64[s]')) # Convert to datetime64 format"
   ]
  },
  {
   "cell_type": "markdown",
   "id": "070c2280",
   "metadata": {},
   "source": [
    "Now, to look for a given reduced dataset, we perform the cone search intersecting a circle of 5 arcseconds around our target. The query is written in ADQL (Astronomical Data Query Language).\n",
    "\n",
    "In this query we specify:\n",
    "- **Radius (``radius``)**: Filtering of 5 arcsec around position \n",
    "- **Spectral Resolving Power (`em_res_power`)**: Filtering datasets with a resolving power greater than 40000.\n",
    "- **Data Product Type (`data_types`)**: Filtering for spectral data.\n",
    "- **Spectral Bounds (`em_min` and `em_max`)**: Selecting spectra that cover the vacuum wavelength range expressed in meters. Note that here we include the `enclosed=False`, which states the condition will be `em_min < em_min` and `em_max > em_max`.\n",
    "- **Signal to Noise Ratio (`snr`)**: Selecting datasets with SNR greater than 300.\n",
    "- **Instrument Name (`instrument_name`)**: Restricting the search to objects observed by HARPS.\n",
    "- **Top 10 Objects**: Selecting the top 10 objects with the highest SNR."
   ]
  },
  {
   "cell_type": "code",
   "execution_count": null,
   "id": "ad4108de",
   "metadata": {},
   "outputs": [],
   "source": [
    "table = eso.query_surveys(column_filters={\n",
    "                                        \"instrument_name\": \"HARPS\",\n",
    "                                        \"dataproduct_type\": \"spectrum\",\n",
    "                                        \"em_min\": \"<3.933643e-07\",\n",
    "                                        \"em_max\": \">3.933683e-07\",\n",
    "                                        \"snr\": \">300\",\n",
    "                                        \"em_res_power\": \">40000\", \n",
    "                                        \"obs_release_date\": f\"<= '{now}'\"},\n",
    "                        cone_ra=coords_BetaPec.ra.value, \n",
    "                        cone_dec=coords_BetaPec.dec.value, \n",
    "                        cone_radius=radius.to(\"deg\").value) "
   ]
  },
  {
   "cell_type": "code",
   "execution_count": null,
   "id": "6ece9222",
   "metadata": {},
   "outputs": [],
   "source": [
    "table.sort(['instrument_name', 'dp_id'])\n",
    "table[\"target_name\", \"instrument_name\", \"proposal_id\", \"obs_id\", \"obs_collection\", \"obstech\", \"dp_id\"]"
   ]
  },
  {
   "cell_type": "markdown",
   "id": "72418c38",
   "metadata": {},
   "source": [
    "# **Downloading datasets from the archive**"
   ]
  },
  {
   "cell_type": "code",
   "execution_count": null,
   "id": "4aab41db",
   "metadata": {},
   "outputs": [],
   "source": [
    "data_files = eso.retrieve_data(table['dp_id'], destination='./data/') "
   ]
  },
  {
   "cell_type": "markdown",
   "id": "888619d9",
   "metadata": {},
   "source": [
    "---\n",
    "# **Explore the data**"
   ]
  },
  {
   "cell_type": "markdown",
   "id": "ad542b27",
   "metadata": {},
   "source": [
    "**Function: Spectra_parameters**\n",
    "\n",
    "First, we define the function `Spectra_parameters`, which calculates spectral parameters using a reference wavelength (`ref`), a resolution (`R`), and a variable range (`var`). This function constructs the wavelength array, computes the corresponding velocities, and then saves the velocity data to a CSV file.\n"
   ]
  },
  {
   "cell_type": "code",
   "execution_count": null,
   "id": "2afff04a",
   "metadata": {},
   "outputs": [],
   "source": [
    "def Spectra_parameters(ref=3933.7, R=115000, var=20):\n",
    "    \"\"\"Calculate spectral parameters based on reference wavelength, resolution, and variable range\n",
    "    \n",
    "    Parameters:\n",
    "    ref (int): Reference wavelength in nm (CaII K in the air expressed in Angstrom)\n",
    "    R (int): Spectral resolution\n",
    "    var (int): Variable range in nm\n",
    "\n",
    "    Returns:\n",
    "    wl (array): Wavelength array\n",
    "    dwl (array): Wavelength step size\n",
    "    velocity (array): Velocity array\n",
    "    vel (DataFrame): DataFrame with velocities\n",
    "    lammin (int): Minimum wavelength\n",
    "    lammax (int): Maximum wavelength\n",
    "    \"\"\"\n",
    "\n",
    "    # Define the wavelength range around the reference\n",
    "    lammin = ref-var\n",
    "    lammax = ref+var\n",
    "    \n",
    "    # Construct the wavelength array and wavelength step size using the coronagraph module\n",
    "    c = const.c.to('km/s').value # Speed of light in km/s\n",
    "    wl, dwl = cg.noise_routines.construct_lam(lammin, lammax, R)\n",
    "    velocity = c*((wl-ref)/wl) # Calculate the velocity for each wavelength\n",
    "    vel = pd.DataFrame(data=velocity,columns=['Velocity']) # Create a DataFrame with the velocities\n",
    "    vel.to_csv('./data/velocity.csv') #Save the velocity data to a CSV file\n",
    "    \n",
    "    return wl, dwl, velocity, vel, lammin, lammax\n",
    "\n",
    "#Calculate spectral parameters\n",
    "wl, dwl, velocity, vel, lammin, lammax = Spectra_parameters()"
   ]
  },
  {
   "cell_type": "markdown",
   "id": "fd79a47f",
   "metadata": {},
   "source": [
    "**Processing FITS Files and Plotting Spectra**\n",
    "\n",
    "In this section, we process the FITS files that were previously downloaded. For each file, we open it, extract the spectral data from extension 1, normalize the flux, calculate the velocity, and generate a plot of the spectral data.\n",
    "\n",
    " The processed data is stored in a DataFrame for further analysis, while observation dates are recorded in a separate DataFrame."
   ]
  },
  {
   "cell_type": "code",
   "execution_count": null,
   "id": "8cfc9f7b",
   "metadata": {},
   "outputs": [],
   "source": [
    "for i in range(len(data_files)):\n",
    "\n",
    "    # Construct the full path to the FITS file\n",
    "    # file_name = f'{output_dir}/{result_from_queries[i][\"dp_id\"]}_TARGET_{int(em_min_cut*1e9)}-{int(em_max_cut*1e9)}.fits'\n",
    "    file_name = data_files[i]\n",
    "\n",
    "    hdulist = fits.open(file_name) # Open the FITS file\n",
    "    scidata = hdulist[1].data # Bintable extension\n",
    "    wave = scidata[0][0] # Wavelength data\n",
    "    flux = scidata[0][1] # Flux data\n",
    "    contf = flux[np.logical_and(wave > lammin, wave < lammax)] #Select fluxes within the wavelength range\n",
    "    natwav = wave[np.logical_and(wave > lammin, wave < lammax)] # Select wavelengths within the range\n",
    "    natf = contf/np.percentile(contf, 95) # Normalize the flux to the 95th percentile\n",
    "    flr = cg.downbin_spec(natf, natwav, wl, dlam=dwl) # Downsample the spectrum \n",
    "    \n",
    "    # For subsequent iterations (i > 0), add the new flux data to the existing DataFrame df.\n",
    "    if i==0:\n",
    "        # If this is the first iteration (i == 0), create a new DataFrame df to store the flux data.\n",
    "        df = pd.DataFrame(data=flr, columns=[table[i]['dp_id']])\n",
    "        # Create another DataFrame df2 to store the observation date (MJD) of the file.\n",
    "        df2 = pd.DataFrame(data=[[table[i]['dp_id'],hdulist[0].header['MJD-OBS']]],columns=['dp_id', 'MJD'])\n",
    "    \n",
    "    else:\n",
    "        # For subsequent iterations (i > 0), add the new flux data to the existing DataFrame df.\n",
    "        df[table[i]['dp_id']] = flr\n",
    "        \n",
    "        # Add the new observation date to the existing DataFrame df2.\n",
    "        df2.loc[i] = [table[i]['dp_id'], hdulist[0].header['MJD-OBS']]"
   ]
  },
  {
   "cell_type": "markdown",
   "id": "522bc8bc",
   "metadata": {},
   "source": [
    "## **Visualizing Spectra with a Static Plot**\n",
    "\n",
    "To begin, we generate a static plot that displays the normalized flux as a function of velocity for all spectra in our dataset. For clarity, individual spectra are shown in grey, while the mean spectrum is highlighted in red to improve visualization and facilitate comparison.\n",
    "\n",
    "First, we create a static plot showing the normalized flux versus velocity for all the spectra in our dataset. For clarity, we overlay individual spectra in grey and plot the mean spectrum in red to enhance visualization."
   ]
  },
  {
   "cell_type": "code",
   "execution_count": null,
   "id": "c910440d",
   "metadata": {},
   "outputs": [],
   "source": [
    "fig, ax = plt.subplots(1,2,figsize=(10,4))\n",
    "\n",
    "# Loop through each spectrum in the DataFrame df2\n",
    "for i in range(df2.shape[0]):\n",
    "    # Plot the normalized flux against velocity for each individual spectrum in grey with some transparency\n",
    "    ax[0].plot(velocity,df[df2['dp_id'][i]].values, c='grey', alpha=0.1)\n",
    "    ax[1].plot(velocity,df[df2['dp_id'][i]].values, c='grey', alpha=0.1)\n",
    "\n",
    "# Plot the mean of all spectra in red with a slightly thicker line and reduced transparency to highlight it\n",
    "\n",
    "ax[0].plot(velocity,df.mean(axis=1).values, color='C1', lw=2, alpha=0.8)\n",
    "ax[0].set_xlabel('Velocity (km/s)')\n",
    "ax[0].set_ylabel('Norm Flux')\n",
    "\n",
    "ax[1].plot(velocity,df.mean(axis=1).values, color='C1', lw=2, alpha=0.8)\n",
    "ax[1].set_xlabel('Velocity (km/s)')\n",
    "ax[1].set_ylabel('Norm Flux')\n",
    "ax[1].set_xlim(-200,200)\n",
    "ax[1].set_ylim(-0.03,0.56)\n",
    "\n",
    "fig.suptitle('CaII K on Beta Pictoris', fontsize=14, fontweight='bold')\n",
    "fig.tight_layout()\n",
    "fig.savefig('./figs/BetaPictoris_static.png', transparent=True)"
   ]
  },
  {
   "cell_type": "markdown",
   "id": "4d86134e",
   "metadata": {},
   "source": [
    "## **Visualizing Spectra with a Animated Plot - Cumulative**\n",
    "\n",
    "We create an animated GIF that visualizes cumulative spectral data over time. This animation allows us to observe how the spectral features evolve as new data is accumulated."
   ]
  },
  {
   "cell_type": "code",
   "execution_count": null,
   "id": "a064b602",
   "metadata": {},
   "outputs": [],
   "source": [
    "# Input MJD \n",
    "time_mjd = Time(df2['MJD'][0], format='mjd') # Convert MJD to Time object\n",
    "time_mjd.datetime64.astype('datetime64[s]') # Convert to datetime64 format"
   ]
  },
  {
   "cell_type": "code",
   "execution_count": null,
   "id": "92d91ab2",
   "metadata": {},
   "outputs": [],
   "source": [
    "# Create a figure and axis for plotting\n",
    "fig, ax = plt.subplots(1, 1, figsize=(6,4))\n",
    "# Add small subplot in corner \n",
    "ax_sub = fig.add_axes([0.57, 0.2, 0.3, 0.3]) # [left, bottom, width, height]\n",
    "\n",
    "plt.suptitle('CaII K on Beta Pictoris', fontsize=14, fontweight='bold')\n",
    "\n",
    "nframes = df.shape[1] # Determine the number of frames based on the number of columns in the DataFrame\n",
    "# nframes = 10\n",
    "\n",
    "# Function to animate each frame\n",
    "def animate(i):\n",
    "\n",
    "    # Plot the mean values of the DataFrame as a red line\n",
    "    line, = ax.plot(velocity, df.mean(axis=1).values, color='C1', lw=1, alpha=0.8, ls='--')\n",
    "    line1, = ax_sub.plot(velocity, df.mean(axis=1).values, color='C1', lw=1, alpha=0.8, ls='--')\n",
    "    \n",
    "    # Plot the values of the DataFrame for a specific dp_id as a grey line\n",
    "    line2, = ax.plot(velocity, df[df2['dp_id'][i]].values, color = 'grey', alpha=0.1)\n",
    "    line3, = ax_sub.plot(velocity, df[df2['dp_id'][i]].values, color = 'grey', alpha=0.1)\n",
    "\n",
    "    for txt in ax.texts:\n",
    "        txt.set_visible(False) # Hide the previous text object\n",
    "    for txt in ax_sub.texts:\n",
    "        txt.set_visible(False) # Hide the previous text object\n",
    "\n",
    "    # Add text annotations for MJD and dp_id\n",
    "    time_mjd = Time(df2['MJD'][i], format='mjd') # Convert MJD to Time object\n",
    "    time_mjd = str(time_mjd.datetime64.astype('datetime64[s]')) # Convert to datetime64 format\n",
    "\n",
    "    ax.text(0.02, 0.15, 'DATE: %s' %time_mjd.split('T')[0], transform=ax.transAxes, fontsize=10, fontweight='bold')\n",
    "    ax.text(0.02, 0.1, 'TIME: %s' %time_mjd.split('T')[1], transform=ax.transAxes, fontsize=10, fontweight='bold')\n",
    "    ax.text(0.02, 0.05, 'MJD: %0.2f' %df2[\"MJD\"][i], transform=ax.transAxes, fontsize=10, fontweight='bold')\n",
    "    \n",
    "    ax.set_xlabel('Velocity (km/s)')\n",
    "    ax.set_ylabel('Norm Flux')\n",
    "\n",
    "    ax.set_xlim(-1200,1500)\n",
    "    ax.set_ylim(-0.05,1.05)\n",
    "\n",
    "    ax_sub.set_xlim(-100,140)\n",
    "    ax_sub.set_ylim(-0.03,0.56)\n",
    "\n",
    "    return line, line1, line2, line3\n",
    "        \n",
    "# Create the animation object\n",
    "ani = FuncAnimation(fig, # The figure to animate\n",
    "                    animate, # The function to call for each frame\n",
    "                    interval=4, # Delay between frames in milliseconds\n",
    "                    blit=True,  # Optimize by only redrawing parts that have changed\n",
    "                    repeat=True, # Repeat the animation indefinitely\n",
    "                    frames=range(nframes), # Number of frames in the animation\n",
    "                    cache_frame_data=False) \n",
    "   \n",
    "ani.save('./figs/BetaPictoris_faster.gif', dpi=300, writer=PillowWriter(fps=10))"
   ]
  }
 ],
 "metadata": {
  "kernelspec": {
   "display_name": "tst",
   "language": "python",
   "name": "python3"
  },
  "language_info": {
   "codemirror_mode": {
    "name": "ipython",
    "version": 3
   },
   "file_extension": ".py",
   "mimetype": "text/x-python",
   "name": "python",
   "nbconvert_exporter": "python",
   "pygments_lexer": "ipython3",
   "version": "3.9.21"
  }
 },
 "nbformat": 4,
 "nbformat_minor": 5
}
